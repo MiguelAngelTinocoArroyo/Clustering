{
  "cells": [
    {
      "cell_type": "code",
      "execution_count": 9,
      "metadata": {
        "id": "R15K9MhYzuib"
      },
      "outputs": [],
      "source": [
        "# importing necessary libraries\n",
        "import pandas as pd\n",
        "import numpy as np\n",
        "import seaborn as sns\n",
        "import warnings\n",
        "warnings.filterwarnings('ignore')"
      ]
    },
    {
      "cell_type": "code",
      "execution_count": 10,
      "metadata": {
        "id": "pVkZaJ9Jz4Bi"
      },
      "outputs": [],
      "source": [
        "from kmodes.kmodes import KModes\n",
        "import matplotlib.pyplot as plt\n",
        "%matplotlib inline"
      ]
    },
    {
      "cell_type": "code",
      "execution_count": 11,
      "metadata": {
        "colab": {
          "base_uri": "https://localhost:8080/",
          "height": 436
        },
        "id": "XVq-dRJP0K62",
        "outputId": "f4cbf465-2490-4d32-e96f-ddc7b138d687"
      },
      "outputs": [
        {
          "data": {
            "text/html": [
              "<div>\n",
              "<style scoped>\n",
              "    .dataframe tbody tr th:only-of-type {\n",
              "        vertical-align: middle;\n",
              "    }\n",
              "\n",
              "    .dataframe tbody tr th {\n",
              "        vertical-align: top;\n",
              "    }\n",
              "\n",
              "    .dataframe thead th {\n",
              "        text-align: right;\n",
              "    }\n",
              "</style>\n",
              "<table border=\"1\" class=\"dataframe\">\n",
              "  <thead>\n",
              "    <tr style=\"text-align: right;\">\n",
              "      <th></th>\n",
              "      <th>Titulo</th>\n",
              "      <th>Link</th>\n",
              "      <th>Precio Normal</th>\n",
              "      <th>Precio Online</th>\n",
              "      <th>Modelo</th>\n",
              "      <th>Marca</th>\n",
              "      <th>Tarjeta de Video</th>\n",
              "      <th>Procesador</th>\n",
              "      <th>Memoria Ram</th>\n",
              "      <th>Pulgadas Pantalla</th>\n",
              "      <th>Tipo de Almacenamiento</th>\n",
              "      <th>Almacenamiento</th>\n",
              "      <th>Tipo de Pantalla</th>\n",
              "      <th>Tipo de Memoria Ram</th>\n",
              "      <th>Tienda</th>\n",
              "    </tr>\n",
              "  </thead>\n",
              "  <tbody>\n",
              "    <tr>\n",
              "      <th>0</th>\n",
              "      <td>Laptop Asus ROG Flow X13 GV301QH 13.4\" AMD Ryz...</td>\n",
              "      <td>https://hiraoka.com.pe/computo-y-tecnologia/co...</td>\n",
              "      <td>15199.0</td>\n",
              "      <td>15199</td>\n",
              "      <td>ROG Flow X13 GV301QH</td>\n",
              "      <td>ASUS</td>\n",
              "      <td>NVIDIA GeForce GTX 1650</td>\n",
              "      <td>AMD Ryzen 9</td>\n",
              "      <td>16GB</td>\n",
              "      <td>13.4''</td>\n",
              "      <td>SSD</td>\n",
              "      <td>1TB</td>\n",
              "      <td>WUXGA</td>\n",
              "      <td>DDR4</td>\n",
              "      <td>Hiraoka</td>\n",
              "    </tr>\n",
              "    <tr>\n",
              "      <th>1</th>\n",
              "      <td>Laptop Gamer Acer PT516-51S-76HY 16\" Intel Cor...</td>\n",
              "      <td>https://hiraoka.com.pe/computo-y-tecnologia/co...</td>\n",
              "      <td>13999.0</td>\n",
              "      <td>13399</td>\n",
              "      <td>PT516-51S-76HY</td>\n",
              "      <td>ACER</td>\n",
              "      <td>NVIDIA GeForce RTX 3080</td>\n",
              "      <td>Intel Core i7</td>\n",
              "      <td>8GB</td>\n",
              "      <td>16''</td>\n",
              "      <td>SSD</td>\n",
              "      <td>1TB</td>\n",
              "      <td>WQXGA</td>\n",
              "      <td>DDR4</td>\n",
              "      <td>Hiraoka</td>\n",
              "    </tr>\n",
              "  </tbody>\n",
              "</table>\n",
              "</div>"
            ],
            "text/plain": [
              "                                              Titulo  \\\n",
              "0  Laptop Asus ROG Flow X13 GV301QH 13.4\" AMD Ryz...   \n",
              "1  Laptop Gamer Acer PT516-51S-76HY 16\" Intel Cor...   \n",
              "\n",
              "                                                Link  Precio Normal  \\\n",
              "0  https://hiraoka.com.pe/computo-y-tecnologia/co...        15199.0   \n",
              "1  https://hiraoka.com.pe/computo-y-tecnologia/co...        13999.0   \n",
              "\n",
              "   Precio Online                Modelo Marca          Tarjeta de Video  \\\n",
              "0          15199  ROG Flow X13 GV301QH  ASUS  NVIDIA GeForce GTX 1650    \n",
              "1          13399        PT516-51S-76HY  ACER   NVIDIA GeForce RTX 3080   \n",
              "\n",
              "      Procesador Memoria Ram Pulgadas Pantalla Tipo de Almacenamiento  \\\n",
              "0    AMD Ryzen 9        16GB            13.4''                    SSD   \n",
              "1  Intel Core i7         8GB              16''                    SSD   \n",
              "\n",
              "  Almacenamiento Tipo de Pantalla Tipo de Memoria Ram   Tienda  \n",
              "0            1TB            WUXGA                DDR4  Hiraoka  \n",
              "1            1TB            WQXGA                DDR4  Hiraoka  "
            ]
          },
          "execution_count": 11,
          "metadata": {},
          "output_type": "execute_result"
        }
      ],
      "source": [
        "df = pd.read_csv('../Data/df_total.csv', sep=\";\") \n",
        "df.head(2)"
      ]
    },
    {
      "cell_type": "code",
      "execution_count": 12,
      "metadata": {
        "colab": {
          "base_uri": "https://localhost:8080/"
        },
        "id": "_jTfKKGXdWur",
        "outputId": "60a479f5-7bcb-4454-fcfd-79cdf1fe6212"
      },
      "outputs": [
        {
          "data": {
            "text/plain": [
              "0      15199.0\n",
              "1      13999.0\n",
              "2      13699.0\n",
              "3      13075.0\n",
              "4      14959.0\n",
              "        ...   \n",
              "238     1319.0\n",
              "239     1899.0\n",
              "240     2329.0\n",
              "241     1099.0\n",
              "242     1080.0\n",
              "Name: Precio Normal, Length: 243, dtype: float64"
            ]
          },
          "execution_count": 12,
          "metadata": {},
          "output_type": "execute_result"
        }
      ],
      "source": [
        "df['Precio Normal'] = df['Precio Normal'].fillna(0)\n",
        "df['Precio Normal'] = np.where(df['Precio Normal']==0.0, df['Precio Online'], df['Precio Normal'])\n",
        "df['Precio Normal']"
      ]
    },
    {
      "cell_type": "code",
      "execution_count": 13,
      "metadata": {
        "colab": {
          "base_uri": "https://localhost:8080/",
          "height": 572
        },
        "id": "rrpfCM8iIcKc",
        "outputId": "5db68186-8888-4755-d763-cf40ba9718af"
      },
      "outputs": [
        {
          "data": {
            "text/html": [
              "<div>\n",
              "<style scoped>\n",
              "    .dataframe tbody tr th:only-of-type {\n",
              "        vertical-align: middle;\n",
              "    }\n",
              "\n",
              "    .dataframe tbody tr th {\n",
              "        vertical-align: top;\n",
              "    }\n",
              "\n",
              "    .dataframe thead th {\n",
              "        text-align: right;\n",
              "    }\n",
              "</style>\n",
              "<table border=\"1\" class=\"dataframe\">\n",
              "  <thead>\n",
              "    <tr style=\"text-align: right;\">\n",
              "      <th></th>\n",
              "      <th>Titulo</th>\n",
              "      <th>Link</th>\n",
              "      <th>Precio Normal</th>\n",
              "      <th>Precio Online</th>\n",
              "      <th>Modelo</th>\n",
              "      <th>Marca</th>\n",
              "      <th>Tarjeta de Video</th>\n",
              "      <th>Procesador</th>\n",
              "      <th>Memoria Ram</th>\n",
              "      <th>Pulgadas Pantalla</th>\n",
              "      <th>Tipo de Almacenamiento</th>\n",
              "      <th>Almacenamiento</th>\n",
              "      <th>Tipo de Pantalla</th>\n",
              "      <th>Tipo de Memoria Ram</th>\n",
              "      <th>Tienda</th>\n",
              "    </tr>\n",
              "  </thead>\n",
              "  <tbody>\n",
              "    <tr>\n",
              "      <th>0</th>\n",
              "      <td>Laptop Asus ROG Flow X13 GV301QH 13.4\" AMD Ryz...</td>\n",
              "      <td>https://hiraoka.com.pe/computo-y-tecnologia/co...</td>\n",
              "      <td>15199.0</td>\n",
              "      <td>15199</td>\n",
              "      <td>ROG Flow X13 GV301QH</td>\n",
              "      <td>ASUS</td>\n",
              "      <td>NVIDIA GeForce GTX 1650</td>\n",
              "      <td>AMD Ryzen 9</td>\n",
              "      <td>16GB</td>\n",
              "      <td>13.4''</td>\n",
              "      <td>SSD</td>\n",
              "      <td>1TB</td>\n",
              "      <td>WUXGA</td>\n",
              "      <td>DDR4</td>\n",
              "      <td>Hiraoka</td>\n",
              "    </tr>\n",
              "    <tr>\n",
              "      <th>1</th>\n",
              "      <td>Laptop Gamer Acer PT516-51S-76HY 16\" Intel Cor...</td>\n",
              "      <td>https://hiraoka.com.pe/computo-y-tecnologia/co...</td>\n",
              "      <td>13999.0</td>\n",
              "      <td>13399</td>\n",
              "      <td>PT516-51S-76HY</td>\n",
              "      <td>ACER</td>\n",
              "      <td>NVIDIA GeForce RTX 3080</td>\n",
              "      <td>Intel Core i7</td>\n",
              "      <td>8GB</td>\n",
              "      <td>16''</td>\n",
              "      <td>SSD</td>\n",
              "      <td>1TB</td>\n",
              "      <td>WQXGA</td>\n",
              "      <td>DDR4</td>\n",
              "      <td>Hiraoka</td>\n",
              "    </tr>\n",
              "    <tr>\n",
              "      <th>2</th>\n",
              "      <td>Laptop Gamer ASUS ROG Flow X13 GV301QH 13.4'' ...</td>\n",
              "      <td>https://www.oechsle.pe/laptop-gamer-asus-rog-f...</td>\n",
              "      <td>13699.0</td>\n",
              "      <td>13099</td>\n",
              "      <td>GV301QH-K6320T</td>\n",
              "      <td>ASUS</td>\n",
              "      <td>AMD</td>\n",
              "      <td>AMD Ryzen 9</td>\n",
              "      <td>16GB</td>\n",
              "      <td>13.4''</td>\n",
              "      <td>SSD</td>\n",
              "      <td>1TB</td>\n",
              "      <td>IPS</td>\n",
              "      <td>NaN</td>\n",
              "      <td>Oechsle</td>\n",
              "    </tr>\n",
              "  </tbody>\n",
              "</table>\n",
              "</div>"
            ],
            "text/plain": [
              "                                              Titulo  \\\n",
              "0  Laptop Asus ROG Flow X13 GV301QH 13.4\" AMD Ryz...   \n",
              "1  Laptop Gamer Acer PT516-51S-76HY 16\" Intel Cor...   \n",
              "2  Laptop Gamer ASUS ROG Flow X13 GV301QH 13.4'' ...   \n",
              "\n",
              "                                                Link  Precio Normal  \\\n",
              "0  https://hiraoka.com.pe/computo-y-tecnologia/co...        15199.0   \n",
              "1  https://hiraoka.com.pe/computo-y-tecnologia/co...        13999.0   \n",
              "2  https://www.oechsle.pe/laptop-gamer-asus-rog-f...        13699.0   \n",
              "\n",
              "   Precio Online                Modelo Marca          Tarjeta de Video  \\\n",
              "0          15199  ROG Flow X13 GV301QH  ASUS  NVIDIA GeForce GTX 1650    \n",
              "1          13399        PT516-51S-76HY  ACER   NVIDIA GeForce RTX 3080   \n",
              "2          13099        GV301QH-K6320T  ASUS                       AMD   \n",
              "\n",
              "      Procesador Memoria Ram Pulgadas Pantalla Tipo de Almacenamiento  \\\n",
              "0    AMD Ryzen 9        16GB            13.4''                    SSD   \n",
              "1  Intel Core i7         8GB              16''                    SSD   \n",
              "2    AMD Ryzen 9        16GB            13.4''                    SSD   \n",
              "\n",
              "  Almacenamiento Tipo de Pantalla Tipo de Memoria Ram   Tienda  \n",
              "0            1TB            WUXGA                DDR4  Hiraoka  \n",
              "1            1TB            WQXGA                DDR4  Hiraoka  \n",
              "2            1TB              IPS                 NaN  Oechsle  "
            ]
          },
          "execution_count": 13,
          "metadata": {},
          "output_type": "execute_result"
        }
      ],
      "source": [
        "df.head(3)"
      ]
    },
    {
      "cell_type": "code",
      "execution_count": 14,
      "metadata": {
        "colab": {
          "base_uri": "https://localhost:8080/"
        },
        "id": "VkGFumEh4GF9",
        "outputId": "11d1230e-88dc-434d-8f75-52bf7d576c3d"
      },
      "outputs": [
        {
          "name": "stdout",
          "output_type": "stream",
          "text": [
            "<class 'pandas.core.frame.DataFrame'>\n",
            "RangeIndex: 243 entries, 0 to 242\n",
            "Data columns (total 15 columns):\n",
            " #   Column                  Non-Null Count  Dtype  \n",
            "---  ------                  --------------  -----  \n",
            " 0   Titulo                  243 non-null    object \n",
            " 1   Link                    243 non-null    object \n",
            " 2   Precio Normal           243 non-null    float64\n",
            " 3   Precio Online           243 non-null    int64  \n",
            " 4   Modelo                  243 non-null    object \n",
            " 5   Marca                   243 non-null    object \n",
            " 6   Tarjeta de Video        235 non-null    object \n",
            " 7   Procesador              243 non-null    object \n",
            " 8   Memoria Ram             243 non-null    object \n",
            " 9   Pulgadas Pantalla       243 non-null    object \n",
            " 10  Tipo de Almacenamiento  243 non-null    object \n",
            " 11  Almacenamiento          243 non-null    object \n",
            " 12  Tipo de Pantalla        239 non-null    object \n",
            " 13  Tipo de Memoria Ram     119 non-null    object \n",
            " 14  Tienda                  243 non-null    object \n",
            "dtypes: float64(1), int64(1), object(13)\n",
            "memory usage: 28.6+ KB\n"
          ]
        }
      ],
      "source": [
        "# Observando los valores nulos \n",
        "df.info()"
      ]
    },
    {
      "cell_type": "code",
      "execution_count": 15,
      "metadata": {
        "colab": {
          "base_uri": "https://localhost:8080/"
        },
        "id": "_z0Gps7fXJQ_",
        "outputId": "edd92bdc-72f2-4f52-8c6a-b17eac089aec"
      },
      "outputs": [
        {
          "data": {
            "text/plain": [
              "Titulo                      0\n",
              "Link                        0\n",
              "Precio Normal               0\n",
              "Precio Online               0\n",
              "Modelo                      0\n",
              "Marca                       0\n",
              "Tarjeta de Video            8\n",
              "Procesador                  0\n",
              "Memoria Ram                 0\n",
              "Pulgadas Pantalla           0\n",
              "Tipo de Almacenamiento      0\n",
              "Almacenamiento              0\n",
              "Tipo de Pantalla            4\n",
              "Tipo de Memoria Ram       124\n",
              "Tienda                      0\n",
              "dtype: int64"
            ]
          },
          "execution_count": 15,
          "metadata": {},
          "output_type": "execute_result"
        }
      ],
      "source": [
        "df.isnull().sum()"
      ]
    },
    {
      "cell_type": "markdown",
      "metadata": {
        "id": "GJEVFsgGIFPd"
      },
      "source": [
        "Convertir el Precio Normal en variable categórica"
      ]
    },
    {
      "cell_type": "markdown",
      "metadata": {
        "id": "7mB1A0Cx9Qnt"
      },
      "source": [
        "\n",
        "\n",
        "*   De 1000 - 4200: Aumenta en 400 \n",
        "*   De 4200 - 9200: Aumenta en 1000\n",
        "*   De 10000 - 15200: Aumenta en 5200\n",
        "\n"
      ]
    },
    {
      "cell_type": "code",
      "execution_count": 16,
      "metadata": {
        "id": "Xyzf4hWUIKuS"
      },
      "outputs": [],
      "source": [
        "df['Precio Normal_categ'] = pd.cut(df['Precio Normal'], [1000, 1400, 1800, 2200, 2600, 3000, 3400, 3800,4200,\n",
        "                                                      5200, 6200, 7200, 8200, 9200, 10000, 15200],\n",
        "                              labels = ['1000-1400','1400-1800','1800-2200','2200-2600','2600-3000','3000-3400',\n",
        "                                        '3400-3800','3800-4200','4200-5200','5200-6200','6200-7200','7200-8200',\n",
        "                                        '8200-9200','9200-10000','10000-15200'])"
      ]
    },
    {
      "cell_type": "markdown",
      "metadata": {
        "id": "zOMLEomMIN9r"
      },
      "source": [
        "Convertir el Precio Online en variable categórica"
      ]
    },
    {
      "cell_type": "code",
      "execution_count": 17,
      "metadata": {
        "id": "DpFs03fRIR_M"
      },
      "outputs": [],
      "source": [
        "df['Precio Online_categ'] = pd.cut(df['Precio Online'], [980, 1400, 1800, 2200, 2600, 3000, 3400, 3800,4200,\n",
        "                                                      5200, 6200, 7200, 8200, 9200, 10000, 15200],\n",
        "                              labels = ['980-1400','1400-1800','1800-2200','2200-2600','2600-3000','3000-3400',\n",
        "                                        '3400-3800','3800-4200','4200-5200','5200-6200','6200-7200','7200-8200',\n",
        "                                        '8200-9200','9200-10000','10000-15200'])  "
      ]
    },
    {
      "cell_type": "code",
      "execution_count": 18,
      "metadata": {
        "id": "md-XyEDtfPRy"
      },
      "outputs": [],
      "source": [
        "# Generando una copia del dataframe \n",
        "df_copy = df.copy()"
      ]
    },
    {
      "cell_type": "code",
      "execution_count": 19,
      "metadata": {
        "id": "dRtKoY2VerEe"
      },
      "outputs": [],
      "source": [
        "# Eliminando columnas \n",
        "df = df.drop(['Titulo','Link','Tienda','Tipo de Memoria Ram','Precio Normal','Precio Online'], axis = 1)"
      ]
    },
    {
      "cell_type": "code",
      "execution_count": 20,
      "metadata": {
        "id": "VJQiV0TUSGso"
      },
      "outputs": [],
      "source": [
        "conteo_Precio_online_catg = (df[['Precio Online_categ']]                 # Seleccion de columna y elimino NaNs\n",
        "                            .groupby(['Precio Online_categ']).size()     # Agrupo y cuento las obs. por intervalo de\n",
        "                            .reset_index()                               # Convierte a df \n",
        "                            .rename({0: 'conteo'}, axis=1)               # Cambia el nombre de \"0\" a \"conteo\"\n",
        "                            .sort_values(by=['conteo'],ascending=False)) # Ordena los Datos de mayor a menor\n",
        "#conteo_Precio_online_catg.head(20)"
      ]
    },
    {
      "cell_type": "code",
      "execution_count": 21,
      "metadata": {
        "colab": {
          "base_uri": "https://localhost:8080/",
          "height": 373
        },
        "id": "Kccpx6qKTqKO",
        "outputId": "18c5fe36-c144-47b3-f836-c2953d68b0ef"
      },
      "outputs": [
        {
          "data": {
            "image/png": "[encoded data removed]",
            "text/plain": [
              "<Figure size 540x360 with 1 Axes>"
            ]
          },
          "metadata": {
            "needs_background": "light"
          },
          "output_type": "display_data"
        }
      ],
      "source": [
        "graf_Precio_online_catg = sns.catplot(data=conteo_Precio_online_catg, kind=\"bar\",\n",
        "                          x=\"conteo\", y=\"Precio Online_categ\", aspect=1.5, palette = 'rocket')\n",
        "\n",
        "graf_Precio_online_catg.fig.subplots_adjust(top=0.9)\n",
        "graf_Precio_online_catg.fig.suptitle('Cantidad de laptops por rango de precios online')\n",
        "plt.show()"
      ]
    },
    {
      "cell_type": "code",
      "execution_count": 22,
      "metadata": {
        "colab": {
          "base_uri": "https://localhost:8080/"
        },
        "id": "RfZsY5yTIjnf",
        "outputId": "b25d26a4-4bac-4334-bfa5-e76b49da9878"
      },
      "outputs": [
        {
          "name": "stdout",
          "output_type": "stream",
          "text": [
            "<class 'pandas.core.frame.DataFrame'>\n",
            "RangeIndex: 243 entries, 0 to 242\n",
            "Data columns (total 11 columns):\n",
            " #   Column                  Non-Null Count  Dtype   \n",
            "---  ------                  --------------  -----   \n",
            " 0   Modelo                  243 non-null    object  \n",
            " 1   Marca                   243 non-null    object  \n",
            " 2   Tarjeta de Video        235 non-null    object  \n",
            " 3   Procesador              243 non-null    object  \n",
            " 4   Memoria Ram             243 non-null    object  \n",
            " 5   Pulgadas Pantalla       243 non-null    object  \n",
            " 6   Tipo de Almacenamiento  243 non-null    object  \n",
            " 7   Almacenamiento          243 non-null    object  \n",
            " 8   Tipo de Pantalla        239 non-null    object  \n",
            " 9   Precio Normal_categ     243 non-null    category\n",
            " 10  Precio Online_categ     243 non-null    category\n",
            "dtypes: category(2), object(9)\n",
            "memory usage: 19.0+ KB\n"
          ]
        }
      ],
      "source": [
        "df.info() # Comprobando de no existen valores nulos"
      ]
    },
    {
      "cell_type": "code",
      "execution_count": 23,
      "metadata": {
        "colab": {
          "base_uri": "https://localhost:8080/"
        },
        "id": "-1mHSTo_Ifvi",
        "outputId": "92c2ebd4-0418-4a7f-d0cc-2a16f29c5079"
      },
      "outputs": [
        {
          "data": {
            "text/plain": [
              "Modelo                    0\n",
              "Marca                     0\n",
              "Tarjeta de Video          8\n",
              "Procesador                0\n",
              "Memoria Ram               0\n",
              "Pulgadas Pantalla         0\n",
              "Tipo de Almacenamiento    0\n",
              "Almacenamiento            0\n",
              "Tipo de Pantalla          4\n",
              "Precio Normal_categ       0\n",
              "Precio Online_categ       0\n",
              "dtype: int64"
            ]
          },
          "execution_count": 23,
          "metadata": {},
          "output_type": "execute_result"
        }
      ],
      "source": [
        "df.isnull().sum() # Comprobando de no existen valores nulos"
      ]
    },
    {
      "cell_type": "code",
      "execution_count": 24,
      "metadata": {
        "id": "VY8k1eXO4IkS"
      },
      "outputs": [],
      "source": [
        "# Reemplazando valores nulos para la variable Tarjeta de video\n",
        "#df = df.fillna('No especifica')\n",
        "df['Tarjeta de Video']  = df['Tarjeta de Video'].fillna('No especifica')\n",
        "df['Tipo de Pantalla']  = df['Tipo de Pantalla'].fillna('No especifica') "
      ]
    },
    {
      "cell_type": "markdown",
      "metadata": {
        "id": "-96NcB8g4dK2"
      },
      "source": [
        "Preparación de los Datos"
      ]
    },
    {
      "cell_type": "code",
      "execution_count": 25,
      "metadata": {
        "colab": {
          "base_uri": "https://localhost:8080/",
          "height": 205
        },
        "id": "gqDBpMzl4d9d",
        "outputId": "23f04a1a-3597-4308-d10d-2cfde48d1faa"
      },
      "outputs": [
        {
          "data": {
            "text/html": [
              "<div>\n",
              "<style scoped>\n",
              "    .dataframe tbody tr th:only-of-type {\n",
              "        vertical-align: middle;\n",
              "    }\n",
              "\n",
              "    .dataframe tbody tr th {\n",
              "        vertical-align: top;\n",
              "    }\n",
              "\n",
              "    .dataframe thead th {\n",
              "        text-align: right;\n",
              "    }\n",
              "</style>\n",
              "<table border=\"1\" class=\"dataframe\">\n",
              "  <thead>\n",
              "    <tr style=\"text-align: right;\">\n",
              "      <th></th>\n",
              "      <th>Modelo</th>\n",
              "      <th>Marca</th>\n",
              "      <th>Tarjeta de Video</th>\n",
              "      <th>Procesador</th>\n",
              "      <th>Memoria Ram</th>\n",
              "      <th>Pulgadas Pantalla</th>\n",
              "      <th>Tipo de Almacenamiento</th>\n",
              "      <th>Almacenamiento</th>\n",
              "      <th>Tipo de Pantalla</th>\n",
              "      <th>Precio Normal_categ</th>\n",
              "      <th>Precio Online_categ</th>\n",
              "    </tr>\n",
              "  </thead>\n",
              "  <tbody>\n",
              "    <tr>\n",
              "      <th>0</th>\n",
              "      <td>157</td>\n",
              "      <td>2</td>\n",
              "      <td>8</td>\n",
              "      <td>3</td>\n",
              "      <td>1</td>\n",
              "      <td>2</td>\n",
              "      <td>1</td>\n",
              "      <td>1</td>\n",
              "      <td>19</td>\n",
              "      <td>1</td>\n",
              "      <td>0</td>\n",
              "    </tr>\n",
              "    <tr>\n",
              "      <th>1</th>\n",
              "      <td>153</td>\n",
              "      <td>0</td>\n",
              "      <td>18</td>\n",
              "      <td>8</td>\n",
              "      <td>3</td>\n",
              "      <td>8</td>\n",
              "      <td>1</td>\n",
              "      <td>1</td>\n",
              "      <td>18</td>\n",
              "      <td>1</td>\n",
              "      <td>0</td>\n",
              "    </tr>\n",
              "    <tr>\n",
              "      <th>2</th>\n",
              "      <td>91</td>\n",
              "      <td>2</td>\n",
              "      <td>0</td>\n",
              "      <td>3</td>\n",
              "      <td>1</td>\n",
              "      <td>2</td>\n",
              "      <td>1</td>\n",
              "      <td>1</td>\n",
              "      <td>6</td>\n",
              "      <td>1</td>\n",
              "      <td>0</td>\n",
              "    </tr>\n",
              "  </tbody>\n",
              "</table>\n",
              "</div>"
            ],
            "text/plain": [
              "   Modelo  Marca  Tarjeta de Video  Procesador  Memoria Ram  \\\n",
              "0     157      2                 8           3            1   \n",
              "1     153      0                18           8            3   \n",
              "2      91      2                 0           3            1   \n",
              "\n",
              "   Pulgadas Pantalla  Tipo de Almacenamiento  Almacenamiento  \\\n",
              "0                  2                       1               1   \n",
              "1                  8                       1               1   \n",
              "2                  2                       1               1   \n",
              "\n",
              "   Tipo de Pantalla  Precio Normal_categ  Precio Online_categ  \n",
              "0                19                    1                    0  \n",
              "1                18                    1                    0  \n",
              "2                 6                    1                    0  "
            ]
          },
          "execution_count": 25,
          "metadata": {},
          "output_type": "execute_result"
        }
      ],
      "source": [
        "from sklearn import preprocessing\n",
        "\n",
        "label_encoder = preprocessing.LabelEncoder()\n",
        "data = df.apply(label_encoder.fit_transform)\n",
        "data.head(3)"
      ]
    },
    {
      "cell_type": "code",
      "execution_count": 26,
      "metadata": {
        "colab": {
          "base_uri": "https://localhost:8080/"
        },
        "id": "TKk3nedu4hzr",
        "outputId": "e73ee619-ca1d-4495-cbf3-2303fb6935fb"
      },
      "outputs": [
        {
          "name": "stdout",
          "output_type": "stream",
          "text": [
            "Init: initializing centroids\n",
            "Init: initializing clusters\n",
            "Starting iterations...\n",
            "Run 1, iteration: 1/100, moves: 66, cost: 1308.0\n",
            "Run 1, iteration: 2/100, moves: 31, cost: 1298.0\n",
            "Run 1, iteration: 3/100, moves: 1, cost: 1298.0\n",
            "Init: initializing centroids\n",
            "Init: initializing clusters\n",
            "Starting iterations...\n",
            "Run 2, iteration: 1/100, moves: 19, cost: 1308.0\n",
            "Init: initializing centroids\n",
            "Init: initializing clusters\n",
            "Starting iterations...\n",
            "Run 3, iteration: 1/100, moves: 49, cost: 1291.0\n",
            "Run 3, iteration: 2/100, moves: 43, cost: 1267.0\n",
            "Run 3, iteration: 3/100, moves: 5, cost: 1266.0\n",
            "Run 3, iteration: 4/100, moves: 0, cost: 1266.0\n",
            "Init: initializing centroids\n",
            "Init: initializing clusters\n",
            "Starting iterations...\n",
            "Run 4, iteration: 1/100, moves: 104, cost: 1281.0\n",
            "Run 4, iteration: 2/100, moves: 10, cost: 1281.0\n",
            "Init: initializing centroids\n",
            "Init: initializing clusters\n",
            "Starting iterations...\n",
            "Run 5, iteration: 1/100, moves: 79, cost: 1330.0\n",
            "Run 5, iteration: 2/100, moves: 14, cost: 1330.0\n",
            "Best run was number 3\n"
          ]
        }
      ],
      "source": [
        "# Construyendo el modelo con 5 clusters\n",
        "kmode = KModes(n_clusters = 5, init = 'Huang', n_init = 5, verbose=1, random_state = 123)\n",
        "clusters = kmode.fit_predict(data)"
      ]
    },
    {
      "cell_type": "code",
      "execution_count": 27,
      "metadata": {
        "id": "YRRIUIr3FU9X"
      },
      "outputs": [],
      "source": [
        "import pickle \n",
        "import os\n",
        "filename = 'clusters.sav'\n",
        "pickle.dump(clusters, open(os.path.join(filename), 'wb'))"
      ]
    },
    {
      "cell_type": "code",
      "execution_count": 28,
      "metadata": {
        "colab": {
          "base_uri": "https://localhost:8080/"
        },
        "id": "Z0dMarDv4jgr",
        "outputId": "a4bc1660-1144-4b86-e1d4-a96249345fd5"
      },
      "outputs": [
        {
          "data": {
            "text/plain": [
              "array([0, 2, 0, 0, 0, 0, 0, 0, 0, 0, 0, 0, 0, 0, 0, 0, 2, 2, 0, 1, 2, 2,\n",
              "       0, 0, 0, 0, 0, 0, 0, 0, 0, 0, 0, 0, 0, 0, 0, 0, 0, 0, 0, 0, 0, 0,\n",
              "       0, 0, 0, 2, 2, 2, 2, 0, 2, 2, 0, 2, 2, 0, 0, 0, 2, 2, 2, 2, 2, 2,\n",
              "       2, 2, 2, 2, 2, 2, 2, 2, 2, 2, 2, 2, 2, 2, 0, 4, 2, 0, 2, 2, 2, 2,\n",
              "       3, 0, 2, 2, 0, 2, 2, 2, 2, 2, 2, 2, 0, 2, 2, 2, 0, 4, 2, 2, 3, 2,\n",
              "       2, 2, 2, 1, 3, 2, 4, 3, 2, 1, 2, 2, 2, 4, 3, 3, 2, 2, 1, 3, 4, 2,\n",
              "       4, 4, 4, 4, 4, 4, 4, 4, 0, 0, 4, 0, 4, 4, 3, 4, 4, 3, 2, 3, 4, 3,\n",
              "       1, 1, 1, 0, 4, 1, 1, 1, 1, 4, 1, 1, 0, 1, 3, 0, 1, 1, 3, 3, 3, 1,\n",
              "       4, 2, 1, 1, 4, 3, 1, 1, 1, 3, 4, 3, 1, 3, 3, 1, 3, 1, 3, 3, 1, 2,\n",
              "       3, 3, 1, 4, 3, 1, 1, 1, 0, 1, 3, 1, 1, 1, 3, 1, 1, 1, 3, 1, 1, 1,\n",
              "       1, 1, 1, 1, 4, 1, 1, 1, 1, 1, 1, 1, 1, 0, 3, 4, 1, 1, 1, 3, 3, 1,\n",
              "       0], dtype=uint16)"
            ]
          },
          "execution_count": 28,
          "metadata": {},
          "output_type": "execute_result"
        }
      ],
      "source": [
        "# Predicción de Clusters\n",
        "clusters"
      ]
    },
    {
      "cell_type": "code",
      "execution_count": 29,
      "metadata": {
        "id": "5vAVs4A04lOO"
      },
      "outputs": [],
      "source": [
        "# Obteniendo los centroides\n",
        "Cluster_Centroide_df = pd.DataFrame(kmode.cluster_centroids_) "
      ]
    },
    {
      "cell_type": "code",
      "execution_count": 30,
      "metadata": {
        "id": "wZ6gNyC-4nEY"
      },
      "outputs": [],
      "source": [
        "Cluster_Centroide_df.columns = data.columns"
      ]
    },
    {
      "cell_type": "code",
      "execution_count": 31,
      "metadata": {
        "colab": {
          "base_uri": "https://localhost:8080/",
          "height": 268
        },
        "id": "F2Jpjg8A4oiU",
        "outputId": "03803451-d54a-4a5f-9f36-8cb545bcdfc5"
      },
      "outputs": [
        {
          "data": {
            "text/html": [
              "<div>\n",
              "<style scoped>\n",
              "    .dataframe tbody tr th:only-of-type {\n",
              "        vertical-align: middle;\n",
              "    }\n",
              "\n",
              "    .dataframe tbody tr th {\n",
              "        vertical-align: top;\n",
              "    }\n",
              "\n",
              "    .dataframe thead th {\n",
              "        text-align: right;\n",
              "    }\n",
              "</style>\n",
              "<table border=\"1\" class=\"dataframe\">\n",
              "  <thead>\n",
              "    <tr style=\"text-align: right;\">\n",
              "      <th></th>\n",
              "      <th>Modelo</th>\n",
              "      <th>Marca</th>\n",
              "      <th>Tarjeta de Video</th>\n",
              "      <th>Procesador</th>\n",
              "      <th>Memoria Ram</th>\n",
              "      <th>Pulgadas Pantalla</th>\n",
              "      <th>Tipo de Almacenamiento</th>\n",
              "      <th>Almacenamiento</th>\n",
              "      <th>Tipo de Pantalla</th>\n",
              "      <th>Precio Normal_categ</th>\n",
              "      <th>Precio Online_categ</th>\n",
              "    </tr>\n",
              "  </thead>\n",
              "  <tbody>\n",
              "    <tr>\n",
              "      <th>0</th>\n",
              "      <td>83</td>\n",
              "      <td>2</td>\n",
              "      <td>0</td>\n",
              "      <td>8</td>\n",
              "      <td>1</td>\n",
              "      <td>7</td>\n",
              "      <td>1</td>\n",
              "      <td>6</td>\n",
              "      <td>1</td>\n",
              "      <td>10</td>\n",
              "      <td>9</td>\n",
              "    </tr>\n",
              "    <tr>\n",
              "      <th>1</th>\n",
              "      <td>3</td>\n",
              "      <td>4</td>\n",
              "      <td>3</td>\n",
              "      <td>6</td>\n",
              "      <td>3</td>\n",
              "      <td>7</td>\n",
              "      <td>1</td>\n",
              "      <td>3</td>\n",
              "      <td>5</td>\n",
              "      <td>4</td>\n",
              "      <td>1</td>\n",
              "    </tr>\n",
              "    <tr>\n",
              "      <th>2</th>\n",
              "      <td>74</td>\n",
              "      <td>2</td>\n",
              "      <td>3</td>\n",
              "      <td>8</td>\n",
              "      <td>3</td>\n",
              "      <td>7</td>\n",
              "      <td>1</td>\n",
              "      <td>6</td>\n",
              "      <td>1</td>\n",
              "      <td>9</td>\n",
              "      <td>8</td>\n",
              "    </tr>\n",
              "    <tr>\n",
              "      <th>3</th>\n",
              "      <td>184</td>\n",
              "      <td>0</td>\n",
              "      <td>3</td>\n",
              "      <td>7</td>\n",
              "      <td>3</td>\n",
              "      <td>4</td>\n",
              "      <td>1</td>\n",
              "      <td>3</td>\n",
              "      <td>1</td>\n",
              "      <td>4</td>\n",
              "      <td>2</td>\n",
              "    </tr>\n",
              "    <tr>\n",
              "      <th>4</th>\n",
              "      <td>12</td>\n",
              "      <td>4</td>\n",
              "      <td>3</td>\n",
              "      <td>7</td>\n",
              "      <td>3</td>\n",
              "      <td>7</td>\n",
              "      <td>1</td>\n",
              "      <td>6</td>\n",
              "      <td>5</td>\n",
              "      <td>5</td>\n",
              "      <td>4</td>\n",
              "    </tr>\n",
              "  </tbody>\n",
              "</table>\n",
              "</div>"
            ],
            "text/plain": [
              "   Modelo  Marca  Tarjeta de Video  Procesador  Memoria Ram  \\\n",
              "0      83      2                 0           8            1   \n",
              "1       3      4                 3           6            3   \n",
              "2      74      2                 3           8            3   \n",
              "3     184      0                 3           7            3   \n",
              "4      12      4                 3           7            3   \n",
              "\n",
              "   Pulgadas Pantalla  Tipo de Almacenamiento  Almacenamiento  \\\n",
              "0                  7                       1               6   \n",
              "1                  7                       1               3   \n",
              "2                  7                       1               6   \n",
              "3                  4                       1               3   \n",
              "4                  7                       1               6   \n",
              "\n",
              "   Tipo de Pantalla  Precio Normal_categ  Precio Online_categ  \n",
              "0                 1                   10                    9  \n",
              "1                 5                    4                    1  \n",
              "2                 1                    9                    8  \n",
              "3                 1                    4                    2  \n",
              "4                 5                    5                    4  "
            ]
          },
          "execution_count": 31,
          "metadata": {},
          "output_type": "execute_result"
        }
      ],
      "source": [
        "Cluster_Centroide_df"
      ]
    },
    {
      "cell_type": "markdown",
      "metadata": {
        "id": "kSJvHIkw4rRW"
      },
      "source": [
        "Elegir K comparando el costo con cada K"
      ]
    },
    {
      "cell_type": "code",
      "execution_count": 32,
      "metadata": {
        "colab": {
          "base_uri": "https://localhost:8080/"
        },
        "id": "ksGULK-s4tUO",
        "outputId": "29c3ddf3-cc5d-40b7-c538-438da7bdfc7d"
      },
      "outputs": [
        {
          "name": "stdout",
          "output_type": "stream",
          "text": [
            "Init: initializing centroids\n",
            "Init: initializing clusters\n",
            "Starting iterations...\n",
            "Run 1, iteration: 1/100, moves: 0, cost: 1640.0\n",
            "Init: initializing centroids\n",
            "Init: initializing clusters\n",
            "Starting iterations...\n",
            "Run 2, iteration: 1/100, moves: 0, cost: 1640.0\n",
            "Init: initializing centroids\n",
            "Init: initializing clusters\n",
            "Starting iterations...\n",
            "Run 3, iteration: 1/100, moves: 0, cost: 1640.0\n",
            "Init: initializing centroids\n",
            "Init: initializing clusters\n",
            "Starting iterations...\n",
            "Run 4, iteration: 1/100, moves: 0, cost: 1640.0\n",
            "Init: initializing centroids\n",
            "Init: initializing clusters\n",
            "Starting iterations...\n",
            "Run 5, iteration: 1/100, moves: 0, cost: 1640.0\n",
            "Best run was number 1\n",
            "Init: initializing centroids\n",
            "Init: initializing clusters\n",
            "Starting iterations...\n",
            "Run 1, iteration: 1/100, moves: 91, cost: 1445.0\n",
            "Run 1, iteration: 2/100, moves: 14, cost: 1445.0\n",
            "Init: initializing centroids\n",
            "Init: initializing clusters\n",
            "Starting iterations...\n",
            "Run 2, iteration: 1/100, moves: 52, cost: 1574.0\n",
            "Run 2, iteration: 2/100, moves: 33, cost: 1552.0\n",
            "Run 2, iteration: 3/100, moves: 34, cost: 1517.0\n",
            "Run 2, iteration: 4/100, moves: 43, cost: 1445.0\n",
            "Run 2, iteration: 5/100, moves: 23, cost: 1445.0\n",
            "Init: initializing centroids\n",
            "Init: initializing clusters\n",
            "Starting iterations...\n",
            "Run 3, iteration: 1/100, moves: 36, cost: 1447.0\n",
            "Run 3, iteration: 2/100, moves: 17, cost: 1447.0\n",
            "Init: initializing centroids\n",
            "Init: initializing clusters\n",
            "Starting iterations...\n",
            "Run 4, iteration: 1/100, moves: 41, cost: 1512.0\n",
            "Run 4, iteration: 2/100, moves: 42, cost: 1447.0\n",
            "Run 4, iteration: 3/100, moves: 21, cost: 1447.0\n",
            "Init: initializing centroids\n",
            "Init: initializing clusters\n",
            "Starting iterations...\n",
            "Run 5, iteration: 1/100, moves: 67, cost: 1441.0\n",
            "Run 5, iteration: 2/100, moves: 27, cost: 1440.0\n",
            "Run 5, iteration: 3/100, moves: 0, cost: 1440.0\n",
            "Best run was number 5\n",
            "Init: initializing centroids\n",
            "Init: initializing clusters\n",
            "Starting iterations...\n",
            "Run 1, iteration: 1/100, moves: 22, cost: 1388.0\n",
            "Run 1, iteration: 2/100, moves: 1, cost: 1388.0\n",
            "Init: initializing centroids\n",
            "Init: initializing clusters\n",
            "Starting iterations...\n",
            "Run 2, iteration: 1/100, moves: 47, cost: 1421.0\n",
            "Run 2, iteration: 2/100, moves: 41, cost: 1394.0\n",
            "Run 2, iteration: 3/100, moves: 23, cost: 1394.0\n",
            "Init: initializing centroids\n",
            "Init: initializing clusters\n",
            "Starting iterations...\n",
            "Run 3, iteration: 1/100, moves: 84, cost: 1379.0\n",
            "Run 3, iteration: 2/100, moves: 25, cost: 1377.0\n",
            "Run 3, iteration: 3/100, moves: 5, cost: 1377.0\n",
            "Init: initializing centroids\n",
            "Init: initializing clusters\n",
            "Starting iterations...\n",
            "Run 4, iteration: 1/100, moves: 65, cost: 1393.0\n",
            "Run 4, iteration: 2/100, moves: 16, cost: 1388.0\n",
            "Run 4, iteration: 3/100, moves: 12, cost: 1388.0\n",
            "Init: initializing centroids\n",
            "Init: initializing clusters\n",
            "Starting iterations...\n",
            "Run 5, iteration: 1/100, moves: 52, cost: 1387.0\n",
            "Run 5, iteration: 2/100, moves: 25, cost: 1385.0\n",
            "Run 5, iteration: 3/100, moves: 2, cost: 1385.0\n",
            "Best run was number 3\n",
            "Init: initializing centroids\n",
            "Init: initializing clusters\n",
            "Starting iterations...\n",
            "Run 1, iteration: 1/100, moves: 51, cost: 1345.0\n",
            "Run 1, iteration: 2/100, moves: 33, cost: 1332.0\n",
            "Run 1, iteration: 3/100, moves: 1, cost: 1332.0\n",
            "Init: initializing centroids\n",
            "Init: initializing clusters\n",
            "Starting iterations...\n",
            "Run 2, iteration: 1/100, moves: 72, cost: 1349.0\n",
            "Run 2, iteration: 2/100, moves: 20, cost: 1348.0\n",
            "Run 2, iteration: 3/100, moves: 0, cost: 1348.0\n",
            "Init: initializing centroids\n",
            "Init: initializing clusters\n",
            "Starting iterations...\n",
            "Run 3, iteration: 1/100, moves: 100, cost: 1326.0\n",
            "Run 3, iteration: 2/100, moves: 47, cost: 1317.0\n",
            "Run 3, iteration: 3/100, moves: 1, cost: 1317.0\n",
            "Init: initializing centroids\n",
            "Init: initializing clusters\n",
            "Starting iterations...\n",
            "Run 4, iteration: 1/100, moves: 55, cost: 1375.0\n",
            "Run 4, iteration: 2/100, moves: 17, cost: 1375.0\n",
            "Init: initializing centroids\n",
            "Init: initializing clusters\n",
            "Starting iterations...\n",
            "Run 5, iteration: 1/100, moves: 79, cost: 1308.0\n",
            "Run 5, iteration: 2/100, moves: 20, cost: 1308.0\n",
            "Best run was number 5\n",
            "Init: initializing centroids\n",
            "Init: initializing clusters\n",
            "Starting iterations...\n",
            "Run 1, iteration: 1/100, moves: 66, cost: 1308.0\n",
            "Run 1, iteration: 2/100, moves: 31, cost: 1298.0\n",
            "Run 1, iteration: 3/100, moves: 1, cost: 1298.0\n",
            "Init: initializing centroids\n",
            "Init: initializing clusters\n",
            "Starting iterations...\n",
            "Run 2, iteration: 1/100, moves: 19, cost: 1308.0\n",
            "Init: initializing centroids\n",
            "Init: initializing clusters\n",
            "Starting iterations...\n",
            "Run 3, iteration: 1/100, moves: 49, cost: 1291.0\n",
            "Run 3, iteration: 2/100, moves: 43, cost: 1267.0\n",
            "Run 3, iteration: 3/100, moves: 5, cost: 1266.0\n",
            "Run 3, iteration: 4/100, moves: 0, cost: 1266.0\n",
            "Init: initializing centroids\n",
            "Init: initializing clusters\n",
            "Starting iterations...\n",
            "Run 4, iteration: 1/100, moves: 104, cost: 1281.0\n",
            "Run 4, iteration: 2/100, moves: 10, cost: 1281.0\n",
            "Init: initializing centroids\n",
            "Init: initializing clusters\n",
            "Starting iterations...\n",
            "Run 5, iteration: 1/100, moves: 79, cost: 1330.0\n",
            "Run 5, iteration: 2/100, moves: 14, cost: 1330.0\n",
            "Best run was number 3\n",
            "Init: initializing centroids\n",
            "Init: initializing clusters\n",
            "Starting iterations...\n",
            "Run 1, iteration: 1/100, moves: 61, cost: 1249.0\n",
            "Run 1, iteration: 2/100, moves: 36, cost: 1244.0\n",
            "Run 1, iteration: 3/100, moves: 7, cost: 1244.0\n",
            "Init: initializing centroids\n",
            "Init: initializing clusters\n",
            "Starting iterations...\n",
            "Run 2, iteration: 1/100, moves: 92, cost: 1271.0\n",
            "Run 2, iteration: 2/100, moves: 39, cost: 1261.0\n",
            "Run 2, iteration: 3/100, moves: 13, cost: 1261.0\n",
            "Init: initializing centroids\n",
            "Init: initializing clusters\n",
            "Starting iterations...\n",
            "Run 3, iteration: 1/100, moves: 64, cost: 1242.0\n",
            "Run 3, iteration: 2/100, moves: 32, cost: 1238.0\n",
            "Run 3, iteration: 3/100, moves: 7, cost: 1238.0\n",
            "Init: initializing centroids\n",
            "Init: initializing clusters\n",
            "Starting iterations...\n",
            "Run 4, iteration: 1/100, moves: 82, cost: 1275.0\n",
            "Run 4, iteration: 2/100, moves: 15, cost: 1271.0\n",
            "Run 4, iteration: 3/100, moves: 3, cost: 1271.0\n",
            "Init: initializing centroids\n",
            "Init: initializing clusters\n",
            "Starting iterations...\n",
            "Run 5, iteration: 1/100, moves: 61, cost: 1256.0\n",
            "Run 5, iteration: 2/100, moves: 22, cost: 1255.0\n",
            "Run 5, iteration: 3/100, moves: 0, cost: 1255.0\n",
            "Best run was number 3\n"
          ]
        }
      ],
      "source": [
        "cost = []\n",
        "K = range(1,7)\n",
        "for num_clusters in list(K):\n",
        "  kmode = KModes(n_clusters = num_clusters, init ='Huang', n_init = 5, verbose = 1, random_state = 123)\n",
        "  kmode.fit_predict(data)\n",
        "  cost.append(kmode.cost_)"
      ]
    },
    {
      "cell_type": "code",
      "execution_count": 33,
      "metadata": {
        "colab": {
          "base_uri": "https://localhost:8080/",
          "height": 301
        },
        "id": "FXRTZ8CL4vxd",
        "outputId": "5639dd2e-0d0e-4132-dac3-76d52e6d04da"
      },
      "outputs": [
        {
          "data": {
            "image/png": "[encoded data removed]",
            "text/plain": [
              "<Figure size 432x288 with 1 Axes>"
            ]
          },
          "metadata": {
            "needs_background": "light"
          },
          "output_type": "display_data"
        }
      ],
      "source": [
        "plt.plot(K, cost, marker = 'o', color = 'b')\n",
        "plt.grid(axis ='both', linestyle ='dotted', color ='m')\n",
        "plt.xlabel('Número de clusters')\n",
        "plt.ylabel('Cost')   \n",
        "plt.title('Método del codo para K óptimo')\n",
        "plt.show()"
      ]
    },
    {
      "cell_type": "markdown",
      "metadata": {
        "id": "HjHKg14k4x-B"
      },
      "source": [
        "Conbinando los clústeres predichos con el Data Frame original"
      ]
    },
    {
      "cell_type": "code",
      "execution_count": 34,
      "metadata": {
        "id": "zG6ZvWRO4z4o"
      },
      "outputs": [],
      "source": [
        "data = df_copy.reset_index()"
      ]
    },
    {
      "cell_type": "code",
      "execution_count": 35,
      "metadata": {
        "id": "-qY5Lah541zx"
      },
      "outputs": [],
      "source": [
        "clusterDF = pd.DataFrame(clusters)\n",
        "clusterDF.columns = ['cluster_predicted']\n",
        "combineDF = pd.concat([data, clusterDF], axis = 1).reset_index()\n",
        "combineDF = combineDF.drop(['index', 'level_0'], axis = 1)"
      ]
    },
    {
      "cell_type": "code",
      "execution_count": 36,
      "metadata": {
        "colab": {
          "base_uri": "https://localhost:8080/",
          "height": 436
        },
        "id": "dreiYuDO43W_",
        "outputId": "aa7d95ae-773a-405a-da78-2e1d2cd7570b"
      },
      "outputs": [
        {
          "data": {
            "text/html": [
              "<div>\n",
              "<style scoped>\n",
              "    .dataframe tbody tr th:only-of-type {\n",
              "        vertical-align: middle;\n",
              "    }\n",
              "\n",
              "    .dataframe tbody tr th {\n",
              "        vertical-align: top;\n",
              "    }\n",
              "\n",
              "    .dataframe thead th {\n",
              "        text-align: right;\n",
              "    }\n",
              "</style>\n",
              "<table border=\"1\" class=\"dataframe\">\n",
              "  <thead>\n",
              "    <tr style=\"text-align: right;\">\n",
              "      <th></th>\n",
              "      <th>Titulo</th>\n",
              "      <th>Link</th>\n",
              "      <th>Precio Normal</th>\n",
              "      <th>Precio Online</th>\n",
              "      <th>Modelo</th>\n",
              "      <th>Marca</th>\n",
              "      <th>Tarjeta de Video</th>\n",
              "      <th>Procesador</th>\n",
              "      <th>Memoria Ram</th>\n",
              "      <th>Pulgadas Pantalla</th>\n",
              "      <th>Tipo de Almacenamiento</th>\n",
              "      <th>Almacenamiento</th>\n",
              "      <th>Tipo de Pantalla</th>\n",
              "      <th>Tipo de Memoria Ram</th>\n",
              "      <th>Tienda</th>\n",
              "      <th>Precio Normal_categ</th>\n",
              "      <th>Precio Online_categ</th>\n",
              "      <th>cluster_predicted</th>\n",
              "    </tr>\n",
              "  </thead>\n",
              "  <tbody>\n",
              "    <tr>\n",
              "      <th>0</th>\n",
              "      <td>Laptop Asus ROG Flow X13 GV301QH 13.4\" AMD Ryz...</td>\n",
              "      <td>https://hiraoka.com.pe/computo-y-tecnologia/co...</td>\n",
              "      <td>15199.0</td>\n",
              "      <td>15199</td>\n",
              "      <td>ROG Flow X13 GV301QH</td>\n",
              "      <td>ASUS</td>\n",
              "      <td>NVIDIA GeForce GTX 1650</td>\n",
              "      <td>AMD Ryzen 9</td>\n",
              "      <td>16GB</td>\n",
              "      <td>13.4''</td>\n",
              "      <td>SSD</td>\n",
              "      <td>1TB</td>\n",
              "      <td>WUXGA</td>\n",
              "      <td>DDR4</td>\n",
              "      <td>Hiraoka</td>\n",
              "      <td>10000-15200</td>\n",
              "      <td>10000-15200</td>\n",
              "      <td>0</td>\n",
              "    </tr>\n",
              "    <tr>\n",
              "      <th>1</th>\n",
              "      <td>Laptop Gamer Acer PT516-51S-76HY 16\" Intel Cor...</td>\n",
              "      <td>https://hiraoka.com.pe/computo-y-tecnologia/co...</td>\n",
              "      <td>13999.0</td>\n",
              "      <td>13399</td>\n",
              "      <td>PT516-51S-76HY</td>\n",
              "      <td>ACER</td>\n",
              "      <td>NVIDIA GeForce RTX 3080</td>\n",
              "      <td>Intel Core i7</td>\n",
              "      <td>8GB</td>\n",
              "      <td>16''</td>\n",
              "      <td>SSD</td>\n",
              "      <td>1TB</td>\n",
              "      <td>WQXGA</td>\n",
              "      <td>DDR4</td>\n",
              "      <td>Hiraoka</td>\n",
              "      <td>10000-15200</td>\n",
              "      <td>10000-15200</td>\n",
              "      <td>2</td>\n",
              "    </tr>\n",
              "  </tbody>\n",
              "</table>\n",
              "</div>"
            ],
            "text/plain": [
              "                                              Titulo  \\\n",
              "0  Laptop Asus ROG Flow X13 GV301QH 13.4\" AMD Ryz...   \n",
              "1  Laptop Gamer Acer PT516-51S-76HY 16\" Intel Cor...   \n",
              "\n",
              "                                                Link  Precio Normal  \\\n",
              "0  https://hiraoka.com.pe/computo-y-tecnologia/co...        15199.0   \n",
              "1  https://hiraoka.com.pe/computo-y-tecnologia/co...        13999.0   \n",
              "\n",
              "   Precio Online                Modelo Marca          Tarjeta de Video  \\\n",
              "0          15199  ROG Flow X13 GV301QH  ASUS  NVIDIA GeForce GTX 1650    \n",
              "1          13399        PT516-51S-76HY  ACER   NVIDIA GeForce RTX 3080   \n",
              "\n",
              "      Procesador Memoria Ram Pulgadas Pantalla Tipo de Almacenamiento  \\\n",
              "0    AMD Ryzen 9        16GB            13.4''                    SSD   \n",
              "1  Intel Core i7         8GB              16''                    SSD   \n",
              "\n",
              "  Almacenamiento Tipo de Pantalla Tipo de Memoria Ram   Tienda  \\\n",
              "0            1TB            WUXGA                DDR4  Hiraoka   \n",
              "1            1TB            WQXGA                DDR4  Hiraoka   \n",
              "\n",
              "  Precio Normal_categ Precio Online_categ  cluster_predicted  \n",
              "0         10000-15200         10000-15200                  0  \n",
              "1         10000-15200         10000-15200                  2  "
            ]
          },
          "execution_count": 36,
          "metadata": {},
          "output_type": "execute_result"
        }
      ],
      "source": [
        "combineDF.head(2)"
      ]
    },
    {
      "cell_type": "markdown",
      "metadata": {
        "id": "ps2IC18r45hT"
      },
      "source": [
        "Identificamos los Clusters"
      ]
    },
    {
      "cell_type": "code",
      "execution_count": 37,
      "metadata": {
        "id": "oSWBH-rr472l"
      },
      "outputs": [],
      "source": [
        "Cluster_0 = combineDF[combineDF['cluster_predicted'] == 0]\n",
        "Cluster_1 = combineDF[combineDF['cluster_predicted'] == 1]\n",
        "Cluster_2 = combineDF[combineDF['cluster_predicted'] == 2]\n",
        "Cluster_3 = combineDF[combineDF['cluster_predicted'] == 3]\n",
        "Cluster_4 = combineDF[combineDF['cluster_predicted'] == 4]"
      ]
    },
    {
      "cell_type": "code",
      "execution_count": 38,
      "metadata": {
        "id": "oZ5MH6DkDbtx"
      },
      "outputs": [],
      "source": [
        "df_cluster = pd.DataFrame()\n",
        "df_cluster = df_cluster.append(Cluster_0,ignore_index=True)\n",
        "df_cluster = df_cluster.append(Cluster_1,ignore_index=True)\n",
        "df_cluster = df_cluster.append(Cluster_2,ignore_index=True)\n",
        "df_cluster = df_cluster.append(Cluster_3,ignore_index=True)\n",
        "df_cluster = df_cluster.append(Cluster_4,ignore_index=True)"
      ]
    },
    {
      "cell_type": "code",
      "execution_count": 39,
      "metadata": {
        "id": "OtsLLgTwFB0t"
      },
      "outputs": [],
      "source": [
        "df_cluster.to_csv('ClusterFinal.csv')"
      ]
    },
    {
      "cell_type": "code",
      "execution_count": 40,
      "metadata": {
        "colab": {
          "base_uri": "https://localhost:8080/",
          "height": 572
        },
        "id": "x72_aM45bhcX",
        "outputId": "f64656c2-f8d3-47d3-97aa-980b18ffe7a2"
      },
      "outputs": [
        {
          "data": {
            "text/html": [
              "<div>\n",
              "<style scoped>\n",
              "    .dataframe tbody tr th:only-of-type {\n",
              "        vertical-align: middle;\n",
              "    }\n",
              "\n",
              "    .dataframe tbody tr th {\n",
              "        vertical-align: top;\n",
              "    }\n",
              "\n",
              "    .dataframe thead th {\n",
              "        text-align: right;\n",
              "    }\n",
              "</style>\n",
              "<table border=\"1\" class=\"dataframe\">\n",
              "  <thead>\n",
              "    <tr style=\"text-align: right;\">\n",
              "      <th></th>\n",
              "      <th>Titulo</th>\n",
              "      <th>Link</th>\n",
              "      <th>Precio Normal</th>\n",
              "      <th>Precio Online</th>\n",
              "      <th>Modelo</th>\n",
              "      <th>Marca</th>\n",
              "      <th>Tarjeta de Video</th>\n",
              "      <th>Procesador</th>\n",
              "      <th>Memoria Ram</th>\n",
              "      <th>Pulgadas Pantalla</th>\n",
              "      <th>Tipo de Almacenamiento</th>\n",
              "      <th>Almacenamiento</th>\n",
              "      <th>Tipo de Pantalla</th>\n",
              "      <th>Tipo de Memoria Ram</th>\n",
              "      <th>Tienda</th>\n",
              "      <th>Precio Normal_categ</th>\n",
              "      <th>Precio Online_categ</th>\n",
              "      <th>cluster_predicted</th>\n",
              "    </tr>\n",
              "  </thead>\n",
              "  <tbody>\n",
              "    <tr>\n",
              "      <th>0</th>\n",
              "      <td>Laptop Asus ROG Flow X13 GV301QH 13.4\" AMD Ryz...</td>\n",
              "      <td>https://hiraoka.com.pe/computo-y-tecnologia/co...</td>\n",
              "      <td>15199.0</td>\n",
              "      <td>15199</td>\n",
              "      <td>ROG Flow X13 GV301QH</td>\n",
              "      <td>ASUS</td>\n",
              "      <td>NVIDIA GeForce GTX 1650</td>\n",
              "      <td>AMD Ryzen 9</td>\n",
              "      <td>16GB</td>\n",
              "      <td>13.4''</td>\n",
              "      <td>SSD</td>\n",
              "      <td>1TB</td>\n",
              "      <td>WUXGA</td>\n",
              "      <td>DDR4</td>\n",
              "      <td>Hiraoka</td>\n",
              "      <td>10000-15200</td>\n",
              "      <td>10000-15200</td>\n",
              "      <td>0</td>\n",
              "    </tr>\n",
              "    <tr>\n",
              "      <th>2</th>\n",
              "      <td>Laptop Gamer ASUS ROG Flow X13 GV301QH 13.4'' ...</td>\n",
              "      <td>https://www.oechsle.pe/laptop-gamer-asus-rog-f...</td>\n",
              "      <td>13699.0</td>\n",
              "      <td>13099</td>\n",
              "      <td>GV301QH-K6320T</td>\n",
              "      <td>ASUS</td>\n",
              "      <td>AMD</td>\n",
              "      <td>AMD Ryzen 9</td>\n",
              "      <td>16GB</td>\n",
              "      <td>13.4''</td>\n",
              "      <td>SSD</td>\n",
              "      <td>1TB</td>\n",
              "      <td>IPS</td>\n",
              "      <td>NaN</td>\n",
              "      <td>Oechsle</td>\n",
              "      <td>10000-15200</td>\n",
              "      <td>10000-15200</td>\n",
              "      <td>0</td>\n",
              "    </tr>\n",
              "    <tr>\n",
              "      <th>3</th>\n",
              "      <td>Apple Macbook Pro 13.3\" RAM 16GB 2TB SSD Silve...</td>\n",
              "      <td>https://www.plazavea.com.pe/apple-macbook-pro-...</td>\n",
              "      <td>13075.0</td>\n",
              "      <td>13075</td>\n",
              "      <td>Z11F-MYDA-07</td>\n",
              "      <td>APPLE</td>\n",
              "      <td>Intel</td>\n",
              "      <td>M1</td>\n",
              "      <td>16GB</td>\n",
              "      <td>13.3''</td>\n",
              "      <td>SSD</td>\n",
              "      <td>2TB</td>\n",
              "      <td>IPS</td>\n",
              "      <td>NaN</td>\n",
              "      <td>Plazavea</td>\n",
              "      <td>10000-15200</td>\n",
              "      <td>10000-15200</td>\n",
              "      <td>0</td>\n",
              "    </tr>\n",
              "  </tbody>\n",
              "</table>\n",
              "</div>"
            ],
            "text/plain": [
              "                                              Titulo  \\\n",
              "0  Laptop Asus ROG Flow X13 GV301QH 13.4\" AMD Ryz...   \n",
              "2  Laptop Gamer ASUS ROG Flow X13 GV301QH 13.4'' ...   \n",
              "3  Apple Macbook Pro 13.3\" RAM 16GB 2TB SSD Silve...   \n",
              "\n",
              "                                                Link  Precio Normal  \\\n",
              "0  https://hiraoka.com.pe/computo-y-tecnologia/co...        15199.0   \n",
              "2  https://www.oechsle.pe/laptop-gamer-asus-rog-f...        13699.0   \n",
              "3  https://www.plazavea.com.pe/apple-macbook-pro-...        13075.0   \n",
              "\n",
              "   Precio Online                Modelo  Marca          Tarjeta de Video  \\\n",
              "0          15199  ROG Flow X13 GV301QH   ASUS  NVIDIA GeForce GTX 1650    \n",
              "2          13099        GV301QH-K6320T   ASUS                       AMD   \n",
              "3          13075          Z11F-MYDA-07  APPLE                     Intel   \n",
              "\n",
              "    Procesador Memoria Ram Pulgadas Pantalla Tipo de Almacenamiento  \\\n",
              "0  AMD Ryzen 9        16GB            13.4''                    SSD   \n",
              "2  AMD Ryzen 9        16GB            13.4''                    SSD   \n",
              "3           M1        16GB            13.3''                    SSD   \n",
              "\n",
              "  Almacenamiento Tipo de Pantalla Tipo de Memoria Ram    Tienda  \\\n",
              "0            1TB            WUXGA                DDR4   Hiraoka   \n",
              "2            1TB              IPS                 NaN   Oechsle   \n",
              "3            2TB              IPS                 NaN  Plazavea   \n",
              "\n",
              "  Precio Normal_categ Precio Online_categ  cluster_predicted  \n",
              "0         10000-15200         10000-15200                  0  \n",
              "2         10000-15200         10000-15200                  0  \n",
              "3         10000-15200         10000-15200                  0  "
            ]
          },
          "execution_count": 40,
          "metadata": {},
          "output_type": "execute_result"
        }
      ],
      "source": [
        "Cluster_0.head(3)"
      ]
    },
    {
      "cell_type": "code",
      "execution_count": 41,
      "metadata": {
        "colab": {
          "base_uri": "https://localhost:8080/"
        },
        "id": "IMuC6gi-6lRA",
        "outputId": "982122b3-9d53-4bd8-ca77-aad8ac43ddf1"
      },
      "outputs": [
        {
          "data": {
            "text/plain": [
              "(61, 56, 67, 32, 27)"
            ]
          },
          "execution_count": 41,
          "metadata": {},
          "output_type": "execute_result"
        }
      ],
      "source": [
        "# Cantidad de elementos por clusters\n",
        "len(Cluster_0), len(Cluster_1), len(Cluster_2) ,len(Cluster_3),len(Cluster_4)"
      ]
    },
    {
      "cell_type": "code",
      "execution_count": 42,
      "metadata": {
        "colab": {
          "base_uri": "https://localhost:8080/"
        },
        "id": "hzvxoExs4-Np",
        "outputId": "98976783-4daa-4c10-bf18-e178531796bc"
      },
      "outputs": [
        {
          "name": "stdout",
          "output_type": "stream",
          "text": [
            "<class 'pandas.core.frame.DataFrame'>\n",
            "Int64Index: 61 entries, 0 to 242\n",
            "Data columns (total 18 columns):\n",
            " #   Column                  Non-Null Count  Dtype   \n",
            "---  ------                  --------------  -----   \n",
            " 0   Titulo                  61 non-null     object  \n",
            " 1   Link                    61 non-null     object  \n",
            " 2   Precio Normal           61 non-null     float64 \n",
            " 3   Precio Online           61 non-null     int64   \n",
            " 4   Modelo                  61 non-null     object  \n",
            " 5   Marca                   61 non-null     object  \n",
            " 6   Tarjeta de Video        58 non-null     object  \n",
            " 7   Procesador              61 non-null     object  \n",
            " 8   Memoria Ram             61 non-null     object  \n",
            " 9   Pulgadas Pantalla       61 non-null     object  \n",
            " 10  Tipo de Almacenamiento  61 non-null     object  \n",
            " 11  Almacenamiento          61 non-null     object  \n",
            " 12  Tipo de Pantalla        61 non-null     object  \n",
            " 13  Tipo de Memoria Ram     34 non-null     object  \n",
            " 14  Tienda                  61 non-null     object  \n",
            " 15  Precio Normal_categ     61 non-null     category\n",
            " 16  Precio Online_categ     61 non-null     category\n",
            " 17  cluster_predicted       61 non-null     uint16  \n",
            "dtypes: category(2), float64(1), int64(1), object(13), uint16(1)\n",
            "memory usage: 9.2+ KB\n"
          ]
        }
      ],
      "source": [
        "Cluster_0.info()"
      ]
    },
    {
      "cell_type": "code",
      "execution_count": 43,
      "metadata": {
        "colab": {
          "base_uri": "https://localhost:8080/",
          "height": 355
        },
        "id": "YhOYBCebgerJ",
        "outputId": "cbab978b-361e-4f5a-f47e-aeed3871e5ee"
      },
      "outputs": [
        {
          "data": {
            "image/png": "[encoded data removed]",
            "text/plain": [
              "<Figure size 720x360 with 1 Axes>"
            ]
          },
          "metadata": {},
          "output_type": "display_data"
        }
      ],
      "source": [
        "sns.set(rc={'figure.figsize':(10,5)})\n",
        "sns.countplot(x = Cluster_1['Marca'], order = Cluster_1['Marca'].value_counts().index,palette = 'inferno',\n",
        "              hue = Cluster_1['Marca'])\n",
        "plt.legend(ncol=3)\n",
        "plt.title('Cantidad de marcas de latops entre las tres tiendas')\n",
        "plt.show()"
      ]
    },
    {
      "cell_type": "code",
      "execution_count": 44,
      "metadata": {
        "colab": {
          "base_uri": "https://localhost:8080/",
          "height": 355
        },
        "id": "VLSrpwMrZgbz",
        "outputId": "959718ba-38c2-48ed-db46-89e8ed4d7650"
      },
      "outputs": [
        {
          "data": {
            "image/png": "[encoded data removed]",
            "text/plain": [
              "<Figure size 1080x360 with 1 Axes>"
            ]
          },
          "metadata": {},
          "output_type": "display_data"
        }
      ],
      "source": [
        "sns.set(rc={'figure.figsize':(15,5)})\n",
        "sns.countplot(x = combineDF['cluster_predicted'], palette = 'inferno',\n",
        "              order=combineDF['cluster_predicted'].value_counts().index,hue=combineDF['Marca'])\n",
        "plt.title('Cantidad de tipo de marcas por Cluster')\n",
        "plt.legend(ncol=3) \n",
        "plt.show() "
      ]
    },
    {
      "cell_type": "code",
      "execution_count": 45,
      "metadata": {
        "colab": {
          "base_uri": "https://localhost:8080/",
          "height": 410
        },
        "id": "lT5YacnYWD8o",
        "outputId": "9bf2a05f-15b8-480d-8169-3168d00ea210"
      },
      "outputs": [
        {
          "data": {
            "image/png": "[encoded data removed]",
            "text/plain": [
              "<Figure size 1080x432 with 1 Axes>"
            ]
          },
          "metadata": {},
          "output_type": "display_data"
        }
      ],
      "source": [
        "sns.set(rc={'figure.figsize':(15,6)})\n",
        "sns.countplot(x = combineDF['cluster_predicted'],palette = 'Paired',\n",
        "              order=combineDF['cluster_predicted'].value_counts().index,hue=combineDF['Precio Online_categ'])\n",
        "plt.legend(ncol=5)\n",
        "plt.title('Cantidad de rangos de precios por Cluster')\n",
        "plt.show() "
      ]
    },
    {
      "cell_type": "code",
      "execution_count": 46,
      "metadata": {
        "colab": {
          "base_uri": "https://localhost:8080/",
          "height": 355
        },
        "id": "1zRb7O67YITU",
        "outputId": "fb2a9c4b-69fe-4ab2-ede0-29d4dd3bca29"
      },
      "outputs": [
        {
          "data": {
            "image/png": "[encoded data removed]",
            "text/plain": [
              "<Figure size 936x360 with 1 Axes>"
            ]
          },
          "metadata": {},
          "output_type": "display_data"
        }
      ],
      "source": [
        "sns.set(rc={'figure.figsize':(13,5)})\n",
        "sns.countplot(x = combineDF['cluster_predicted'],palette = 'tab10',\n",
        "              order=combineDF['cluster_predicted'].value_counts().index,hue=combineDF['Procesador'])\n",
        "plt.legend(ncol=5)\n",
        "plt.title('Cantidad de tipos de procesadores por Cluster')\n",
        "plt.show() "
      ]
    },
    {
      "cell_type": "code",
      "execution_count": 47,
      "metadata": {
        "colab": {
          "base_uri": "https://localhost:8080/",
          "height": 355
        },
        "id": "duJhV2B0c4pk",
        "outputId": "a12dd9d0-784e-4dd8-c9db-c954050dfd8f"
      },
      "outputs": [
        {
          "data": {
            "image/png": "[encoded data removed]",
            "text/plain": [
              "<Figure size 936x360 with 1 Axes>"
            ]
          },
          "metadata": {},
          "output_type": "display_data"
        }
      ],
      "source": [
        "sns.set(rc={'figure.figsize':(13,5)})\n",
        "sns.countplot(x = combineDF['cluster_predicted'],palette = 'inferno',\n",
        "              order=combineDF['cluster_predicted'].value_counts().index,hue=combineDF['Memoria Ram'])\n",
        "plt.legend(ncol=3)\n",
        "plt.title('Cantidad de memorias ram por Cluster')\n",
        "plt.show() "
      ]
    },
    {
      "cell_type": "code",
      "execution_count": 48,
      "metadata": {
        "colab": {
          "base_uri": "https://localhost:8080/",
          "height": 355
        },
        "id": "Sdbp-Yludz3D",
        "outputId": "becb5c6d-3123-4873-be6a-657e9c395fdd"
      },
      "outputs": [
        {
          "data": {
            "image/png": "[encoded data removed]",
            "text/plain": [
              "<Figure size 1080x360 with 1 Axes>"
            ]
          },
          "metadata": {},
          "output_type": "display_data"
        }
      ],
      "source": [
        "sns.set(rc={'figure.figsize':(15,5)})\n",
        "sns.countplot(x = combineDF['cluster_predicted'],palette = 'bright',\n",
        "              order=combineDF['cluster_predicted'].value_counts().index,hue=combineDF['Tipo de Pantalla'])\n",
        "plt.legend(ncol=5)\n",
        "plt.title('Cantidad de Tipo de Pantalla por Cluster')\n",
        "plt.show() "
      ]
    },
    {
      "cell_type": "code",
      "execution_count": 49,
      "metadata": {
        "colab": {
          "base_uri": "https://localhost:8080/",
          "height": 410
        },
        "id": "LoWNKCOftEEl",
        "outputId": "6253c9f4-9152-46f7-c9bd-3d7cff569a94"
      },
      "outputs": [
        {
          "data": {
            "image/png": "[encoded data removed]",
            "text/plain": [
              "<Figure size 1440x432 with 1 Axes>"
            ]
          },
          "metadata": {},
          "output_type": "display_data"
        }
      ],
      "source": [
        "sns.set(rc={'figure.figsize':(20,6)})\n",
        "sns.countplot(x = combineDF['cluster_predicted'],palette = 'bright',\n",
        "              order=combineDF['cluster_predicted'].value_counts().index,hue=combineDF['Tarjeta de Video'])\n",
        "plt.legend(ncol=5)\n",
        "plt.title('Cantidad dr Tarjetas gráficas por Cluster')\n",
        "plt.show() "
      ]
    },
    {
      "cell_type": "code",
      "execution_count": 50,
      "metadata": {
        "colab": {
          "base_uri": "https://localhost:8080/",
          "height": 410
        },
        "id": "UkQs8mKqyS8i",
        "outputId": "a956cfee-9fec-45e1-e643-a92699a05935"
      },
      "outputs": [
        {
          "data": {
            "image/png": "[encoded data removed]",
            "text/plain": [
              "<Figure size 1080x432 with 1 Axes>"
            ]
          },
          "metadata": {},
          "output_type": "display_data"
        }
      ],
      "source": [
        "sns.set(rc={'figure.figsize':(15,6)})\n",
        "sns.countplot(x = combineDF['cluster_predicted'],palette = 'bright',\n",
        "              order=combineDF['cluster_predicted'].value_counts().index,hue=combineDF['Almacenamiento'])\n",
        "plt.legend(ncol=5)\n",
        "plt.title('Cantidad de Almacenamiento por Cluster')\n",
        "plt.show() "
      ]
    }
  ],
  "metadata": {
    "colab": {
      "collapsed_sections": [],
      "name": "Proyecto Final Cluster MEM.ipynb",
      "provenance": []
    },
    "kernelspec": {
      "display_name": "Python 3.8.8 ('Cluster_env': venv)",
      "language": "python",
      "name": "python3"
    },
    "language_info": {
      "codemirror_mode": {
        "name": "ipython",
        "version": 3
      },
      "file_extension": ".py",
      "mimetype": "text/x-python",
      "name": "python",
      "nbconvert_exporter": "python",
      "pygments_lexer": "ipython3",
      "version": "3.8.8"
    },
    "vscode": {
      "interpreter": {
        "hash": "3b35688c9f0b11d6eaf5e6350fe77d997b52effe42c6682e91d13176385f03ba"
      }
    }
  },
  "nbformat": 4,
  "nbformat_minor": 0
}
