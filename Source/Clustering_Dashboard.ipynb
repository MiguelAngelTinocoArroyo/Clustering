{
  "cells": [
    {
      "cell_type": "code",
      "execution_count": 1,
      "metadata": {
        "id": "SvQCVV__be4H"
      },
      "outputs": [],
      "source": [
        "import pandas as pd\n",
        "import numpy as np\n",
        "import plotly.express as px"
      ]
    },
    {
      "cell_type": "code",
      "execution_count": 2,
      "metadata": {
        "colab": {
          "base_uri": "https://localhost:8080/",
          "height": 436
        },
        "id": "xh2D5RmBbwGp",
        "outputId": "6a2a6057-8022-4c4f-eea1-f2fd40ae89d1"
      },
      "outputs": [
        {
          "data": {
            "text/html": [
              "<div>\n",
              "<style scoped>\n",
              "    .dataframe tbody tr th:only-of-type {\n",
              "        vertical-align: middle;\n",
              "    }\n",
              "\n",
              "    .dataframe tbody tr th {\n",
              "        vertical-align: top;\n",
              "    }\n",
              "\n",
              "    .dataframe thead th {\n",
              "        text-align: right;\n",
              "    }\n",
              "</style>\n",
              "<table border=\"1\" class=\"dataframe\">\n",
              "  <thead>\n",
              "    <tr style=\"text-align: right;\">\n",
              "      <th></th>\n",
              "      <th>Titulo</th>\n",
              "      <th>Link</th>\n",
              "      <th>Precio Normal</th>\n",
              "      <th>Precio Online</th>\n",
              "      <th>Modelo</th>\n",
              "      <th>Marca</th>\n",
              "      <th>Tarjeta de Video</th>\n",
              "      <th>Procesador</th>\n",
              "      <th>Memoria Ram</th>\n",
              "      <th>Pulgadas Pantalla</th>\n",
              "      <th>Tipo de Almacenamiento</th>\n",
              "      <th>Almacenamiento</th>\n",
              "      <th>Tipo de Pantalla</th>\n",
              "      <th>Tipo de Memoria Ram</th>\n",
              "      <th>Tienda</th>\n",
              "      <th>Precio Normal_categ</th>\n",
              "      <th>Precio Online_categ</th>\n",
              "      <th>cluster_predicted</th>\n",
              "    </tr>\n",
              "  </thead>\n",
              "  <tbody>\n",
              "    <tr>\n",
              "      <th>0</th>\n",
              "      <td>Laptop Asus ROG Flow X13 GV301QH 13.4\" AMD Ryz...</td>\n",
              "      <td>https://hiraoka.com.pe/computo-y-tecnologia/co...</td>\n",
              "      <td>15199</td>\n",
              "      <td>15199</td>\n",
              "      <td>ROG Flow X13 GV301QH</td>\n",
              "      <td>ASUS</td>\n",
              "      <td>NVIDIA GeForce GTX 1650</td>\n",
              "      <td>AMD Ryzen 9</td>\n",
              "      <td>16GB</td>\n",
              "      <td>13.4''</td>\n",
              "      <td>SSD</td>\n",
              "      <td>1TB</td>\n",
              "      <td>WUXGA</td>\n",
              "      <td>DDR4</td>\n",
              "      <td>Hiraoka</td>\n",
              "      <td>10000-15200</td>\n",
              "      <td>10000-15200</td>\n",
              "      <td>0</td>\n",
              "    </tr>\n",
              "    <tr>\n",
              "      <th>1</th>\n",
              "      <td>Laptop Gamer ASUS ROG Flow X13 GV301QH 13.4'' ...</td>\n",
              "      <td>https://www.oechsle.pe/laptop-gamer-asus-rog-f...</td>\n",
              "      <td>13699</td>\n",
              "      <td>13099</td>\n",
              "      <td>GV301QH-K6320T</td>\n",
              "      <td>ASUS</td>\n",
              "      <td>AMD</td>\n",
              "      <td>AMD Ryzen 9</td>\n",
              "      <td>16GB</td>\n",
              "      <td>13.4''</td>\n",
              "      <td>SSD</td>\n",
              "      <td>1TB</td>\n",
              "      <td>IPS</td>\n",
              "      <td>NaN</td>\n",
              "      <td>Oechsle</td>\n",
              "      <td>10000-15200</td>\n",
              "      <td>10000-15200</td>\n",
              "      <td>0</td>\n",
              "    </tr>\n",
              "  </tbody>\n",
              "</table>\n",
              "</div>"
            ],
            "text/plain": [
              "                                              Titulo  \\\n",
              "0  Laptop Asus ROG Flow X13 GV301QH 13.4\" AMD Ryz...   \n",
              "1  Laptop Gamer ASUS ROG Flow X13 GV301QH 13.4'' ...   \n",
              "\n",
              "                                                Link  Precio Normal  \\\n",
              "0  https://hiraoka.com.pe/computo-y-tecnologia/co...          15199   \n",
              "1  https://www.oechsle.pe/laptop-gamer-asus-rog-f...          13699   \n",
              "\n",
              "   Precio Online                Modelo Marca          Tarjeta de Video  \\\n",
              "0          15199  ROG Flow X13 GV301QH  ASUS  NVIDIA GeForce GTX 1650    \n",
              "1          13099        GV301QH-K6320T  ASUS                       AMD   \n",
              "\n",
              "    Procesador Memoria Ram Pulgadas Pantalla Tipo de Almacenamiento  \\\n",
              "0  AMD Ryzen 9        16GB            13.4''                    SSD   \n",
              "1  AMD Ryzen 9        16GB            13.4''                    SSD   \n",
              "\n",
              "  Almacenamiento Tipo de Pantalla Tipo de Memoria Ram   Tienda  \\\n",
              "0            1TB            WUXGA                DDR4  Hiraoka   \n",
              "1            1TB              IPS                 NaN  Oechsle   \n",
              "\n",
              "  Precio Normal_categ Precio Online_categ  cluster_predicted  \n",
              "0         10000-15200         10000-15200                  0  \n",
              "1         10000-15200         10000-15200                  0  "
            ]
          },
          "execution_count": 2,
          "metadata": {},
          "output_type": "execute_result"
        }
      ],
      "source": [
        "df = pd.read_csv('../Data/ClusterFinal.csv', sep=\";\") \n",
        "df.head(2)"
      ]
    },
    {
      "cell_type": "code",
      "execution_count": 3,
      "metadata": {
        "colab": {
          "base_uri": "https://localhost:8080/",
          "height": 417
        },
        "id": "Y--V893Ecn-R",
        "outputId": "36bfeb5c-916e-44e1-f3f2-18ee11e46f8a"
      },
      "outputs": [
        {
          "data": {
            "application/vnd.plotly.v1+json": {
              "config": {
                "plotlyServerURL": "https://plot.ly"
              },
              "data": [
                {
                  "alignmentgroup": "True",
                  "hovertemplate": "Procesador=%{x}<br>Cantidad de Procesador=%{y}<extra></extra>",
                  "legendgroup": "Intel Core i5",
                  "marker": {
                    "color": "#636efa",
                    "pattern": {
                      "shape": ""
                    }
                  },
                  "name": "Intel Core i5",
                  "offsetgroup": "Intel Core i5",
                  "orientation": "v",
                  "showlegend": true,
                  "textposition": "auto",
                  "texttemplate": "%{y:.2s}",
                  "type": "bar",
                  "x": [
                    "Intel Core i5"
                  ],
                  "xaxis": "x",
                  "y": [
                    69
                  ],
                  "yaxis": "y"
                },
                {
                  "alignmentgroup": "True",
                  "hovertemplate": "Procesador=%{x}<br>Cantidad de Procesador=%{y}<extra></extra>",
                  "legendgroup": "Intel Core i7",
                  "marker": {
                    "color": "#EF553B",
                    "pattern": {
                      "shape": ""
                    }
                  },
                  "name": "Intel Core i7",
                  "offsetgroup": "Intel Core i7",
                  "orientation": "v",
                  "showlegend": true,
                  "textposition": "auto",
                  "texttemplate": "%{y:.2s}",
                  "type": "bar",
                  "x": [
                    "Intel Core i7"
                  ],
                  "xaxis": "x",
                  "y": [
                    61
                  ],
                  "yaxis": "y"
                },
                {
                  "alignmentgroup": "True",
                  "hovertemplate": "Procesador=%{x}<br>Cantidad de Procesador=%{y}<extra></extra>",
                  "legendgroup": "Intel Core i3",
                  "marker": {
                    "color": "#00cc96",
                    "pattern": {
                      "shape": ""
                    }
                  },
                  "name": "Intel Core i3",
                  "offsetgroup": "Intel Core i3",
                  "orientation": "v",
                  "showlegend": true,
                  "textposition": "auto",
                  "texttemplate": "%{y:.2s}",
                  "type": "bar",
                  "x": [
                    "Intel Core i3"
                  ],
                  "xaxis": "x",
                  "y": [
                    38
                  ],
                  "yaxis": "y"
                },
                {
                  "alignmentgroup": "True",
                  "hovertemplate": "Procesador=%{x}<br>Cantidad de Procesador=%{y}<extra></extra>",
                  "legendgroup": "AMD Ryzen 5",
                  "marker": {
                    "color": "#ab63fa",
                    "pattern": {
                      "shape": ""
                    }
                  },
                  "name": "AMD Ryzen 5",
                  "offsetgroup": "AMD Ryzen 5",
                  "orientation": "v",
                  "showlegend": true,
                  "textposition": "auto",
                  "texttemplate": "%{y:.2s}",
                  "type": "bar",
                  "x": [
                    "AMD Ryzen 5"
                  ],
                  "xaxis": "x",
                  "y": [
                    26
                  ],
                  "yaxis": "y"
                },
                {
                  "alignmentgroup": "True",
                  "hovertemplate": "Procesador=%{x}<br>Cantidad de Procesador=%{y}<extra></extra>",
                  "legendgroup": "AMD Ryzen 7",
                  "marker": {
                    "color": "#FFA15A",
                    "pattern": {
                      "shape": ""
                    }
                  },
                  "name": "AMD Ryzen 7",
                  "offsetgroup": "AMD Ryzen 7",
                  "orientation": "v",
                  "showlegend": true,
                  "textposition": "auto",
                  "texttemplate": "%{y:.2s}",
                  "type": "bar",
                  "x": [
                    "AMD Ryzen 7"
                  ],
                  "xaxis": "x",
                  "y": [
                    24
                  ],
                  "yaxis": "y"
                },
                {
                  "alignmentgroup": "True",
                  "hovertemplate": "Procesador=%{x}<br>Cantidad de Procesador=%{y}<extra></extra>",
                  "legendgroup": "AMD Ryzen 3",
                  "marker": {
                    "color": "#19d3f3",
                    "pattern": {
                      "shape": ""
                    }
                  },
                  "name": "AMD Ryzen 3",
                  "offsetgroup": "AMD Ryzen 3",
                  "orientation": "v",
                  "showlegend": true,
                  "textposition": "auto",
                  "texttemplate": "%{y:.2s}",
                  "type": "bar",
                  "x": [
                    "AMD Ryzen 3"
                  ],
                  "xaxis": "x",
                  "y": [
                    8
                  ],
                  "yaxis": "y"
                },
                {
                  "alignmentgroup": "True",
                  "hovertemplate": "Procesador=%{x}<br>Cantidad de Procesador=%{y}<extra></extra>",
                  "legendgroup": "AMD Ryzen 9",
                  "marker": {
                    "color": "#FF6692",
                    "pattern": {
                      "shape": ""
                    }
                  },
                  "name": "AMD Ryzen 9",
                  "offsetgroup": "AMD Ryzen 9",
                  "orientation": "v",
                  "showlegend": true,
                  "textposition": "auto",
                  "texttemplate": "%{y:.2s}",
                  "type": "bar",
                  "x": [
                    "AMD Ryzen 9"
                  ],
                  "xaxis": "x",
                  "y": [
                    4
                  ],
                  "yaxis": "y"
                },
                {
                  "alignmentgroup": "True",
                  "hovertemplate": "Procesador=%{x}<br>Cantidad de Procesador=%{y}<extra></extra>",
                  "legendgroup": "Intel Celeron",
                  "marker": {
                    "color": "#B6E880",
                    "pattern": {
                      "shape": ""
                    }
                  },
                  "name": "Intel Celeron",
                  "offsetgroup": "Intel Celeron",
                  "orientation": "v",
                  "showlegend": true,
                  "textposition": "auto",
                  "texttemplate": "%{y:.2s}",
                  "type": "bar",
                  "x": [
                    "Intel Celeron"
                  ],
                  "xaxis": "x",
                  "y": [
                    4
                  ],
                  "yaxis": "y"
                },
                {
                  "alignmentgroup": "True",
                  "hovertemplate": "Procesador=%{x}<br>Cantidad de Procesador=%{y}<extra></extra>",
                  "legendgroup": "Intel Pentium",
                  "marker": {
                    "color": "#FF97FF",
                    "pattern": {
                      "shape": ""
                    }
                  },
                  "name": "Intel Pentium",
                  "offsetgroup": "Intel Pentium",
                  "orientation": "v",
                  "showlegend": true,
                  "textposition": "auto",
                  "texttemplate": "%{y:.2s}",
                  "type": "bar",
                  "x": [
                    "Intel Pentium"
                  ],
                  "xaxis": "x",
                  "y": [
                    4
                  ],
                  "yaxis": "y"
                },
                {
                  "alignmentgroup": "True",
                  "hovertemplate": "Procesador=%{x}<br>Cantidad de Procesador=%{y}<extra></extra>",
                  "legendgroup": "M1",
                  "marker": {
                    "color": "#FECB52",
                    "pattern": {
                      "shape": ""
                    }
                  },
                  "name": "M1",
                  "offsetgroup": "M1",
                  "orientation": "v",
                  "showlegend": true,
                  "textposition": "auto",
                  "texttemplate": "%{y:.2s}",
                  "type": "bar",
                  "x": [
                    "M1"
                  ],
                  "xaxis": "x",
                  "y": [
                    4
                  ],
                  "yaxis": "y"
                },
                {
                  "alignmentgroup": "True",
                  "hovertemplate": "Procesador=%{x}<br>Cantidad de Procesador=%{y}<extra></extra>",
                  "legendgroup": "AMD Ryzen A4",
                  "marker": {
                    "color": "#636efa",
                    "pattern": {
                      "shape": ""
                    }
                  },
                  "name": "AMD Ryzen A4",
                  "offsetgroup": "AMD Ryzen A4",
                  "orientation": "v",
                  "showlegend": true,
                  "textposition": "auto",
                  "texttemplate": "%{y:.2s}",
                  "type": "bar",
                  "x": [
                    "AMD Ryzen A4"
                  ],
                  "xaxis": "x",
                  "y": [
                    1
                  ],
                  "yaxis": "y"
                }
              ],
              "layout": {
                "barmode": "relative",
                "height": 400,
                "legend": {
                  "title": {
                    "text": "Procesador"
                  },
                  "tracegroupgap": 0
                },
                "margin": {
                  "t": 60
                },
                "template": {
                  "data": {
                    "bar": [
                      {
                        "error_x": {
                          "color": "#f2f5fa"
                        },
                        "error_y": {
                          "color": "#f2f5fa"
                        },
                        "marker": {
                          "line": {
                            "color": "rgb(17,17,17)",
                            "width": 0.5
                          },
                          "pattern": {
                            "fillmode": "overlay",
                            "size": 10,
                            "solidity": 0.2
                          }
                        },
                        "type": "bar"
                      }
                    ],
                    "barpolar": [
                      {
                        "marker": {
                          "line": {
                            "color": "rgb(17,17,17)",
                            "width": 0.5
                          },
                          "pattern": {
                            "fillmode": "overlay",
                            "size": 10,
                            "solidity": 0.2
                          }
                        },
                        "type": "barpolar"
                      }
                    ],
                    "carpet": [
                      {
                        "aaxis": {
                          "endlinecolor": "#A2B1C6",
                          "gridcolor": "#506784",
                          "linecolor": "#506784",
                          "minorgridcolor": "#506784",
                          "startlinecolor": "#A2B1C6"
                        },
                        "baxis": {
                          "endlinecolor": "#A2B1C6",
                          "gridcolor": "#506784",
                          "linecolor": "#506784",
                          "minorgridcolor": "#506784",
                          "startlinecolor": "#A2B1C6"
                        },
                        "type": "carpet"
                      }
                    ],
                    "choropleth": [
                      {
                        "colorbar": {
                          "outlinewidth": 0,
                          "ticks": ""
                        },
                        "type": "choropleth"
                      }
                    ],
                    "contour": [
                      {
                        "colorbar": {
                          "outlinewidth": 0,
                          "ticks": ""
                        },
                        "colorscale": [
                          [
                            0,
                            "#0d0887"
                          ],
                          [
                            0.1111111111111111,
                            "#46039f"
                          ],
                          [
                            0.2222222222222222,
                            "#7201a8"
                          ],
                          [
                            0.3333333333333333,
                            "#9c179e"
                          ],
                          [
                            0.4444444444444444,
                            "#bd3786"
                          ],
                          [
                            0.5555555555555556,
                            "#d8576b"
                          ],
                          [
                            0.6666666666666666,
                            "#ed7953"
                          ],
                          [
                            0.7777777777777778,
                            "#fb9f3a"
                          ],
                          [
                            0.8888888888888888,
                            "#fdca26"
                          ],
                          [
                            1,
                            "#f0f921"
                          ]
                        ],
                        "type": "contour"
                      }
                    ],
                    "contourcarpet": [
                      {
                        "colorbar": {
                          "outlinewidth": 0,
                          "ticks": ""
                        },
                        "type": "contourcarpet"
                      }
                    ],
                    "heatmap": [
                      {
                        "colorbar": {
                          "outlinewidth": 0,
                          "ticks": ""
                        },
                        "colorscale": [
                          [
                            0,
                            "#0d0887"
                          ],
                          [
                            0.1111111111111111,
                            "#46039f"
                          ],
                          [
                            0.2222222222222222,
                            "#7201a8"
                          ],
                          [
                            0.3333333333333333,
                            "#9c179e"
                          ],
                          [
                            0.4444444444444444,
                            "#bd3786"
                          ],
                          [
                            0.5555555555555556,
                            "#d8576b"
                          ],
                          [
                            0.6666666666666666,
                            "#ed7953"
                          ],
                          [
                            0.7777777777777778,
                            "#fb9f3a"
                          ],
                          [
                            0.8888888888888888,
                            "#fdca26"
                          ],
                          [
                            1,
                            "#f0f921"
                          ]
                        ],
                        "type": "heatmap"
                      }
                    ],
                    "heatmapgl": [
                      {
                        "colorbar": {
                          "outlinewidth": 0,
                          "ticks": ""
                        },
                        "colorscale": [
                          [
                            0,
                            "#0d0887"
                          ],
                          [
                            0.1111111111111111,
                            "#46039f"
                          ],
                          [
                            0.2222222222222222,
                            "#7201a8"
                          ],
                          [
                            0.3333333333333333,
                            "#9c179e"
                          ],
                          [
                            0.4444444444444444,
                            "#bd3786"
                          ],
                          [
                            0.5555555555555556,
                            "#d8576b"
                          ],
                          [
                            0.6666666666666666,
                            "#ed7953"
                          ],
                          [
                            0.7777777777777778,
                            "#fb9f3a"
                          ],
                          [
                            0.8888888888888888,
                            "#fdca26"
                          ],
                          [
                            1,
                            "#f0f921"
                          ]
                        ],
                        "type": "heatmapgl"
                      }
                    ],
                    "histogram": [
                      {
                        "marker": {
                          "pattern": {
                            "fillmode": "overlay",
                            "size": 10,
                            "solidity": 0.2
                          }
                        },
                        "type": "histogram"
                      }
                    ],
                    "histogram2d": [
                      {
                        "colorbar": {
                          "outlinewidth": 0,
                          "ticks": ""
                        },
                        "colorscale": [
                          [
                            0,
                            "#0d0887"
                          ],
                          [
                            0.1111111111111111,
                            "#46039f"
                          ],
                          [
                            0.2222222222222222,
                            "#7201a8"
                          ],
                          [
                            0.3333333333333333,
                            "#9c179e"
                          ],
                          [
                            0.4444444444444444,
                            "#bd3786"
                          ],
                          [
                            0.5555555555555556,
                            "#d8576b"
                          ],
                          [
                            0.6666666666666666,
                            "#ed7953"
                          ],
                          [
                            0.7777777777777778,
                            "#fb9f3a"
                          ],
                          [
                            0.8888888888888888,
                            "#fdca26"
                          ],
                          [
                            1,
                            "#f0f921"
                          ]
                        ],
                        "type": "histogram2d"
                      }
                    ],
                    "histogram2dcontour": [
                      {
                        "colorbar": {
                          "outlinewidth": 0,
                          "ticks": ""
                        },
                        "colorscale": [
                          [
                            0,
                            "#0d0887"
                          ],
                          [
                            0.1111111111111111,
                            "#46039f"
                          ],
                          [
                            0.2222222222222222,
                            "#7201a8"
                          ],
                          [
                            0.3333333333333333,
                            "#9c179e"
                          ],
                          [
                            0.4444444444444444,
                            "#bd3786"
                          ],
                          [
                            0.5555555555555556,
                            "#d8576b"
                          ],
                          [
                            0.6666666666666666,
                            "#ed7953"
                          ],
                          [
                            0.7777777777777778,
                            "#fb9f3a"
                          ],
                          [
                            0.8888888888888888,
                            "#fdca26"
                          ],
                          [
                            1,
                            "#f0f921"
                          ]
                        ],
                        "type": "histogram2dcontour"
                      }
                    ],
                    "mesh3d": [
                      {
                        "colorbar": {
                          "outlinewidth": 0,
                          "ticks": ""
                        },
                        "type": "mesh3d"
                      }
                    ],
                    "parcoords": [
                      {
                        "line": {
                          "colorbar": {
                            "outlinewidth": 0,
                            "ticks": ""
                          }
                        },
                        "type": "parcoords"
                      }
                    ],
                    "pie": [
                      {
                        "automargin": true,
                        "type": "pie"
                      }
                    ],
                    "scatter": [
                      {
                        "marker": {
                          "line": {
                            "color": "#283442"
                          }
                        },
                        "type": "scatter"
                      }
                    ],
                    "scatter3d": [
                      {
                        "line": {
                          "colorbar": {
                            "outlinewidth": 0,
                            "ticks": ""
                          }
                        },
                        "marker": {
                          "colorbar": {
                            "outlinewidth": 0,
                            "ticks": ""
                          }
                        },
                        "type": "scatter3d"
                      }
                    ],
                    "scattercarpet": [
                      {
                        "marker": {
                          "colorbar": {
                            "outlinewidth": 0,
                            "ticks": ""
                          }
                        },
                        "type": "scattercarpet"
                      }
                    ],
                    "scattergeo": [
                      {
                        "marker": {
                          "colorbar": {
                            "outlinewidth": 0,
                            "ticks": ""
                          }
                        },
                        "type": "scattergeo"
                      }
                    ],
                    "scattergl": [
                      {
                        "marker": {
                          "line": {
                            "color": "#283442"
                          }
                        },
                        "type": "scattergl"
                      }
                    ],
                    "scattermapbox": [
                      {
                        "marker": {
                          "colorbar": {
                            "outlinewidth": 0,
                            "ticks": ""
                          }
                        },
                        "type": "scattermapbox"
                      }
                    ],
                    "scatterpolar": [
                      {
                        "marker": {
                          "colorbar": {
                            "outlinewidth": 0,
                            "ticks": ""
                          }
                        },
                        "type": "scatterpolar"
                      }
                    ],
                    "scatterpolargl": [
                      {
                        "marker": {
                          "colorbar": {
                            "outlinewidth": 0,
                            "ticks": ""
                          }
                        },
                        "type": "scatterpolargl"
                      }
                    ],
                    "scatterternary": [
                      {
                        "marker": {
                          "colorbar": {
                            "outlinewidth": 0,
                            "ticks": ""
                          }
                        },
                        "type": "scatterternary"
                      }
                    ],
                    "surface": [
                      {
                        "colorbar": {
                          "outlinewidth": 0,
                          "ticks": ""
                        },
                        "colorscale": [
                          [
                            0,
                            "#0d0887"
                          ],
                          [
                            0.1111111111111111,
                            "#46039f"
                          ],
                          [
                            0.2222222222222222,
                            "#7201a8"
                          ],
                          [
                            0.3333333333333333,
                            "#9c179e"
                          ],
                          [
                            0.4444444444444444,
                            "#bd3786"
                          ],
                          [
                            0.5555555555555556,
                            "#d8576b"
                          ],
                          [
                            0.6666666666666666,
                            "#ed7953"
                          ],
                          [
                            0.7777777777777778,
                            "#fb9f3a"
                          ],
                          [
                            0.8888888888888888,
                            "#fdca26"
                          ],
                          [
                            1,
                            "#f0f921"
                          ]
                        ],
                        "type": "surface"
                      }
                    ],
                    "table": [
                      {
                        "cells": {
                          "fill": {
                            "color": "#506784"
                          },
                          "line": {
                            "color": "rgb(17,17,17)"
                          }
                        },
                        "header": {
                          "fill": {
                            "color": "#2a3f5f"
                          },
                          "line": {
                            "color": "rgb(17,17,17)"
                          }
                        },
                        "type": "table"
                      }
                    ]
                  },
                  "layout": {
                    "annotationdefaults": {
                      "arrowcolor": "#f2f5fa",
                      "arrowhead": 0,
                      "arrowwidth": 1
                    },
                    "autotypenumbers": "strict",
                    "coloraxis": {
                      "colorbar": {
                        "outlinewidth": 0,
                        "ticks": ""
                      }
                    },
                    "colorscale": {
                      "diverging": [
                        [
                          0,
                          "#8e0152"
                        ],
                        [
                          0.1,
                          "#c51b7d"
                        ],
                        [
                          0.2,
                          "#de77ae"
                        ],
                        [
                          0.3,
                          "#f1b6da"
                        ],
                        [
                          0.4,
                          "#fde0ef"
                        ],
                        [
                          0.5,
                          "#f7f7f7"
                        ],
                        [
                          0.6,
                          "#e6f5d0"
                        ],
                        [
                          0.7,
                          "#b8e186"
                        ],
                        [
                          0.8,
                          "#7fbc41"
                        ],
                        [
                          0.9,
                          "#4d9221"
                        ],
                        [
                          1,
                          "#276419"
                        ]
                      ],
                      "sequential": [
                        [
                          0,
                          "#0d0887"
                        ],
                        [
                          0.1111111111111111,
                          "#46039f"
                        ],
                        [
                          0.2222222222222222,
                          "#7201a8"
                        ],
                        [
                          0.3333333333333333,
                          "#9c179e"
                        ],
                        [
                          0.4444444444444444,
                          "#bd3786"
                        ],
                        [
                          0.5555555555555556,
                          "#d8576b"
                        ],
                        [
                          0.6666666666666666,
                          "#ed7953"
                        ],
                        [
                          0.7777777777777778,
                          "#fb9f3a"
                        ],
                        [
                          0.8888888888888888,
                          "#fdca26"
                        ],
                        [
                          1,
                          "#f0f921"
                        ]
                      ],
                      "sequentialminus": [
                        [
                          0,
                          "#0d0887"
                        ],
                        [
                          0.1111111111111111,
                          "#46039f"
                        ],
                        [
                          0.2222222222222222,
                          "#7201a8"
                        ],
                        [
                          0.3333333333333333,
                          "#9c179e"
                        ],
                        [
                          0.4444444444444444,
                          "#bd3786"
                        ],
                        [
                          0.5555555555555556,
                          "#d8576b"
                        ],
                        [
                          0.6666666666666666,
                          "#ed7953"
                        ],
                        [
                          0.7777777777777778,
                          "#fb9f3a"
                        ],
                        [
                          0.8888888888888888,
                          "#fdca26"
                        ],
                        [
                          1,
                          "#f0f921"
                        ]
                      ]
                    },
                    "colorway": [
                      "#636efa",
                      "#EF553B",
                      "#00cc96",
                      "#ab63fa",
                      "#FFA15A",
                      "#19d3f3",
                      "#FF6692",
                      "#B6E880",
                      "#FF97FF",
                      "#FECB52"
                    ],
                    "font": {
                      "color": "#f2f5fa"
                    },
                    "geo": {
                      "bgcolor": "rgb(17,17,17)",
                      "lakecolor": "rgb(17,17,17)",
                      "landcolor": "rgb(17,17,17)",
                      "showlakes": true,
                      "showland": true,
                      "subunitcolor": "#506784"
                    },
                    "hoverlabel": {
                      "align": "left"
                    },
                    "hovermode": "closest",
                    "mapbox": {
                      "style": "dark"
                    },
                    "paper_bgcolor": "rgb(17,17,17)",
                    "plot_bgcolor": "rgb(17,17,17)",
                    "polar": {
                      "angularaxis": {
                        "gridcolor": "#506784",
                        "linecolor": "#506784",
                        "ticks": ""
                      },
                      "bgcolor": "rgb(17,17,17)",
                      "radialaxis": {
                        "gridcolor": "#506784",
                        "linecolor": "#506784",
                        "ticks": ""
                      }
                    },
                    "scene": {
                      "xaxis": {
                        "backgroundcolor": "rgb(17,17,17)",
                        "gridcolor": "#506784",
                        "gridwidth": 2,
                        "linecolor": "#506784",
                        "showbackground": true,
                        "ticks": "",
                        "zerolinecolor": "#C8D4E3"
                      },
                      "yaxis": {
                        "backgroundcolor": "rgb(17,17,17)",
                        "gridcolor": "#506784",
                        "gridwidth": 2,
                        "linecolor": "#506784",
                        "showbackground": true,
                        "ticks": "",
                        "zerolinecolor": "#C8D4E3"
                      },
                      "zaxis": {
                        "backgroundcolor": "rgb(17,17,17)",
                        "gridcolor": "#506784",
                        "gridwidth": 2,
                        "linecolor": "#506784",
                        "showbackground": true,
                        "ticks": "",
                        "zerolinecolor": "#C8D4E3"
                      }
                    },
                    "shapedefaults": {
                      "line": {
                        "color": "#f2f5fa"
                      }
                    },
                    "sliderdefaults": {
                      "bgcolor": "#C8D4E3",
                      "bordercolor": "rgb(17,17,17)",
                      "borderwidth": 1,
                      "tickwidth": 0
                    },
                    "ternary": {
                      "aaxis": {
                        "gridcolor": "#506784",
                        "linecolor": "#506784",
                        "ticks": ""
                      },
                      "baxis": {
                        "gridcolor": "#506784",
                        "linecolor": "#506784",
                        "ticks": ""
                      },
                      "bgcolor": "rgb(17,17,17)",
                      "caxis": {
                        "gridcolor": "#506784",
                        "linecolor": "#506784",
                        "ticks": ""
                      }
                    },
                    "title": {
                      "x": 0.05
                    },
                    "updatemenudefaults": {
                      "bgcolor": "#506784",
                      "borderwidth": 0
                    },
                    "xaxis": {
                      "automargin": true,
                      "gridcolor": "#283442",
                      "linecolor": "#506784",
                      "ticks": "",
                      "title": {
                        "standoff": 15
                      },
                      "zerolinecolor": "#283442",
                      "zerolinewidth": 2
                    },
                    "yaxis": {
                      "automargin": true,
                      "gridcolor": "#283442",
                      "linecolor": "#506784",
                      "ticks": "",
                      "title": {
                        "standoff": 15
                      },
                      "zerolinecolor": "#283442",
                      "zerolinewidth": 2
                    }
                  }
                },
                "width": 800,
                "xaxis": {
                  "anchor": "y",
                  "categoryarray": [
                    "Intel Core i5",
                    "Intel Core i7",
                    "Intel Core i3",
                    "AMD Ryzen 5",
                    "AMD Ryzen 7",
                    "AMD Ryzen 3",
                    "AMD Ryzen 9",
                    "Intel Celeron",
                    "Intel Pentium",
                    "M1",
                    "AMD Ryzen A4"
                  ],
                  "categoryorder": "array",
                  "domain": [
                    0,
                    1
                  ],
                  "title": {
                    "text": "Procesador"
                  }
                },
                "yaxis": {
                  "anchor": "x",
                  "domain": [
                    0,
                    1
                  ],
                  "title": {
                    "text": "Cantidad de Procesador"
                  }
                }
              }
            }
          },
          "metadata": {},
          "output_type": "display_data"
        }
      ],
      "source": [
        "proces_x_precio_normal = df.groupby('Procesador')['Precio Normal'].count().sort_values(ascending=False)\n",
        "df_proces = pd.DataFrame(proces_x_precio_normal)\n",
        "proces_x_precio_normal_cambio = df_proces.rename(columns={'Precio Normal': 'Cantidad de Procesador'})\n",
        "proces_x_precio_normal_fig = px.bar(proces_x_precio_normal_cambio, x= proces_x_precio_normal_cambio.index, y='Cantidad de Procesador',template=\"plotly_dark\",\n",
        "                             height=400, width=800, text_auto='.2s',color=proces_x_precio_normal_cambio.index)\n",
        "proces_x_precio_normal_fig.show()"
      ]
    },
    {
      "cell_type": "code",
      "execution_count": 4,
      "metadata": {
        "colab": {
          "base_uri": "https://localhost:8080/",
          "height": 417
        },
        "id": "FarAUMltkYdz",
        "outputId": "2f0d01da-6b47-4040-989f-1767f71b07a2"
      },
      "outputs": [
        {
          "data": {
            "application/vnd.plotly.v1+json": {
              "config": {
                "plotlyServerURL": "https://plot.ly"
              },
              "data": [
                {
                  "alignmentgroup": "True",
                  "hovertemplate": "Marca=%{x}<br>Cantidad de Marcas=%{y}<extra></extra>",
                  "legendgroup": "ASUS",
                  "marker": {
                    "color": "#636efa",
                    "pattern": {
                      "shape": ""
                    }
                  },
                  "name": "ASUS",
                  "offsetgroup": "ASUS",
                  "orientation": "v",
                  "showlegend": true,
                  "textposition": "auto",
                  "texttemplate": "%{y:.2s}",
                  "type": "bar",
                  "x": [
                    "ASUS"
                  ],
                  "xaxis": "x",
                  "y": [
                    73
                  ],
                  "yaxis": "y"
                },
                {
                  "alignmentgroup": "True",
                  "hovertemplate": "Marca=%{x}<br>Cantidad de Marcas=%{y}<extra></extra>",
                  "legendgroup": "HP",
                  "marker": {
                    "color": "#EF553B",
                    "pattern": {
                      "shape": ""
                    }
                  },
                  "name": "HP",
                  "offsetgroup": "HP",
                  "orientation": "v",
                  "showlegend": true,
                  "textposition": "auto",
                  "texttemplate": "%{y:.2s}",
                  "type": "bar",
                  "x": [
                    "HP"
                  ],
                  "xaxis": "x",
                  "y": [
                    48
                  ],
                  "yaxis": "y"
                },
                {
                  "alignmentgroup": "True",
                  "hovertemplate": "Marca=%{x}<br>Cantidad de Marcas=%{y}<extra></extra>",
                  "legendgroup": "ACER",
                  "marker": {
                    "color": "#00cc96",
                    "pattern": {
                      "shape": ""
                    }
                  },
                  "name": "ACER",
                  "offsetgroup": "ACER",
                  "orientation": "v",
                  "showlegend": true,
                  "textposition": "auto",
                  "texttemplate": "%{y:.2s}",
                  "type": "bar",
                  "x": [
                    "ACER"
                  ],
                  "xaxis": "x",
                  "y": [
                    35
                  ],
                  "yaxis": "y"
                },
                {
                  "alignmentgroup": "True",
                  "hovertemplate": "Marca=%{x}<br>Cantidad de Marcas=%{y}<extra></extra>",
                  "legendgroup": "LENOVO",
                  "marker": {
                    "color": "#ab63fa",
                    "pattern": {
                      "shape": ""
                    }
                  },
                  "name": "LENOVO",
                  "offsetgroup": "LENOVO",
                  "orientation": "v",
                  "showlegend": true,
                  "textposition": "auto",
                  "texttemplate": "%{y:.2s}",
                  "type": "bar",
                  "x": [
                    "LENOVO"
                  ],
                  "xaxis": "x",
                  "y": [
                    30
                  ],
                  "yaxis": "y"
                },
                {
                  "alignmentgroup": "True",
                  "hovertemplate": "Marca=%{x}<br>Cantidad de Marcas=%{y}<extra></extra>",
                  "legendgroup": "DELL",
                  "marker": {
                    "color": "#FFA15A",
                    "pattern": {
                      "shape": ""
                    }
                  },
                  "name": "DELL",
                  "offsetgroup": "DELL",
                  "orientation": "v",
                  "showlegend": true,
                  "textposition": "auto",
                  "texttemplate": "%{y:.2s}",
                  "type": "bar",
                  "x": [
                    "DELL"
                  ],
                  "xaxis": "x",
                  "y": [
                    21
                  ],
                  "yaxis": "y"
                },
                {
                  "alignmentgroup": "True",
                  "hovertemplate": "Marca=%{x}<br>Cantidad de Marcas=%{y}<extra></extra>",
                  "legendgroup": "MSI",
                  "marker": {
                    "color": "#19d3f3",
                    "pattern": {
                      "shape": ""
                    }
                  },
                  "name": "MSI",
                  "offsetgroup": "MSI",
                  "orientation": "v",
                  "showlegend": true,
                  "textposition": "auto",
                  "texttemplate": "%{y:.2s}",
                  "type": "bar",
                  "x": [
                    "MSI"
                  ],
                  "xaxis": "x",
                  "y": [
                    15
                  ],
                  "yaxis": "y"
                },
                {
                  "alignmentgroup": "True",
                  "hovertemplate": "Marca=%{x}<br>Cantidad de Marcas=%{y}<extra></extra>",
                  "legendgroup": "HUAWEI",
                  "marker": {
                    "color": "#FF6692",
                    "pattern": {
                      "shape": ""
                    }
                  },
                  "name": "HUAWEI",
                  "offsetgroup": "HUAWEI",
                  "orientation": "v",
                  "showlegend": true,
                  "textposition": "auto",
                  "texttemplate": "%{y:.2s}",
                  "type": "bar",
                  "x": [
                    "HUAWEI"
                  ],
                  "xaxis": "x",
                  "y": [
                    10
                  ],
                  "yaxis": "y"
                },
                {
                  "alignmentgroup": "True",
                  "hovertemplate": "Marca=%{x}<br>Cantidad de Marcas=%{y}<extra></extra>",
                  "legendgroup": "APPLE",
                  "marker": {
                    "color": "#B6E880",
                    "pattern": {
                      "shape": ""
                    }
                  },
                  "name": "APPLE",
                  "offsetgroup": "APPLE",
                  "orientation": "v",
                  "showlegend": true,
                  "textposition": "auto",
                  "texttemplate": "%{y:.2s}",
                  "type": "bar",
                  "x": [
                    "APPLE"
                  ],
                  "xaxis": "x",
                  "y": [
                    4
                  ],
                  "yaxis": "y"
                },
                {
                  "alignmentgroup": "True",
                  "hovertemplate": "Marca=%{x}<br>Cantidad de Marcas=%{y}<extra></extra>",
                  "legendgroup": "LG",
                  "marker": {
                    "color": "#FF97FF",
                    "pattern": {
                      "shape": ""
                    }
                  },
                  "name": "LG",
                  "offsetgroup": "LG",
                  "orientation": "v",
                  "showlegend": true,
                  "textposition": "auto",
                  "texttemplate": "%{y:.2s}",
                  "type": "bar",
                  "x": [
                    "LG"
                  ],
                  "xaxis": "x",
                  "y": [
                    4
                  ],
                  "yaxis": "y"
                },
                {
                  "alignmentgroup": "True",
                  "hovertemplate": "Marca=%{x}<br>Cantidad de Marcas=%{y}<extra></extra>",
                  "legendgroup": "MIRAY",
                  "marker": {
                    "color": "#FECB52",
                    "pattern": {
                      "shape": ""
                    }
                  },
                  "name": "MIRAY",
                  "offsetgroup": "MIRAY",
                  "orientation": "v",
                  "showlegend": true,
                  "textposition": "auto",
                  "texttemplate": "%{y:.2s}",
                  "type": "bar",
                  "x": [
                    "MIRAY"
                  ],
                  "xaxis": "x",
                  "y": [
                    3
                  ],
                  "yaxis": "y"
                }
              ],
              "layout": {
                "barmode": "relative",
                "height": 400,
                "legend": {
                  "title": {
                    "text": "Marca"
                  },
                  "tracegroupgap": 0
                },
                "margin": {
                  "t": 60
                },
                "template": {
                  "data": {
                    "bar": [
                      {
                        "error_x": {
                          "color": "#f2f5fa"
                        },
                        "error_y": {
                          "color": "#f2f5fa"
                        },
                        "marker": {
                          "line": {
                            "color": "rgb(17,17,17)",
                            "width": 0.5
                          },
                          "pattern": {
                            "fillmode": "overlay",
                            "size": 10,
                            "solidity": 0.2
                          }
                        },
                        "type": "bar"
                      }
                    ],
                    "barpolar": [
                      {
                        "marker": {
                          "line": {
                            "color": "rgb(17,17,17)",
                            "width": 0.5
                          },
                          "pattern": {
                            "fillmode": "overlay",
                            "size": 10,
                            "solidity": 0.2
                          }
                        },
                        "type": "barpolar"
                      }
                    ],
                    "carpet": [
                      {
                        "aaxis": {
                          "endlinecolor": "#A2B1C6",
                          "gridcolor": "#506784",
                          "linecolor": "#506784",
                          "minorgridcolor": "#506784",
                          "startlinecolor": "#A2B1C6"
                        },
                        "baxis": {
                          "endlinecolor": "#A2B1C6",
                          "gridcolor": "#506784",
                          "linecolor": "#506784",
                          "minorgridcolor": "#506784",
                          "startlinecolor": "#A2B1C6"
                        },
                        "type": "carpet"
                      }
                    ],
                    "choropleth": [
                      {
                        "colorbar": {
                          "outlinewidth": 0,
                          "ticks": ""
                        },
                        "type": "choropleth"
                      }
                    ],
                    "contour": [
                      {
                        "colorbar": {
                          "outlinewidth": 0,
                          "ticks": ""
                        },
                        "colorscale": [
                          [
                            0,
                            "#0d0887"
                          ],
                          [
                            0.1111111111111111,
                            "#46039f"
                          ],
                          [
                            0.2222222222222222,
                            "#7201a8"
                          ],
                          [
                            0.3333333333333333,
                            "#9c179e"
                          ],
                          [
                            0.4444444444444444,
                            "#bd3786"
                          ],
                          [
                            0.5555555555555556,
                            "#d8576b"
                          ],
                          [
                            0.6666666666666666,
                            "#ed7953"
                          ],
                          [
                            0.7777777777777778,
                            "#fb9f3a"
                          ],
                          [
                            0.8888888888888888,
                            "#fdca26"
                          ],
                          [
                            1,
                            "#f0f921"
                          ]
                        ],
                        "type": "contour"
                      }
                    ],
                    "contourcarpet": [
                      {
                        "colorbar": {
                          "outlinewidth": 0,
                          "ticks": ""
                        },
                        "type": "contourcarpet"
                      }
                    ],
                    "heatmap": [
                      {
                        "colorbar": {
                          "outlinewidth": 0,
                          "ticks": ""
                        },
                        "colorscale": [
                          [
                            0,
                            "#0d0887"
                          ],
                          [
                            0.1111111111111111,
                            "#46039f"
                          ],
                          [
                            0.2222222222222222,
                            "#7201a8"
                          ],
                          [
                            0.3333333333333333,
                            "#9c179e"
                          ],
                          [
                            0.4444444444444444,
                            "#bd3786"
                          ],
                          [
                            0.5555555555555556,
                            "#d8576b"
                          ],
                          [
                            0.6666666666666666,
                            "#ed7953"
                          ],
                          [
                            0.7777777777777778,
                            "#fb9f3a"
                          ],
                          [
                            0.8888888888888888,
                            "#fdca26"
                          ],
                          [
                            1,
                            "#f0f921"
                          ]
                        ],
                        "type": "heatmap"
                      }
                    ],
                    "heatmapgl": [
                      {
                        "colorbar": {
                          "outlinewidth": 0,
                          "ticks": ""
                        },
                        "colorscale": [
                          [
                            0,
                            "#0d0887"
                          ],
                          [
                            0.1111111111111111,
                            "#46039f"
                          ],
                          [
                            0.2222222222222222,
                            "#7201a8"
                          ],
                          [
                            0.3333333333333333,
                            "#9c179e"
                          ],
                          [
                            0.4444444444444444,
                            "#bd3786"
                          ],
                          [
                            0.5555555555555556,
                            "#d8576b"
                          ],
                          [
                            0.6666666666666666,
                            "#ed7953"
                          ],
                          [
                            0.7777777777777778,
                            "#fb9f3a"
                          ],
                          [
                            0.8888888888888888,
                            "#fdca26"
                          ],
                          [
                            1,
                            "#f0f921"
                          ]
                        ],
                        "type": "heatmapgl"
                      }
                    ],
                    "histogram": [
                      {
                        "marker": {
                          "pattern": {
                            "fillmode": "overlay",
                            "size": 10,
                            "solidity": 0.2
                          }
                        },
                        "type": "histogram"
                      }
                    ],
                    "histogram2d": [
                      {
                        "colorbar": {
                          "outlinewidth": 0,
                          "ticks": ""
                        },
                        "colorscale": [
                          [
                            0,
                            "#0d0887"
                          ],
                          [
                            0.1111111111111111,
                            "#46039f"
                          ],
                          [
                            0.2222222222222222,
                            "#7201a8"
                          ],
                          [
                            0.3333333333333333,
                            "#9c179e"
                          ],
                          [
                            0.4444444444444444,
                            "#bd3786"
                          ],
                          [
                            0.5555555555555556,
                            "#d8576b"
                          ],
                          [
                            0.6666666666666666,
                            "#ed7953"
                          ],
                          [
                            0.7777777777777778,
                            "#fb9f3a"
                          ],
                          [
                            0.8888888888888888,
                            "#fdca26"
                          ],
                          [
                            1,
                            "#f0f921"
                          ]
                        ],
                        "type": "histogram2d"
                      }
                    ],
                    "histogram2dcontour": [
                      {
                        "colorbar": {
                          "outlinewidth": 0,
                          "ticks": ""
                        },
                        "colorscale": [
                          [
                            0,
                            "#0d0887"
                          ],
                          [
                            0.1111111111111111,
                            "#46039f"
                          ],
                          [
                            0.2222222222222222,
                            "#7201a8"
                          ],
                          [
                            0.3333333333333333,
                            "#9c179e"
                          ],
                          [
                            0.4444444444444444,
                            "#bd3786"
                          ],
                          [
                            0.5555555555555556,
                            "#d8576b"
                          ],
                          [
                            0.6666666666666666,
                            "#ed7953"
                          ],
                          [
                            0.7777777777777778,
                            "#fb9f3a"
                          ],
                          [
                            0.8888888888888888,
                            "#fdca26"
                          ],
                          [
                            1,
                            "#f0f921"
                          ]
                        ],
                        "type": "histogram2dcontour"
                      }
                    ],
                    "mesh3d": [
                      {
                        "colorbar": {
                          "outlinewidth": 0,
                          "ticks": ""
                        },
                        "type": "mesh3d"
                      }
                    ],
                    "parcoords": [
                      {
                        "line": {
                          "colorbar": {
                            "outlinewidth": 0,
                            "ticks": ""
                          }
                        },
                        "type": "parcoords"
                      }
                    ],
                    "pie": [
                      {
                        "automargin": true,
                        "type": "pie"
                      }
                    ],
                    "scatter": [
                      {
                        "marker": {
                          "line": {
                            "color": "#283442"
                          }
                        },
                        "type": "scatter"
                      }
                    ],
                    "scatter3d": [
                      {
                        "line": {
                          "colorbar": {
                            "outlinewidth": 0,
                            "ticks": ""
                          }
                        },
                        "marker": {
                          "colorbar": {
                            "outlinewidth": 0,
                            "ticks": ""
                          }
                        },
                        "type": "scatter3d"
                      }
                    ],
                    "scattercarpet": [
                      {
                        "marker": {
                          "colorbar": {
                            "outlinewidth": 0,
                            "ticks": ""
                          }
                        },
                        "type": "scattercarpet"
                      }
                    ],
                    "scattergeo": [
                      {
                        "marker": {
                          "colorbar": {
                            "outlinewidth": 0,
                            "ticks": ""
                          }
                        },
                        "type": "scattergeo"
                      }
                    ],
                    "scattergl": [
                      {
                        "marker": {
                          "line": {
                            "color": "#283442"
                          }
                        },
                        "type": "scattergl"
                      }
                    ],
                    "scattermapbox": [
                      {
                        "marker": {
                          "colorbar": {
                            "outlinewidth": 0,
                            "ticks": ""
                          }
                        },
                        "type": "scattermapbox"
                      }
                    ],
                    "scatterpolar": [
                      {
                        "marker": {
                          "colorbar": {
                            "outlinewidth": 0,
                            "ticks": ""
                          }
                        },
                        "type": "scatterpolar"
                      }
                    ],
                    "scatterpolargl": [
                      {
                        "marker": {
                          "colorbar": {
                            "outlinewidth": 0,
                            "ticks": ""
                          }
                        },
                        "type": "scatterpolargl"
                      }
                    ],
                    "scatterternary": [
                      {
                        "marker": {
                          "colorbar": {
                            "outlinewidth": 0,
                            "ticks": ""
                          }
                        },
                        "type": "scatterternary"
                      }
                    ],
                    "surface": [
                      {
                        "colorbar": {
                          "outlinewidth": 0,
                          "ticks": ""
                        },
                        "colorscale": [
                          [
                            0,
                            "#0d0887"
                          ],
                          [
                            0.1111111111111111,
                            "#46039f"
                          ],
                          [
                            0.2222222222222222,
                            "#7201a8"
                          ],
                          [
                            0.3333333333333333,
                            "#9c179e"
                          ],
                          [
                            0.4444444444444444,
                            "#bd3786"
                          ],
                          [
                            0.5555555555555556,
                            "#d8576b"
                          ],
                          [
                            0.6666666666666666,
                            "#ed7953"
                          ],
                          [
                            0.7777777777777778,
                            "#fb9f3a"
                          ],
                          [
                            0.8888888888888888,
                            "#fdca26"
                          ],
                          [
                            1,
                            "#f0f921"
                          ]
                        ],
                        "type": "surface"
                      }
                    ],
                    "table": [
                      {
                        "cells": {
                          "fill": {
                            "color": "#506784"
                          },
                          "line": {
                            "color": "rgb(17,17,17)"
                          }
                        },
                        "header": {
                          "fill": {
                            "color": "#2a3f5f"
                          },
                          "line": {
                            "color": "rgb(17,17,17)"
                          }
                        },
                        "type": "table"
                      }
                    ]
                  },
                  "layout": {
                    "annotationdefaults": {
                      "arrowcolor": "#f2f5fa",
                      "arrowhead": 0,
                      "arrowwidth": 1
                    },
                    "autotypenumbers": "strict",
                    "coloraxis": {
                      "colorbar": {
                        "outlinewidth": 0,
                        "ticks": ""
                      }
                    },
                    "colorscale": {
                      "diverging": [
                        [
                          0,
                          "#8e0152"
                        ],
                        [
                          0.1,
                          "#c51b7d"
                        ],
                        [
                          0.2,
                          "#de77ae"
                        ],
                        [
                          0.3,
                          "#f1b6da"
                        ],
                        [
                          0.4,
                          "#fde0ef"
                        ],
                        [
                          0.5,
                          "#f7f7f7"
                        ],
                        [
                          0.6,
                          "#e6f5d0"
                        ],
                        [
                          0.7,
                          "#b8e186"
                        ],
                        [
                          0.8,
                          "#7fbc41"
                        ],
                        [
                          0.9,
                          "#4d9221"
                        ],
                        [
                          1,
                          "#276419"
                        ]
                      ],
                      "sequential": [
                        [
                          0,
                          "#0d0887"
                        ],
                        [
                          0.1111111111111111,
                          "#46039f"
                        ],
                        [
                          0.2222222222222222,
                          "#7201a8"
                        ],
                        [
                          0.3333333333333333,
                          "#9c179e"
                        ],
                        [
                          0.4444444444444444,
                          "#bd3786"
                        ],
                        [
                          0.5555555555555556,
                          "#d8576b"
                        ],
                        [
                          0.6666666666666666,
                          "#ed7953"
                        ],
                        [
                          0.7777777777777778,
                          "#fb9f3a"
                        ],
                        [
                          0.8888888888888888,
                          "#fdca26"
                        ],
                        [
                          1,
                          "#f0f921"
                        ]
                      ],
                      "sequentialminus": [
                        [
                          0,
                          "#0d0887"
                        ],
                        [
                          0.1111111111111111,
                          "#46039f"
                        ],
                        [
                          0.2222222222222222,
                          "#7201a8"
                        ],
                        [
                          0.3333333333333333,
                          "#9c179e"
                        ],
                        [
                          0.4444444444444444,
                          "#bd3786"
                        ],
                        [
                          0.5555555555555556,
                          "#d8576b"
                        ],
                        [
                          0.6666666666666666,
                          "#ed7953"
                        ],
                        [
                          0.7777777777777778,
                          "#fb9f3a"
                        ],
                        [
                          0.8888888888888888,
                          "#fdca26"
                        ],
                        [
                          1,
                          "#f0f921"
                        ]
                      ]
                    },
                    "colorway": [
                      "#636efa",
                      "#EF553B",
                      "#00cc96",
                      "#ab63fa",
                      "#FFA15A",
                      "#19d3f3",
                      "#FF6692",
                      "#B6E880",
                      "#FF97FF",
                      "#FECB52"
                    ],
                    "font": {
                      "color": "#f2f5fa"
                    },
                    "geo": {
                      "bgcolor": "rgb(17,17,17)",
                      "lakecolor": "rgb(17,17,17)",
                      "landcolor": "rgb(17,17,17)",
                      "showlakes": true,
                      "showland": true,
                      "subunitcolor": "#506784"
                    },
                    "hoverlabel": {
                      "align": "left"
                    },
                    "hovermode": "closest",
                    "mapbox": {
                      "style": "dark"
                    },
                    "paper_bgcolor": "rgb(17,17,17)",
                    "plot_bgcolor": "rgb(17,17,17)",
                    "polar": {
                      "angularaxis": {
                        "gridcolor": "#506784",
                        "linecolor": "#506784",
                        "ticks": ""
                      },
                      "bgcolor": "rgb(17,17,17)",
                      "radialaxis": {
                        "gridcolor": "#506784",
                        "linecolor": "#506784",
                        "ticks": ""
                      }
                    },
                    "scene": {
                      "xaxis": {
                        "backgroundcolor": "rgb(17,17,17)",
                        "gridcolor": "#506784",
                        "gridwidth": 2,
                        "linecolor": "#506784",
                        "showbackground": true,
                        "ticks": "",
                        "zerolinecolor": "#C8D4E3"
                      },
                      "yaxis": {
                        "backgroundcolor": "rgb(17,17,17)",
                        "gridcolor": "#506784",
                        "gridwidth": 2,
                        "linecolor": "#506784",
                        "showbackground": true,
                        "ticks": "",
                        "zerolinecolor": "#C8D4E3"
                      },
                      "zaxis": {
                        "backgroundcolor": "rgb(17,17,17)",
                        "gridcolor": "#506784",
                        "gridwidth": 2,
                        "linecolor": "#506784",
                        "showbackground": true,
                        "ticks": "",
                        "zerolinecolor": "#C8D4E3"
                      }
                    },
                    "shapedefaults": {
                      "line": {
                        "color": "#f2f5fa"
                      }
                    },
                    "sliderdefaults": {
                      "bgcolor": "#C8D4E3",
                      "bordercolor": "rgb(17,17,17)",
                      "borderwidth": 1,
                      "tickwidth": 0
                    },
                    "ternary": {
                      "aaxis": {
                        "gridcolor": "#506784",
                        "linecolor": "#506784",
                        "ticks": ""
                      },
                      "baxis": {
                        "gridcolor": "#506784",
                        "linecolor": "#506784",
                        "ticks": ""
                      },
                      "bgcolor": "rgb(17,17,17)",
                      "caxis": {
                        "gridcolor": "#506784",
                        "linecolor": "#506784",
                        "ticks": ""
                      }
                    },
                    "title": {
                      "x": 0.05
                    },
                    "updatemenudefaults": {
                      "bgcolor": "#506784",
                      "borderwidth": 0
                    },
                    "xaxis": {
                      "automargin": true,
                      "gridcolor": "#283442",
                      "linecolor": "#506784",
                      "ticks": "",
                      "title": {
                        "standoff": 15
                      },
                      "zerolinecolor": "#283442",
                      "zerolinewidth": 2
                    },
                    "yaxis": {
                      "automargin": true,
                      "gridcolor": "#283442",
                      "linecolor": "#506784",
                      "ticks": "",
                      "title": {
                        "standoff": 15
                      },
                      "zerolinecolor": "#283442",
                      "zerolinewidth": 2
                    }
                  }
                },
                "width": 800,
                "xaxis": {
                  "anchor": "y",
                  "categoryarray": [
                    "ASUS",
                    "HP",
                    "ACER",
                    "LENOVO",
                    "DELL",
                    "MSI",
                    "HUAWEI",
                    "APPLE",
                    "LG",
                    "MIRAY"
                  ],
                  "categoryorder": "array",
                  "domain": [
                    0,
                    1
                  ],
                  "title": {
                    "text": "Marca"
                  }
                },
                "yaxis": {
                  "anchor": "x",
                  "domain": [
                    0,
                    1
                  ],
                  "title": {
                    "text": "Cantidad de Marcas"
                  }
                }
              }
            }
          },
          "metadata": {},
          "output_type": "display_data"
        }
      ],
      "source": [
        "marca_x_precio_normal = df.groupby('Marca')['Precio Normal'].count().sort_values(ascending=False)\n",
        "df_marca = pd.DataFrame(marca_x_precio_normal)\n",
        "marca_x_precio_normal_cambio = df_marca.rename(columns={'Precio Normal': 'Cantidad de Marcas'})\n",
        "marca_x_precio_normal_fig = px.bar(marca_x_precio_normal_cambio,x= marca_x_precio_normal_cambio.index,y='Cantidad de Marcas',\n",
        "                                   template=\"plotly_dark\",\n",
        "                             height=400, width=800, text_auto='.2s',color=marca_x_precio_normal_cambio.index)\n",
        "marca_x_precio_normal_fig.show()"
      ]
    },
    {
      "cell_type": "code",
      "execution_count": 5,
      "metadata": {
        "colab": {
          "base_uri": "https://localhost:8080/",
          "height": 417
        },
        "id": "ThrvzI3dDjEG",
        "outputId": "ee50659f-2a1d-469e-ccd9-82ff1e5830f7"
      },
      "outputs": [
        {
          "data": {
            "application/vnd.plotly.v1+json": {
              "config": {
                "plotlyServerURL": "https://plot.ly"
              },
              "data": [
                {
                  "alignmentgroup": "True",
                  "boxpoints": "all",
                  "hovertemplate": "Tienda=%{x}<br>Precio Online=%{y}<extra></extra>",
                  "legendgroup": "Hiraoka",
                  "marker": {
                    "color": "#636efa"
                  },
                  "name": "Hiraoka",
                  "notched": false,
                  "offsetgroup": "Hiraoka",
                  "orientation": "v",
                  "showlegend": true,
                  "type": "box",
                  "x": [
                    "Hiraoka",
                    "Hiraoka",
                    "Hiraoka",
                    "Hiraoka",
                    "Hiraoka",
                    "Hiraoka",
                    "Hiraoka",
                    "Hiraoka",
                    "Hiraoka",
                    "Hiraoka",
                    "Hiraoka",
                    "Hiraoka",
                    "Hiraoka",
                    "Hiraoka",
                    "Hiraoka",
                    "Hiraoka",
                    "Hiraoka",
                    "Hiraoka",
                    "Hiraoka",
                    "Hiraoka",
                    "Hiraoka",
                    "Hiraoka",
                    "Hiraoka",
                    "Hiraoka",
                    "Hiraoka",
                    "Hiraoka",
                    "Hiraoka",
                    "Hiraoka",
                    "Hiraoka",
                    "Hiraoka",
                    "Hiraoka",
                    "Hiraoka",
                    "Hiraoka",
                    "Hiraoka",
                    "Hiraoka",
                    "Hiraoka",
                    "Hiraoka",
                    "Hiraoka",
                    "Hiraoka",
                    "Hiraoka",
                    "Hiraoka",
                    "Hiraoka",
                    "Hiraoka",
                    "Hiraoka",
                    "Hiraoka",
                    "Hiraoka",
                    "Hiraoka",
                    "Hiraoka",
                    "Hiraoka",
                    "Hiraoka",
                    "Hiraoka",
                    "Hiraoka",
                    "Hiraoka",
                    "Hiraoka",
                    "Hiraoka",
                    "Hiraoka",
                    "Hiraoka",
                    "Hiraoka",
                    "Hiraoka",
                    "Hiraoka",
                    "Hiraoka",
                    "Hiraoka",
                    "Hiraoka",
                    "Hiraoka",
                    "Hiraoka",
                    "Hiraoka",
                    "Hiraoka",
                    "Hiraoka",
                    "Hiraoka",
                    "Hiraoka",
                    "Hiraoka",
                    "Hiraoka",
                    "Hiraoka",
                    "Hiraoka",
                    "Hiraoka",
                    "Hiraoka",
                    "Hiraoka",
                    "Hiraoka",
                    "Hiraoka",
                    "Hiraoka",
                    "Hiraoka",
                    "Hiraoka",
                    "Hiraoka"
                  ],
                  "x0": " ",
                  "xaxis": "x",
                  "y": [
                    15199,
                    11199,
                    8199,
                    8099,
                    7899,
                    7499,
                    6999,
                    6699,
                    6699,
                    6499,
                    5999,
                    5999,
                    5899,
                    5699,
                    5499,
                    5499,
                    5499,
                    5399,
                    5299,
                    5299,
                    5299,
                    4999,
                    4699,
                    3899,
                    2649,
                    2499,
                    2399,
                    1799,
                    1399,
                    3499,
                    3199,
                    2499,
                    2399,
                    2399,
                    2199,
                    2149,
                    1999,
                    1899,
                    1699,
                    1699,
                    1599,
                    1499,
                    1499,
                    13399,
                    7299,
                    7199,
                    6999,
                    6999,
                    5199,
                    5099,
                    5099,
                    4999,
                    4899,
                    4689,
                    4599,
                    4499,
                    4399,
                    4199,
                    3999,
                    3899,
                    3899,
                    3899,
                    3899,
                    3799,
                    3099,
                    2699,
                    1999,
                    3499,
                    3399,
                    3349,
                    2799,
                    2399,
                    2399,
                    2399,
                    1799,
                    1299,
                    3599,
                    3099,
                    2999,
                    2899,
                    2899,
                    2799,
                    1599
                  ],
                  "y0": " ",
                  "yaxis": "y"
                },
                {
                  "alignmentgroup": "True",
                  "boxpoints": "all",
                  "hovertemplate": "Tienda=%{x}<br>Precio Online=%{y}<extra></extra>",
                  "legendgroup": "Oechsle",
                  "marker": {
                    "color": "#EF553B"
                  },
                  "name": "Oechsle",
                  "notched": false,
                  "offsetgroup": "Oechsle",
                  "orientation": "v",
                  "showlegend": true,
                  "type": "box",
                  "x": [
                    "Oechsle",
                    "Oechsle",
                    "Oechsle",
                    "Oechsle",
                    "Oechsle",
                    "Oechsle",
                    "Oechsle",
                    "Oechsle",
                    "Oechsle",
                    "Oechsle",
                    "Oechsle",
                    "Oechsle",
                    "Oechsle",
                    "Oechsle",
                    "Oechsle",
                    "Oechsle",
                    "Oechsle",
                    "Oechsle",
                    "Oechsle",
                    "Oechsle",
                    "Oechsle",
                    "Oechsle",
                    "Oechsle",
                    "Oechsle",
                    "Oechsle",
                    "Oechsle",
                    "Oechsle",
                    "Oechsle",
                    "Oechsle",
                    "Oechsle",
                    "Oechsle",
                    "Oechsle",
                    "Oechsle",
                    "Oechsle",
                    "Oechsle",
                    "Oechsle",
                    "Oechsle",
                    "Oechsle",
                    "Oechsle",
                    "Oechsle",
                    "Oechsle",
                    "Oechsle",
                    "Oechsle",
                    "Oechsle",
                    "Oechsle",
                    "Oechsle",
                    "Oechsle",
                    "Oechsle",
                    "Oechsle",
                    "Oechsle",
                    "Oechsle",
                    "Oechsle",
                    "Oechsle",
                    "Oechsle",
                    "Oechsle",
                    "Oechsle",
                    "Oechsle",
                    "Oechsle",
                    "Oechsle",
                    "Oechsle",
                    "Oechsle",
                    "Oechsle",
                    "Oechsle",
                    "Oechsle",
                    "Oechsle",
                    "Oechsle",
                    "Oechsle",
                    "Oechsle",
                    "Oechsle",
                    "Oechsle",
                    "Oechsle",
                    "Oechsle",
                    "Oechsle",
                    "Oechsle",
                    "Oechsle",
                    "Oechsle",
                    "Oechsle",
                    "Oechsle",
                    "Oechsle",
                    "Oechsle",
                    "Oechsle",
                    "Oechsle",
                    "Oechsle",
                    "Oechsle",
                    "Oechsle",
                    "Oechsle",
                    "Oechsle",
                    "Oechsle",
                    "Oechsle",
                    "Oechsle",
                    "Oechsle",
                    "Oechsle",
                    "Oechsle",
                    "Oechsle",
                    "Oechsle",
                    "Oechsle",
                    "Oechsle",
                    "Oechsle",
                    "Oechsle",
                    "Oechsle",
                    "Oechsle"
                  ],
                  "x0": " ",
                  "xaxis": "x",
                  "y": [
                    13099,
                    11809,
                    8999,
                    8799,
                    7599,
                    7499,
                    7399,
                    7199,
                    6499,
                    6199,
                    6199,
                    6199,
                    6099,
                    5699,
                    5299,
                    4969,
                    4799,
                    4199,
                    4099,
                    3999,
                    3799,
                    3699,
                    2899,
                    2899,
                    999,
                    2699,
                    2690,
                    2599,
                    2599,
                    2579,
                    2399,
                    2249,
                    2199,
                    1999,
                    1899,
                    1899,
                    1799,
                    1799,
                    1799,
                    1799,
                    1749,
                    1690,
                    1599,
                    1550,
                    1549,
                    1529,
                    1529,
                    4899,
                    4599,
                    4599,
                    4499,
                    4399,
                    4399,
                    4329,
                    4299,
                    4199,
                    4199,
                    4099,
                    3999,
                    3999,
                    3999,
                    3799,
                    3799,
                    3699,
                    3699,
                    3599,
                    3599,
                    3599,
                    3599,
                    3399,
                    3399,
                    3399,
                    3299,
                    2399,
                    3999,
                    3599,
                    3299,
                    2699,
                    2699,
                    2299,
                    2199,
                    2199,
                    2199,
                    2199,
                    1999,
                    1999,
                    1799,
                    1749,
                    1399,
                    1149,
                    3450,
                    2999,
                    2999,
                    2999,
                    2899,
                    2699,
                    2599,
                    2549,
                    2399,
                    2299,
                    1399
                  ],
                  "y0": " ",
                  "yaxis": "y"
                },
                {
                  "alignmentgroup": "True",
                  "boxpoints": "all",
                  "hovertemplate": "Tienda=%{x}<br>Precio Online=%{y}<extra></extra>",
                  "legendgroup": "Plazavea",
                  "marker": {
                    "color": "#00cc96"
                  },
                  "name": "Plazavea",
                  "notched": false,
                  "offsetgroup": "Plazavea",
                  "orientation": "v",
                  "showlegend": true,
                  "type": "box",
                  "x": [
                    "Plazavea",
                    "Plazavea",
                    "Plazavea",
                    "Plazavea",
                    "Plazavea",
                    "Plazavea",
                    "Plazavea",
                    "Plazavea",
                    "Plazavea",
                    "Plazavea",
                    "Plazavea",
                    "Plazavea",
                    "Plazavea",
                    "Plazavea",
                    "Plazavea",
                    "Plazavea",
                    "Plazavea",
                    "Plazavea",
                    "Plazavea",
                    "Plazavea",
                    "Plazavea",
                    "Plazavea",
                    "Plazavea",
                    "Plazavea",
                    "Plazavea",
                    "Plazavea",
                    "Plazavea",
                    "Plazavea",
                    "Plazavea",
                    "Plazavea",
                    "Plazavea",
                    "Plazavea",
                    "Plazavea",
                    "Plazavea",
                    "Plazavea",
                    "Plazavea",
                    "Plazavea",
                    "Plazavea",
                    "Plazavea",
                    "Plazavea",
                    "Plazavea",
                    "Plazavea",
                    "Plazavea",
                    "Plazavea",
                    "Plazavea",
                    "Plazavea",
                    "Plazavea",
                    "Plazavea",
                    "Plazavea",
                    "Plazavea",
                    "Plazavea",
                    "Plazavea",
                    "Plazavea",
                    "Plazavea",
                    "Plazavea",
                    "Plazavea",
                    "Plazavea",
                    "Plazavea",
                    "Plazavea"
                  ],
                  "x0": " ",
                  "xaxis": "x",
                  "y": [
                    13075,
                    9399,
                    6999,
                    5589,
                    5589,
                    4799,
                    2899,
                    7099,
                    3399,
                    2699,
                    2599,
                    2549,
                    2549,
                    2399,
                    2349,
                    2249,
                    1999,
                    1799,
                    1759,
                    1749,
                    1699,
                    1499,
                    1449,
                    1399,
                    1399,
                    1319,
                    1099,
                    5099,
                    4999,
                    4699,
                    4599,
                    4599,
                    4469,
                    4299,
                    4299,
                    3959,
                    3899,
                    3769,
                    3599,
                    3549,
                    3499,
                    3399,
                    3299,
                    3179,
                    2699,
                    2449,
                    2099,
                    1999,
                    1999,
                    1935,
                    4099,
                    3359,
                    2999,
                    2989,
                    2899,
                    2799,
                    2749,
                    2199,
                    1999
                  ],
                  "y0": " ",
                  "yaxis": "y"
                }
              ],
              "layout": {
                "boxmode": "overlay",
                "height": 400,
                "legend": {
                  "title": {
                    "text": "Tienda"
                  },
                  "tracegroupgap": 0
                },
                "margin": {
                  "t": 60
                },
                "template": {
                  "data": {
                    "bar": [
                      {
                        "error_x": {
                          "color": "#f2f5fa"
                        },
                        "error_y": {
                          "color": "#f2f5fa"
                        },
                        "marker": {
                          "line": {
                            "color": "rgb(17,17,17)",
                            "width": 0.5
                          },
                          "pattern": {
                            "fillmode": "overlay",
                            "size": 10,
                            "solidity": 0.2
                          }
                        },
                        "type": "bar"
                      }
                    ],
                    "barpolar": [
                      {
                        "marker": {
                          "line": {
                            "color": "rgb(17,17,17)",
                            "width": 0.5
                          },
                          "pattern": {
                            "fillmode": "overlay",
                            "size": 10,
                            "solidity": 0.2
                          }
                        },
                        "type": "barpolar"
                      }
                    ],
                    "carpet": [
                      {
                        "aaxis": {
                          "endlinecolor": "#A2B1C6",
                          "gridcolor": "#506784",
                          "linecolor": "#506784",
                          "minorgridcolor": "#506784",
                          "startlinecolor": "#A2B1C6"
                        },
                        "baxis": {
                          "endlinecolor": "#A2B1C6",
                          "gridcolor": "#506784",
                          "linecolor": "#506784",
                          "minorgridcolor": "#506784",
                          "startlinecolor": "#A2B1C6"
                        },
                        "type": "carpet"
                      }
                    ],
                    "choropleth": [
                      {
                        "colorbar": {
                          "outlinewidth": 0,
                          "ticks": ""
                        },
                        "type": "choropleth"
                      }
                    ],
                    "contour": [
                      {
                        "colorbar": {
                          "outlinewidth": 0,
                          "ticks": ""
                        },
                        "colorscale": [
                          [
                            0,
                            "#0d0887"
                          ],
                          [
                            0.1111111111111111,
                            "#46039f"
                          ],
                          [
                            0.2222222222222222,
                            "#7201a8"
                          ],
                          [
                            0.3333333333333333,
                            "#9c179e"
                          ],
                          [
                            0.4444444444444444,
                            "#bd3786"
                          ],
                          [
                            0.5555555555555556,
                            "#d8576b"
                          ],
                          [
                            0.6666666666666666,
                            "#ed7953"
                          ],
                          [
                            0.7777777777777778,
                            "#fb9f3a"
                          ],
                          [
                            0.8888888888888888,
                            "#fdca26"
                          ],
                          [
                            1,
                            "#f0f921"
                          ]
                        ],
                        "type": "contour"
                      }
                    ],
                    "contourcarpet": [
                      {
                        "colorbar": {
                          "outlinewidth": 0,
                          "ticks": ""
                        },
                        "type": "contourcarpet"
                      }
                    ],
                    "heatmap": [
                      {
                        "colorbar": {
                          "outlinewidth": 0,
                          "ticks": ""
                        },
                        "colorscale": [
                          [
                            0,
                            "#0d0887"
                          ],
                          [
                            0.1111111111111111,
                            "#46039f"
                          ],
                          [
                            0.2222222222222222,
                            "#7201a8"
                          ],
                          [
                            0.3333333333333333,
                            "#9c179e"
                          ],
                          [
                            0.4444444444444444,
                            "#bd3786"
                          ],
                          [
                            0.5555555555555556,
                            "#d8576b"
                          ],
                          [
                            0.6666666666666666,
                            "#ed7953"
                          ],
                          [
                            0.7777777777777778,
                            "#fb9f3a"
                          ],
                          [
                            0.8888888888888888,
                            "#fdca26"
                          ],
                          [
                            1,
                            "#f0f921"
                          ]
                        ],
                        "type": "heatmap"
                      }
                    ],
                    "heatmapgl": [
                      {
                        "colorbar": {
                          "outlinewidth": 0,
                          "ticks": ""
                        },
                        "colorscale": [
                          [
                            0,
                            "#0d0887"
                          ],
                          [
                            0.1111111111111111,
                            "#46039f"
                          ],
                          [
                            0.2222222222222222,
                            "#7201a8"
                          ],
                          [
                            0.3333333333333333,
                            "#9c179e"
                          ],
                          [
                            0.4444444444444444,
                            "#bd3786"
                          ],
                          [
                            0.5555555555555556,
                            "#d8576b"
                          ],
                          [
                            0.6666666666666666,
                            "#ed7953"
                          ],
                          [
                            0.7777777777777778,
                            "#fb9f3a"
                          ],
                          [
                            0.8888888888888888,
                            "#fdca26"
                          ],
                          [
                            1,
                            "#f0f921"
                          ]
                        ],
                        "type": "heatmapgl"
                      }
                    ],
                    "histogram": [
                      {
                        "marker": {
                          "pattern": {
                            "fillmode": "overlay",
                            "size": 10,
                            "solidity": 0.2
                          }
                        },
                        "type": "histogram"
                      }
                    ],
                    "histogram2d": [
                      {
                        "colorbar": {
                          "outlinewidth": 0,
                          "ticks": ""
                        },
                        "colorscale": [
                          [
                            0,
                            "#0d0887"
                          ],
                          [
                            0.1111111111111111,
                            "#46039f"
                          ],
                          [
                            0.2222222222222222,
                            "#7201a8"
                          ],
                          [
                            0.3333333333333333,
                            "#9c179e"
                          ],
                          [
                            0.4444444444444444,
                            "#bd3786"
                          ],
                          [
                            0.5555555555555556,
                            "#d8576b"
                          ],
                          [
                            0.6666666666666666,
                            "#ed7953"
                          ],
                          [
                            0.7777777777777778,
                            "#fb9f3a"
                          ],
                          [
                            0.8888888888888888,
                            "#fdca26"
                          ],
                          [
                            1,
                            "#f0f921"
                          ]
                        ],
                        "type": "histogram2d"
                      }
                    ],
                    "histogram2dcontour": [
                      {
                        "colorbar": {
                          "outlinewidth": 0,
                          "ticks": ""
                        },
                        "colorscale": [
                          [
                            0,
                            "#0d0887"
                          ],
                          [
                            0.1111111111111111,
                            "#46039f"
                          ],
                          [
                            0.2222222222222222,
                            "#7201a8"
                          ],
                          [
                            0.3333333333333333,
                            "#9c179e"
                          ],
                          [
                            0.4444444444444444,
                            "#bd3786"
                          ],
                          [
                            0.5555555555555556,
                            "#d8576b"
                          ],
                          [
                            0.6666666666666666,
                            "#ed7953"
                          ],
                          [
                            0.7777777777777778,
                            "#fb9f3a"
                          ],
                          [
                            0.8888888888888888,
                            "#fdca26"
                          ],
                          [
                            1,
                            "#f0f921"
                          ]
                        ],
                        "type": "histogram2dcontour"
                      }
                    ],
                    "mesh3d": [
                      {
                        "colorbar": {
                          "outlinewidth": 0,
                          "ticks": ""
                        },
                        "type": "mesh3d"
                      }
                    ],
                    "parcoords": [
                      {
                        "line": {
                          "colorbar": {
                            "outlinewidth": 0,
                            "ticks": ""
                          }
                        },
                        "type": "parcoords"
                      }
                    ],
                    "pie": [
                      {
                        "automargin": true,
                        "type": "pie"
                      }
                    ],
                    "scatter": [
                      {
                        "marker": {
                          "line": {
                            "color": "#283442"
                          }
                        },
                        "type": "scatter"
                      }
                    ],
                    "scatter3d": [
                      {
                        "line": {
                          "colorbar": {
                            "outlinewidth": 0,
                            "ticks": ""
                          }
                        },
                        "marker": {
                          "colorbar": {
                            "outlinewidth": 0,
                            "ticks": ""
                          }
                        },
                        "type": "scatter3d"
                      }
                    ],
                    "scattercarpet": [
                      {
                        "marker": {
                          "colorbar": {
                            "outlinewidth": 0,
                            "ticks": ""
                          }
                        },
                        "type": "scattercarpet"
                      }
                    ],
                    "scattergeo": [
                      {
                        "marker": {
                          "colorbar": {
                            "outlinewidth": 0,
                            "ticks": ""
                          }
                        },
                        "type": "scattergeo"
                      }
                    ],
                    "scattergl": [
                      {
                        "marker": {
                          "line": {
                            "color": "#283442"
                          }
                        },
                        "type": "scattergl"
                      }
                    ],
                    "scattermapbox": [
                      {
                        "marker": {
                          "colorbar": {
                            "outlinewidth": 0,
                            "ticks": ""
                          }
                        },
                        "type": "scattermapbox"
                      }
                    ],
                    "scatterpolar": [
                      {
                        "marker": {
                          "colorbar": {
                            "outlinewidth": 0,
                            "ticks": ""
                          }
                        },
                        "type": "scatterpolar"
                      }
                    ],
                    "scatterpolargl": [
                      {
                        "marker": {
                          "colorbar": {
                            "outlinewidth": 0,
                            "ticks": ""
                          }
                        },
                        "type": "scatterpolargl"
                      }
                    ],
                    "scatterternary": [
                      {
                        "marker": {
                          "colorbar": {
                            "outlinewidth": 0,
                            "ticks": ""
                          }
                        },
                        "type": "scatterternary"
                      }
                    ],
                    "surface": [
                      {
                        "colorbar": {
                          "outlinewidth": 0,
                          "ticks": ""
                        },
                        "colorscale": [
                          [
                            0,
                            "#0d0887"
                          ],
                          [
                            0.1111111111111111,
                            "#46039f"
                          ],
                          [
                            0.2222222222222222,
                            "#7201a8"
                          ],
                          [
                            0.3333333333333333,
                            "#9c179e"
                          ],
                          [
                            0.4444444444444444,
                            "#bd3786"
                          ],
                          [
                            0.5555555555555556,
                            "#d8576b"
                          ],
                          [
                            0.6666666666666666,
                            "#ed7953"
                          ],
                          [
                            0.7777777777777778,
                            "#fb9f3a"
                          ],
                          [
                            0.8888888888888888,
                            "#fdca26"
                          ],
                          [
                            1,
                            "#f0f921"
                          ]
                        ],
                        "type": "surface"
                      }
                    ],
                    "table": [
                      {
                        "cells": {
                          "fill": {
                            "color": "#506784"
                          },
                          "line": {
                            "color": "rgb(17,17,17)"
                          }
                        },
                        "header": {
                          "fill": {
                            "color": "#2a3f5f"
                          },
                          "line": {
                            "color": "rgb(17,17,17)"
                          }
                        },
                        "type": "table"
                      }
                    ]
                  },
                  "layout": {
                    "annotationdefaults": {
                      "arrowcolor": "#f2f5fa",
                      "arrowhead": 0,
                      "arrowwidth": 1
                    },
                    "autotypenumbers": "strict",
                    "coloraxis": {
                      "colorbar": {
                        "outlinewidth": 0,
                        "ticks": ""
                      }
                    },
                    "colorscale": {
                      "diverging": [
                        [
                          0,
                          "#8e0152"
                        ],
                        [
                          0.1,
                          "#c51b7d"
                        ],
                        [
                          0.2,
                          "#de77ae"
                        ],
                        [
                          0.3,
                          "#f1b6da"
                        ],
                        [
                          0.4,
                          "#fde0ef"
                        ],
                        [
                          0.5,
                          "#f7f7f7"
                        ],
                        [
                          0.6,
                          "#e6f5d0"
                        ],
                        [
                          0.7,
                          "#b8e186"
                        ],
                        [
                          0.8,
                          "#7fbc41"
                        ],
                        [
                          0.9,
                          "#4d9221"
                        ],
                        [
                          1,
                          "#276419"
                        ]
                      ],
                      "sequential": [
                        [
                          0,
                          "#0d0887"
                        ],
                        [
                          0.1111111111111111,
                          "#46039f"
                        ],
                        [
                          0.2222222222222222,
                          "#7201a8"
                        ],
                        [
                          0.3333333333333333,
                          "#9c179e"
                        ],
                        [
                          0.4444444444444444,
                          "#bd3786"
                        ],
                        [
                          0.5555555555555556,
                          "#d8576b"
                        ],
                        [
                          0.6666666666666666,
                          "#ed7953"
                        ],
                        [
                          0.7777777777777778,
                          "#fb9f3a"
                        ],
                        [
                          0.8888888888888888,
                          "#fdca26"
                        ],
                        [
                          1,
                          "#f0f921"
                        ]
                      ],
                      "sequentialminus": [
                        [
                          0,
                          "#0d0887"
                        ],
                        [
                          0.1111111111111111,
                          "#46039f"
                        ],
                        [
                          0.2222222222222222,
                          "#7201a8"
                        ],
                        [
                          0.3333333333333333,
                          "#9c179e"
                        ],
                        [
                          0.4444444444444444,
                          "#bd3786"
                        ],
                        [
                          0.5555555555555556,
                          "#d8576b"
                        ],
                        [
                          0.6666666666666666,
                          "#ed7953"
                        ],
                        [
                          0.7777777777777778,
                          "#fb9f3a"
                        ],
                        [
                          0.8888888888888888,
                          "#fdca26"
                        ],
                        [
                          1,
                          "#f0f921"
                        ]
                      ]
                    },
                    "colorway": [
                      "#636efa",
                      "#EF553B",
                      "#00cc96",
                      "#ab63fa",
                      "#FFA15A",
                      "#19d3f3",
                      "#FF6692",
                      "#B6E880",
                      "#FF97FF",
                      "#FECB52"
                    ],
                    "font": {
                      "color": "#f2f5fa"
                    },
                    "geo": {
                      "bgcolor": "rgb(17,17,17)",
                      "lakecolor": "rgb(17,17,17)",
                      "landcolor": "rgb(17,17,17)",
                      "showlakes": true,
                      "showland": true,
                      "subunitcolor": "#506784"
                    },
                    "hoverlabel": {
                      "align": "left"
                    },
                    "hovermode": "closest",
                    "mapbox": {
                      "style": "dark"
                    },
                    "paper_bgcolor": "rgb(17,17,17)",
                    "plot_bgcolor": "rgb(17,17,17)",
                    "polar": {
                      "angularaxis": {
                        "gridcolor": "#506784",
                        "linecolor": "#506784",
                        "ticks": ""
                      },
                      "bgcolor": "rgb(17,17,17)",
                      "radialaxis": {
                        "gridcolor": "#506784",
                        "linecolor": "#506784",
                        "ticks": ""
                      }
                    },
                    "scene": {
                      "xaxis": {
                        "backgroundcolor": "rgb(17,17,17)",
                        "gridcolor": "#506784",
                        "gridwidth": 2,
                        "linecolor": "#506784",
                        "showbackground": true,
                        "ticks": "",
                        "zerolinecolor": "#C8D4E3"
                      },
                      "yaxis": {
                        "backgroundcolor": "rgb(17,17,17)",
                        "gridcolor": "#506784",
                        "gridwidth": 2,
                        "linecolor": "#506784",
                        "showbackground": true,
                        "ticks": "",
                        "zerolinecolor": "#C8D4E3"
                      },
                      "zaxis": {
                        "backgroundcolor": "rgb(17,17,17)",
                        "gridcolor": "#506784",
                        "gridwidth": 2,
                        "linecolor": "#506784",
                        "showbackground": true,
                        "ticks": "",
                        "zerolinecolor": "#C8D4E3"
                      }
                    },
                    "shapedefaults": {
                      "line": {
                        "color": "#f2f5fa"
                      }
                    },
                    "sliderdefaults": {
                      "bgcolor": "#C8D4E3",
                      "bordercolor": "rgb(17,17,17)",
                      "borderwidth": 1,
                      "tickwidth": 0
                    },
                    "ternary": {
                      "aaxis": {
                        "gridcolor": "#506784",
                        "linecolor": "#506784",
                        "ticks": ""
                      },
                      "baxis": {
                        "gridcolor": "#506784",
                        "linecolor": "#506784",
                        "ticks": ""
                      },
                      "bgcolor": "rgb(17,17,17)",
                      "caxis": {
                        "gridcolor": "#506784",
                        "linecolor": "#506784",
                        "ticks": ""
                      }
                    },
                    "title": {
                      "x": 0.05
                    },
                    "updatemenudefaults": {
                      "bgcolor": "#506784",
                      "borderwidth": 0
                    },
                    "xaxis": {
                      "automargin": true,
                      "gridcolor": "#283442",
                      "linecolor": "#506784",
                      "ticks": "",
                      "title": {
                        "standoff": 15
                      },
                      "zerolinecolor": "#283442",
                      "zerolinewidth": 2
                    },
                    "yaxis": {
                      "automargin": true,
                      "gridcolor": "#283442",
                      "linecolor": "#506784",
                      "ticks": "",
                      "title": {
                        "standoff": 15
                      },
                      "zerolinecolor": "#283442",
                      "zerolinewidth": 2
                    }
                  }
                },
                "width": 800,
                "xaxis": {
                  "anchor": "y",
                  "categoryarray": [
                    "Hiraoka",
                    "Oechsle",
                    "Plazavea"
                  ],
                  "categoryorder": "array",
                  "domain": [
                    0,
                    1
                  ],
                  "title": {
                    "text": "Tienda"
                  }
                },
                "yaxis": {
                  "anchor": "x",
                  "domain": [
                    0,
                    1
                  ],
                  "title": {
                    "text": "Precio Online"
                  }
                }
              }
            }
          },
          "metadata": {},
          "output_type": "display_data"
        }
      ],
      "source": [
        "fig = px.box(df, x = \"Tienda\", y=\"Precio Online\",color=\"Tienda\",\n",
        "             height=400, width=800, points=\"all\",template=\"plotly_dark\") \n",
        "fig.show()"
      ]
    },
    {
      "cell_type": "code",
      "execution_count": 6,
      "metadata": {
        "id": "oLXVUZV24NEm"
      },
      "outputs": [],
      "source": [
        "df_filtro_clust_1 = df[df.cluster_predicted<=2]\n",
        "df_filtro_1 = df_filtro_clust_1.rename(columns={'cluster_predicted': 'Número de Clusters'})"
      ]
    },
    {
      "cell_type": "code",
      "execution_count": 7,
      "metadata": {
        "colab": {
          "base_uri": "https://localhost:8080/",
          "height": 417
        },
        "id": "0Y9ZYLIk4J3d",
        "outputId": "49a3e2b1-bea9-4c27-db22-be53cc9785a3"
      },
      "outputs": [
        {
          "data": {
            "application/vnd.plotly.v1+json": {
              "config": {
                "plotlyServerURL": "https://plot.ly"
              },
              "data": [
                {
                  "alignmentgroup": "True",
                  "boxpoints": "all",
                  "hovertemplate": "Tienda=Hiraoka<br>Número de Clusters=%{x}<br>Precio Online=%{y}<extra></extra>",
                  "legendgroup": "Hiraoka",
                  "marker": {
                    "color": "#636efa"
                  },
                  "name": "Hiraoka",
                  "notched": false,
                  "offsetgroup": "Hiraoka",
                  "orientation": "v",
                  "showlegend": true,
                  "type": "box",
                  "x": [
                    0,
                    0,
                    0,
                    0,
                    0,
                    0,
                    0,
                    0,
                    0,
                    0,
                    0,
                    0,
                    0,
                    0,
                    0,
                    0,
                    0,
                    0,
                    0,
                    0,
                    0,
                    0,
                    0,
                    0,
                    0,
                    0,
                    0,
                    0,
                    0,
                    1,
                    1,
                    1,
                    1,
                    1,
                    1,
                    1,
                    1,
                    1,
                    1,
                    1,
                    1,
                    1,
                    1,
                    2,
                    2,
                    2,
                    2,
                    2,
                    2,
                    2,
                    2,
                    2,
                    2,
                    2,
                    2,
                    2,
                    2,
                    2,
                    2,
                    2,
                    2,
                    2,
                    2,
                    2,
                    2,
                    2,
                    2
                  ],
                  "x0": " ",
                  "xaxis": "x",
                  "y": [
                    15199,
                    11199,
                    8199,
                    8099,
                    7899,
                    7499,
                    6999,
                    6699,
                    6699,
                    6499,
                    5999,
                    5999,
                    5899,
                    5699,
                    5499,
                    5499,
                    5499,
                    5399,
                    5299,
                    5299,
                    5299,
                    4999,
                    4699,
                    3899,
                    2649,
                    2499,
                    2399,
                    1799,
                    1399,
                    3499,
                    3199,
                    2499,
                    2399,
                    2399,
                    2199,
                    2149,
                    1999,
                    1899,
                    1699,
                    1699,
                    1599,
                    1499,
                    1499,
                    13399,
                    7299,
                    7199,
                    6999,
                    6999,
                    5199,
                    5099,
                    5099,
                    4999,
                    4899,
                    4689,
                    4599,
                    4499,
                    4399,
                    4199,
                    3999,
                    3899,
                    3899,
                    3899,
                    3899,
                    3799,
                    3099,
                    2699,
                    1999
                  ],
                  "y0": " ",
                  "yaxis": "y"
                },
                {
                  "alignmentgroup": "True",
                  "boxpoints": "all",
                  "hovertemplate": "Tienda=Oechsle<br>Número de Clusters=%{x}<br>Precio Online=%{y}<extra></extra>",
                  "legendgroup": "Oechsle",
                  "marker": {
                    "color": "#EF553B"
                  },
                  "name": "Oechsle",
                  "notched": false,
                  "offsetgroup": "Oechsle",
                  "orientation": "v",
                  "showlegend": true,
                  "type": "box",
                  "x": [
                    0,
                    0,
                    0,
                    0,
                    0,
                    0,
                    0,
                    0,
                    0,
                    0,
                    0,
                    0,
                    0,
                    0,
                    0,
                    0,
                    0,
                    0,
                    0,
                    0,
                    0,
                    0,
                    0,
                    0,
                    0,
                    1,
                    1,
                    1,
                    1,
                    1,
                    1,
                    1,
                    1,
                    1,
                    1,
                    1,
                    1,
                    1,
                    1,
                    1,
                    1,
                    1,
                    1,
                    1,
                    1,
                    1,
                    1,
                    2,
                    2,
                    2,
                    2,
                    2,
                    2,
                    2,
                    2,
                    2,
                    2,
                    2,
                    2,
                    2,
                    2,
                    2,
                    2,
                    2,
                    2,
                    2,
                    2,
                    2,
                    2,
                    2,
                    2,
                    2,
                    2,
                    2
                  ],
                  "x0": " ",
                  "xaxis": "x",
                  "y": [
                    13099,
                    11809,
                    8999,
                    8799,
                    7599,
                    7499,
                    7399,
                    7199,
                    6499,
                    6199,
                    6199,
                    6199,
                    6099,
                    5699,
                    5299,
                    4969,
                    4799,
                    4199,
                    4099,
                    3999,
                    3799,
                    3699,
                    2899,
                    2899,
                    999,
                    2699,
                    2690,
                    2599,
                    2599,
                    2579,
                    2399,
                    2249,
                    2199,
                    1999,
                    1899,
                    1899,
                    1799,
                    1799,
                    1799,
                    1799,
                    1749,
                    1690,
                    1599,
                    1550,
                    1549,
                    1529,
                    1529,
                    4899,
                    4599,
                    4599,
                    4499,
                    4399,
                    4399,
                    4329,
                    4299,
                    4199,
                    4199,
                    4099,
                    3999,
                    3999,
                    3999,
                    3799,
                    3799,
                    3699,
                    3699,
                    3599,
                    3599,
                    3599,
                    3599,
                    3399,
                    3399,
                    3399,
                    3299,
                    2399
                  ],
                  "y0": " ",
                  "yaxis": "y"
                },
                {
                  "alignmentgroup": "True",
                  "boxpoints": "all",
                  "hovertemplate": "Tienda=Plazavea<br>Número de Clusters=%{x}<br>Precio Online=%{y}<extra></extra>",
                  "legendgroup": "Plazavea",
                  "marker": {
                    "color": "#00cc96"
                  },
                  "name": "Plazavea",
                  "notched": false,
                  "offsetgroup": "Plazavea",
                  "orientation": "v",
                  "showlegend": true,
                  "type": "box",
                  "x": [
                    0,
                    0,
                    0,
                    0,
                    0,
                    0,
                    0,
                    1,
                    1,
                    1,
                    1,
                    1,
                    1,
                    1,
                    1,
                    1,
                    1,
                    1,
                    1,
                    1,
                    1,
                    1,
                    1,
                    1,
                    1,
                    1,
                    1,
                    2,
                    2,
                    2,
                    2,
                    2,
                    2,
                    2,
                    2,
                    2,
                    2,
                    2,
                    2,
                    2,
                    2,
                    2,
                    2
                  ],
                  "x0": " ",
                  "xaxis": "x",
                  "y": [
                    13075,
                    9399,
                    6999,
                    5589,
                    5589,
                    4799,
                    2899,
                    7099,
                    3399,
                    2699,
                    2599,
                    2549,
                    2549,
                    2399,
                    2349,
                    2249,
                    1999,
                    1799,
                    1759,
                    1749,
                    1699,
                    1499,
                    1449,
                    1399,
                    1399,
                    1319,
                    1099,
                    5099,
                    4999,
                    4699,
                    4599,
                    4599,
                    4469,
                    4299,
                    4299,
                    3959,
                    3899,
                    3769,
                    3599,
                    3549,
                    3499,
                    3399,
                    3299
                  ],
                  "y0": " ",
                  "yaxis": "y"
                }
              ],
              "layout": {
                "boxmode": "group",
                "height": 400,
                "legend": {
                  "title": {
                    "text": "Tienda"
                  },
                  "tracegroupgap": 0
                },
                "template": {
                  "data": {
                    "bar": [
                      {
                        "error_x": {
                          "color": "#f2f5fa"
                        },
                        "error_y": {
                          "color": "#f2f5fa"
                        },
                        "marker": {
                          "line": {
                            "color": "rgb(17,17,17)",
                            "width": 0.5
                          },
                          "pattern": {
                            "fillmode": "overlay",
                            "size": 10,
                            "solidity": 0.2
                          }
                        },
                        "type": "bar"
                      }
                    ],
                    "barpolar": [
                      {
                        "marker": {
                          "line": {
                            "color": "rgb(17,17,17)",
                            "width": 0.5
                          },
                          "pattern": {
                            "fillmode": "overlay",
                            "size": 10,
                            "solidity": 0.2
                          }
                        },
                        "type": "barpolar"
                      }
                    ],
                    "carpet": [
                      {
                        "aaxis": {
                          "endlinecolor": "#A2B1C6",
                          "gridcolor": "#506784",
                          "linecolor": "#506784",
                          "minorgridcolor": "#506784",
                          "startlinecolor": "#A2B1C6"
                        },
                        "baxis": {
                          "endlinecolor": "#A2B1C6",
                          "gridcolor": "#506784",
                          "linecolor": "#506784",
                          "minorgridcolor": "#506784",
                          "startlinecolor": "#A2B1C6"
                        },
                        "type": "carpet"
                      }
                    ],
                    "choropleth": [
                      {
                        "colorbar": {
                          "outlinewidth": 0,
                          "ticks": ""
                        },
                        "type": "choropleth"
                      }
                    ],
                    "contour": [
                      {
                        "colorbar": {
                          "outlinewidth": 0,
                          "ticks": ""
                        },
                        "colorscale": [
                          [
                            0,
                            "#0d0887"
                          ],
                          [
                            0.1111111111111111,
                            "#46039f"
                          ],
                          [
                            0.2222222222222222,
                            "#7201a8"
                          ],
                          [
                            0.3333333333333333,
                            "#9c179e"
                          ],
                          [
                            0.4444444444444444,
                            "#bd3786"
                          ],
                          [
                            0.5555555555555556,
                            "#d8576b"
                          ],
                          [
                            0.6666666666666666,
                            "#ed7953"
                          ],
                          [
                            0.7777777777777778,
                            "#fb9f3a"
                          ],
                          [
                            0.8888888888888888,
                            "#fdca26"
                          ],
                          [
                            1,
                            "#f0f921"
                          ]
                        ],
                        "type": "contour"
                      }
                    ],
                    "contourcarpet": [
                      {
                        "colorbar": {
                          "outlinewidth": 0,
                          "ticks": ""
                        },
                        "type": "contourcarpet"
                      }
                    ],
                    "heatmap": [
                      {
                        "colorbar": {
                          "outlinewidth": 0,
                          "ticks": ""
                        },
                        "colorscale": [
                          [
                            0,
                            "#0d0887"
                          ],
                          [
                            0.1111111111111111,
                            "#46039f"
                          ],
                          [
                            0.2222222222222222,
                            "#7201a8"
                          ],
                          [
                            0.3333333333333333,
                            "#9c179e"
                          ],
                          [
                            0.4444444444444444,
                            "#bd3786"
                          ],
                          [
                            0.5555555555555556,
                            "#d8576b"
                          ],
                          [
                            0.6666666666666666,
                            "#ed7953"
                          ],
                          [
                            0.7777777777777778,
                            "#fb9f3a"
                          ],
                          [
                            0.8888888888888888,
                            "#fdca26"
                          ],
                          [
                            1,
                            "#f0f921"
                          ]
                        ],
                        "type": "heatmap"
                      }
                    ],
                    "heatmapgl": [
                      {
                        "colorbar": {
                          "outlinewidth": 0,
                          "ticks": ""
                        },
                        "colorscale": [
                          [
                            0,
                            "#0d0887"
                          ],
                          [
                            0.1111111111111111,
                            "#46039f"
                          ],
                          [
                            0.2222222222222222,
                            "#7201a8"
                          ],
                          [
                            0.3333333333333333,
                            "#9c179e"
                          ],
                          [
                            0.4444444444444444,
                            "#bd3786"
                          ],
                          [
                            0.5555555555555556,
                            "#d8576b"
                          ],
                          [
                            0.6666666666666666,
                            "#ed7953"
                          ],
                          [
                            0.7777777777777778,
                            "#fb9f3a"
                          ],
                          [
                            0.8888888888888888,
                            "#fdca26"
                          ],
                          [
                            1,
                            "#f0f921"
                          ]
                        ],
                        "type": "heatmapgl"
                      }
                    ],
                    "histogram": [
                      {
                        "marker": {
                          "pattern": {
                            "fillmode": "overlay",
                            "size": 10,
                            "solidity": 0.2
                          }
                        },
                        "type": "histogram"
                      }
                    ],
                    "histogram2d": [
                      {
                        "colorbar": {
                          "outlinewidth": 0,
                          "ticks": ""
                        },
                        "colorscale": [
                          [
                            0,
                            "#0d0887"
                          ],
                          [
                            0.1111111111111111,
                            "#46039f"
                          ],
                          [
                            0.2222222222222222,
                            "#7201a8"
                          ],
                          [
                            0.3333333333333333,
                            "#9c179e"
                          ],
                          [
                            0.4444444444444444,
                            "#bd3786"
                          ],
                          [
                            0.5555555555555556,
                            "#d8576b"
                          ],
                          [
                            0.6666666666666666,
                            "#ed7953"
                          ],
                          [
                            0.7777777777777778,
                            "#fb9f3a"
                          ],
                          [
                            0.8888888888888888,
                            "#fdca26"
                          ],
                          [
                            1,
                            "#f0f921"
                          ]
                        ],
                        "type": "histogram2d"
                      }
                    ],
                    "histogram2dcontour": [
                      {
                        "colorbar": {
                          "outlinewidth": 0,
                          "ticks": ""
                        },
                        "colorscale": [
                          [
                            0,
                            "#0d0887"
                          ],
                          [
                            0.1111111111111111,
                            "#46039f"
                          ],
                          [
                            0.2222222222222222,
                            "#7201a8"
                          ],
                          [
                            0.3333333333333333,
                            "#9c179e"
                          ],
                          [
                            0.4444444444444444,
                            "#bd3786"
                          ],
                          [
                            0.5555555555555556,
                            "#d8576b"
                          ],
                          [
                            0.6666666666666666,
                            "#ed7953"
                          ],
                          [
                            0.7777777777777778,
                            "#fb9f3a"
                          ],
                          [
                            0.8888888888888888,
                            "#fdca26"
                          ],
                          [
                            1,
                            "#f0f921"
                          ]
                        ],
                        "type": "histogram2dcontour"
                      }
                    ],
                    "mesh3d": [
                      {
                        "colorbar": {
                          "outlinewidth": 0,
                          "ticks": ""
                        },
                        "type": "mesh3d"
                      }
                    ],
                    "parcoords": [
                      {
                        "line": {
                          "colorbar": {
                            "outlinewidth": 0,
                            "ticks": ""
                          }
                        },
                        "type": "parcoords"
                      }
                    ],
                    "pie": [
                      {
                        "automargin": true,
                        "type": "pie"
                      }
                    ],
                    "scatter": [
                      {
                        "marker": {
                          "line": {
                            "color": "#283442"
                          }
                        },
                        "type": "scatter"
                      }
                    ],
                    "scatter3d": [
                      {
                        "line": {
                          "colorbar": {
                            "outlinewidth": 0,
                            "ticks": ""
                          }
                        },
                        "marker": {
                          "colorbar": {
                            "outlinewidth": 0,
                            "ticks": ""
                          }
                        },
                        "type": "scatter3d"
                      }
                    ],
                    "scattercarpet": [
                      {
                        "marker": {
                          "colorbar": {
                            "outlinewidth": 0,
                            "ticks": ""
                          }
                        },
                        "type": "scattercarpet"
                      }
                    ],
                    "scattergeo": [
                      {
                        "marker": {
                          "colorbar": {
                            "outlinewidth": 0,
                            "ticks": ""
                          }
                        },
                        "type": "scattergeo"
                      }
                    ],
                    "scattergl": [
                      {
                        "marker": {
                          "line": {
                            "color": "#283442"
                          }
                        },
                        "type": "scattergl"
                      }
                    ],
                    "scattermapbox": [
                      {
                        "marker": {
                          "colorbar": {
                            "outlinewidth": 0,
                            "ticks": ""
                          }
                        },
                        "type": "scattermapbox"
                      }
                    ],
                    "scatterpolar": [
                      {
                        "marker": {
                          "colorbar": {
                            "outlinewidth": 0,
                            "ticks": ""
                          }
                        },
                        "type": "scatterpolar"
                      }
                    ],
                    "scatterpolargl": [
                      {
                        "marker": {
                          "colorbar": {
                            "outlinewidth": 0,
                            "ticks": ""
                          }
                        },
                        "type": "scatterpolargl"
                      }
                    ],
                    "scatterternary": [
                      {
                        "marker": {
                          "colorbar": {
                            "outlinewidth": 0,
                            "ticks": ""
                          }
                        },
                        "type": "scatterternary"
                      }
                    ],
                    "surface": [
                      {
                        "colorbar": {
                          "outlinewidth": 0,
                          "ticks": ""
                        },
                        "colorscale": [
                          [
                            0,
                            "#0d0887"
                          ],
                          [
                            0.1111111111111111,
                            "#46039f"
                          ],
                          [
                            0.2222222222222222,
                            "#7201a8"
                          ],
                          [
                            0.3333333333333333,
                            "#9c179e"
                          ],
                          [
                            0.4444444444444444,
                            "#bd3786"
                          ],
                          [
                            0.5555555555555556,
                            "#d8576b"
                          ],
                          [
                            0.6666666666666666,
                            "#ed7953"
                          ],
                          [
                            0.7777777777777778,
                            "#fb9f3a"
                          ],
                          [
                            0.8888888888888888,
                            "#fdca26"
                          ],
                          [
                            1,
                            "#f0f921"
                          ]
                        ],
                        "type": "surface"
                      }
                    ],
                    "table": [
                      {
                        "cells": {
                          "fill": {
                            "color": "#506784"
                          },
                          "line": {
                            "color": "rgb(17,17,17)"
                          }
                        },
                        "header": {
                          "fill": {
                            "color": "#2a3f5f"
                          },
                          "line": {
                            "color": "rgb(17,17,17)"
                          }
                        },
                        "type": "table"
                      }
                    ]
                  },
                  "layout": {
                    "annotationdefaults": {
                      "arrowcolor": "#f2f5fa",
                      "arrowhead": 0,
                      "arrowwidth": 1
                    },
                    "autotypenumbers": "strict",
                    "coloraxis": {
                      "colorbar": {
                        "outlinewidth": 0,
                        "ticks": ""
                      }
                    },
                    "colorscale": {
                      "diverging": [
                        [
                          0,
                          "#8e0152"
                        ],
                        [
                          0.1,
                          "#c51b7d"
                        ],
                        [
                          0.2,
                          "#de77ae"
                        ],
                        [
                          0.3,
                          "#f1b6da"
                        ],
                        [
                          0.4,
                          "#fde0ef"
                        ],
                        [
                          0.5,
                          "#f7f7f7"
                        ],
                        [
                          0.6,
                          "#e6f5d0"
                        ],
                        [
                          0.7,
                          "#b8e186"
                        ],
                        [
                          0.8,
                          "#7fbc41"
                        ],
                        [
                          0.9,
                          "#4d9221"
                        ],
                        [
                          1,
                          "#276419"
                        ]
                      ],
                      "sequential": [
                        [
                          0,
                          "#0d0887"
                        ],
                        [
                          0.1111111111111111,
                          "#46039f"
                        ],
                        [
                          0.2222222222222222,
                          "#7201a8"
                        ],
                        [
                          0.3333333333333333,
                          "#9c179e"
                        ],
                        [
                          0.4444444444444444,
                          "#bd3786"
                        ],
                        [
                          0.5555555555555556,
                          "#d8576b"
                        ],
                        [
                          0.6666666666666666,
                          "#ed7953"
                        ],
                        [
                          0.7777777777777778,
                          "#fb9f3a"
                        ],
                        [
                          0.8888888888888888,
                          "#fdca26"
                        ],
                        [
                          1,
                          "#f0f921"
                        ]
                      ],
                      "sequentialminus": [
                        [
                          0,
                          "#0d0887"
                        ],
                        [
                          0.1111111111111111,
                          "#46039f"
                        ],
                        [
                          0.2222222222222222,
                          "#7201a8"
                        ],
                        [
                          0.3333333333333333,
                          "#9c179e"
                        ],
                        [
                          0.4444444444444444,
                          "#bd3786"
                        ],
                        [
                          0.5555555555555556,
                          "#d8576b"
                        ],
                        [
                          0.6666666666666666,
                          "#ed7953"
                        ],
                        [
                          0.7777777777777778,
                          "#fb9f3a"
                        ],
                        [
                          0.8888888888888888,
                          "#fdca26"
                        ],
                        [
                          1,
                          "#f0f921"
                        ]
                      ]
                    },
                    "colorway": [
                      "#636efa",
                      "#EF553B",
                      "#00cc96",
                      "#ab63fa",
                      "#FFA15A",
                      "#19d3f3",
                      "#FF6692",
                      "#B6E880",
                      "#FF97FF",
                      "#FECB52"
                    ],
                    "font": {
                      "color": "#f2f5fa"
                    },
                    "geo": {
                      "bgcolor": "rgb(17,17,17)",
                      "lakecolor": "rgb(17,17,17)",
                      "landcolor": "rgb(17,17,17)",
                      "showlakes": true,
                      "showland": true,
                      "subunitcolor": "#506784"
                    },
                    "hoverlabel": {
                      "align": "left"
                    },
                    "hovermode": "closest",
                    "mapbox": {
                      "style": "dark"
                    },
                    "paper_bgcolor": "rgb(17,17,17)",
                    "plot_bgcolor": "rgb(17,17,17)",
                    "polar": {
                      "angularaxis": {
                        "gridcolor": "#506784",
                        "linecolor": "#506784",
                        "ticks": ""
                      },
                      "bgcolor": "rgb(17,17,17)",
                      "radialaxis": {
                        "gridcolor": "#506784",
                        "linecolor": "#506784",
                        "ticks": ""
                      }
                    },
                    "scene": {
                      "xaxis": {
                        "backgroundcolor": "rgb(17,17,17)",
                        "gridcolor": "#506784",
                        "gridwidth": 2,
                        "linecolor": "#506784",
                        "showbackground": true,
                        "ticks": "",
                        "zerolinecolor": "#C8D4E3"
                      },
                      "yaxis": {
                        "backgroundcolor": "rgb(17,17,17)",
                        "gridcolor": "#506784",
                        "gridwidth": 2,
                        "linecolor": "#506784",
                        "showbackground": true,
                        "ticks": "",
                        "zerolinecolor": "#C8D4E3"
                      },
                      "zaxis": {
                        "backgroundcolor": "rgb(17,17,17)",
                        "gridcolor": "#506784",
                        "gridwidth": 2,
                        "linecolor": "#506784",
                        "showbackground": true,
                        "ticks": "",
                        "zerolinecolor": "#C8D4E3"
                      }
                    },
                    "shapedefaults": {
                      "line": {
                        "color": "#f2f5fa"
                      }
                    },
                    "sliderdefaults": {
                      "bgcolor": "#C8D4E3",
                      "bordercolor": "rgb(17,17,17)",
                      "borderwidth": 1,
                      "tickwidth": 0
                    },
                    "ternary": {
                      "aaxis": {
                        "gridcolor": "#506784",
                        "linecolor": "#506784",
                        "ticks": ""
                      },
                      "baxis": {
                        "gridcolor": "#506784",
                        "linecolor": "#506784",
                        "ticks": ""
                      },
                      "bgcolor": "rgb(17,17,17)",
                      "caxis": {
                        "gridcolor": "#506784",
                        "linecolor": "#506784",
                        "ticks": ""
                      }
                    },
                    "title": {
                      "x": 0.05
                    },
                    "updatemenudefaults": {
                      "bgcolor": "#506784",
                      "borderwidth": 0
                    },
                    "xaxis": {
                      "automargin": true,
                      "gridcolor": "#283442",
                      "linecolor": "#506784",
                      "ticks": "",
                      "title": {
                        "standoff": 15
                      },
                      "zerolinecolor": "#283442",
                      "zerolinewidth": 2
                    },
                    "yaxis": {
                      "automargin": true,
                      "gridcolor": "#283442",
                      "linecolor": "#506784",
                      "ticks": "",
                      "title": {
                        "standoff": 15
                      },
                      "zerolinecolor": "#283442",
                      "zerolinewidth": 2
                    }
                  }
                },
                "title": {
                  "text": "Distribución de precios online por cluster y tienda departamental"
                },
                "width": 900,
                "xaxis": {
                  "anchor": "y",
                  "domain": [
                    0,
                    1
                  ],
                  "title": {
                    "text": "Número de Clusters"
                  }
                },
                "yaxis": {
                  "anchor": "x",
                  "domain": [
                    0,
                    1
                  ],
                  "title": {
                    "text": "Precio Online"
                  }
                }
              }
            }
          },
          "metadata": {},
          "output_type": "display_data"
        }
      ],
      "source": [
        "fig1 = px.box(df_filtro_1, x = \"Número de Clusters\", y=\"Precio Online\",color=\"Tienda\",\n",
        "              title=\"Distribución de precios online por cluster y tienda departamental\",\n",
        "             height=400, width=900, points=\"all\",template=\"plotly_dark\") \n",
        "fig1.show()"
      ]
    },
    {
      "cell_type": "code",
      "execution_count": 8,
      "metadata": {
        "id": "-TAOiU_p-v4d"
      },
      "outputs": [],
      "source": [
        "df_filtro_clust_2 = df[df.cluster_predicted>2]\n",
        "df_filtro_2 = df_filtro_clust_2.rename(columns={'cluster_predicted': 'Número de Clusters'})"
      ]
    },
    {
      "cell_type": "code",
      "execution_count": 9,
      "metadata": {
        "colab": {
          "base_uri": "https://localhost:8080/",
          "height": 417
        },
        "id": "5HT2kYjT_DzL",
        "outputId": "846d82d3-26b1-4a6f-f544-2caa7514bcb0"
      },
      "outputs": [
        {
          "data": {
            "application/vnd.plotly.v1+json": {
              "config": {
                "plotlyServerURL": "https://plot.ly"
              },
              "data": [
                {
                  "alignmentgroup": "True",
                  "boxpoints": "all",
                  "hovertemplate": "Tienda=Oechsle<br>Número de Clusters=%{x}<br>Precio Online=%{y}<extra></extra>",
                  "legendgroup": "Oechsle",
                  "marker": {
                    "color": "#636efa"
                  },
                  "name": "Oechsle",
                  "notched": false,
                  "offsetgroup": "Oechsle",
                  "orientation": "v",
                  "showlegend": true,
                  "type": "box",
                  "x": [
                    3,
                    3,
                    3,
                    3,
                    3,
                    3,
                    3,
                    3,
                    3,
                    3,
                    3,
                    3,
                    3,
                    3,
                    3,
                    3,
                    4,
                    4,
                    4,
                    4,
                    4,
                    4,
                    4,
                    4,
                    4,
                    4,
                    4
                  ],
                  "x0": " ",
                  "xaxis": "x",
                  "y": [
                    3999,
                    3599,
                    3299,
                    2699,
                    2699,
                    2299,
                    2199,
                    2199,
                    2199,
                    2199,
                    1999,
                    1999,
                    1799,
                    1749,
                    1399,
                    1149,
                    3450,
                    2999,
                    2999,
                    2999,
                    2899,
                    2699,
                    2599,
                    2549,
                    2399,
                    2299,
                    1399
                  ],
                  "y0": " ",
                  "yaxis": "y"
                },
                {
                  "alignmentgroup": "True",
                  "boxpoints": "all",
                  "hovertemplate": "Tienda=Hiraoka<br>Número de Clusters=%{x}<br>Precio Online=%{y}<extra></extra>",
                  "legendgroup": "Hiraoka",
                  "marker": {
                    "color": "#EF553B"
                  },
                  "name": "Hiraoka",
                  "notched": false,
                  "offsetgroup": "Hiraoka",
                  "orientation": "v",
                  "showlegend": true,
                  "type": "box",
                  "x": [
                    3,
                    3,
                    3,
                    3,
                    3,
                    3,
                    3,
                    3,
                    3,
                    4,
                    4,
                    4,
                    4,
                    4,
                    4,
                    4
                  ],
                  "x0": " ",
                  "xaxis": "x",
                  "y": [
                    3499,
                    3399,
                    3349,
                    2799,
                    2399,
                    2399,
                    2399,
                    1799,
                    1299,
                    3599,
                    3099,
                    2999,
                    2899,
                    2899,
                    2799,
                    1599
                  ],
                  "y0": " ",
                  "yaxis": "y"
                },
                {
                  "alignmentgroup": "True",
                  "boxpoints": "all",
                  "hovertemplate": "Tienda=Plazavea<br>Número de Clusters=%{x}<br>Precio Online=%{y}<extra></extra>",
                  "legendgroup": "Plazavea",
                  "marker": {
                    "color": "#00cc96"
                  },
                  "name": "Plazavea",
                  "notched": false,
                  "offsetgroup": "Plazavea",
                  "orientation": "v",
                  "showlegend": true,
                  "type": "box",
                  "x": [
                    3,
                    3,
                    3,
                    3,
                    3,
                    3,
                    3,
                    4,
                    4,
                    4,
                    4,
                    4,
                    4,
                    4,
                    4,
                    4
                  ],
                  "x0": " ",
                  "xaxis": "x",
                  "y": [
                    3179,
                    2699,
                    2449,
                    2099,
                    1999,
                    1999,
                    1935,
                    4099,
                    3359,
                    2999,
                    2989,
                    2899,
                    2799,
                    2749,
                    2199,
                    1999
                  ],
                  "y0": " ",
                  "yaxis": "y"
                }
              ],
              "layout": {
                "boxmode": "group",
                "height": 400,
                "legend": {
                  "title": {
                    "text": "Tienda"
                  },
                  "tracegroupgap": 0
                },
                "template": {
                  "data": {
                    "bar": [
                      {
                        "error_x": {
                          "color": "#f2f5fa"
                        },
                        "error_y": {
                          "color": "#f2f5fa"
                        },
                        "marker": {
                          "line": {
                            "color": "rgb(17,17,17)",
                            "width": 0.5
                          },
                          "pattern": {
                            "fillmode": "overlay",
                            "size": 10,
                            "solidity": 0.2
                          }
                        },
                        "type": "bar"
                      }
                    ],
                    "barpolar": [
                      {
                        "marker": {
                          "line": {
                            "color": "rgb(17,17,17)",
                            "width": 0.5
                          },
                          "pattern": {
                            "fillmode": "overlay",
                            "size": 10,
                            "solidity": 0.2
                          }
                        },
                        "type": "barpolar"
                      }
                    ],
                    "carpet": [
                      {
                        "aaxis": {
                          "endlinecolor": "#A2B1C6",
                          "gridcolor": "#506784",
                          "linecolor": "#506784",
                          "minorgridcolor": "#506784",
                          "startlinecolor": "#A2B1C6"
                        },
                        "baxis": {
                          "endlinecolor": "#A2B1C6",
                          "gridcolor": "#506784",
                          "linecolor": "#506784",
                          "minorgridcolor": "#506784",
                          "startlinecolor": "#A2B1C6"
                        },
                        "type": "carpet"
                      }
                    ],
                    "choropleth": [
                      {
                        "colorbar": {
                          "outlinewidth": 0,
                          "ticks": ""
                        },
                        "type": "choropleth"
                      }
                    ],
                    "contour": [
                      {
                        "colorbar": {
                          "outlinewidth": 0,
                          "ticks": ""
                        },
                        "colorscale": [
                          [
                            0,
                            "#0d0887"
                          ],
                          [
                            0.1111111111111111,
                            "#46039f"
                          ],
                          [
                            0.2222222222222222,
                            "#7201a8"
                          ],
                          [
                            0.3333333333333333,
                            "#9c179e"
                          ],
                          [
                            0.4444444444444444,
                            "#bd3786"
                          ],
                          [
                            0.5555555555555556,
                            "#d8576b"
                          ],
                          [
                            0.6666666666666666,
                            "#ed7953"
                          ],
                          [
                            0.7777777777777778,
                            "#fb9f3a"
                          ],
                          [
                            0.8888888888888888,
                            "#fdca26"
                          ],
                          [
                            1,
                            "#f0f921"
                          ]
                        ],
                        "type": "contour"
                      }
                    ],
                    "contourcarpet": [
                      {
                        "colorbar": {
                          "outlinewidth": 0,
                          "ticks": ""
                        },
                        "type": "contourcarpet"
                      }
                    ],
                    "heatmap": [
                      {
                        "colorbar": {
                          "outlinewidth": 0,
                          "ticks": ""
                        },
                        "colorscale": [
                          [
                            0,
                            "#0d0887"
                          ],
                          [
                            0.1111111111111111,
                            "#46039f"
                          ],
                          [
                            0.2222222222222222,
                            "#7201a8"
                          ],
                          [
                            0.3333333333333333,
                            "#9c179e"
                          ],
                          [
                            0.4444444444444444,
                            "#bd3786"
                          ],
                          [
                            0.5555555555555556,
                            "#d8576b"
                          ],
                          [
                            0.6666666666666666,
                            "#ed7953"
                          ],
                          [
                            0.7777777777777778,
                            "#fb9f3a"
                          ],
                          [
                            0.8888888888888888,
                            "#fdca26"
                          ],
                          [
                            1,
                            "#f0f921"
                          ]
                        ],
                        "type": "heatmap"
                      }
                    ],
                    "heatmapgl": [
                      {
                        "colorbar": {
                          "outlinewidth": 0,
                          "ticks": ""
                        },
                        "colorscale": [
                          [
                            0,
                            "#0d0887"
                          ],
                          [
                            0.1111111111111111,
                            "#46039f"
                          ],
                          [
                            0.2222222222222222,
                            "#7201a8"
                          ],
                          [
                            0.3333333333333333,
                            "#9c179e"
                          ],
                          [
                            0.4444444444444444,
                            "#bd3786"
                          ],
                          [
                            0.5555555555555556,
                            "#d8576b"
                          ],
                          [
                            0.6666666666666666,
                            "#ed7953"
                          ],
                          [
                            0.7777777777777778,
                            "#fb9f3a"
                          ],
                          [
                            0.8888888888888888,
                            "#fdca26"
                          ],
                          [
                            1,
                            "#f0f921"
                          ]
                        ],
                        "type": "heatmapgl"
                      }
                    ],
                    "histogram": [
                      {
                        "marker": {
                          "pattern": {
                            "fillmode": "overlay",
                            "size": 10,
                            "solidity": 0.2
                          }
                        },
                        "type": "histogram"
                      }
                    ],
                    "histogram2d": [
                      {
                        "colorbar": {
                          "outlinewidth": 0,
                          "ticks": ""
                        },
                        "colorscale": [
                          [
                            0,
                            "#0d0887"
                          ],
                          [
                            0.1111111111111111,
                            "#46039f"
                          ],
                          [
                            0.2222222222222222,
                            "#7201a8"
                          ],
                          [
                            0.3333333333333333,
                            "#9c179e"
                          ],
                          [
                            0.4444444444444444,
                            "#bd3786"
                          ],
                          [
                            0.5555555555555556,
                            "#d8576b"
                          ],
                          [
                            0.6666666666666666,
                            "#ed7953"
                          ],
                          [
                            0.7777777777777778,
                            "#fb9f3a"
                          ],
                          [
                            0.8888888888888888,
                            "#fdca26"
                          ],
                          [
                            1,
                            "#f0f921"
                          ]
                        ],
                        "type": "histogram2d"
                      }
                    ],
                    "histogram2dcontour": [
                      {
                        "colorbar": {
                          "outlinewidth": 0,
                          "ticks": ""
                        },
                        "colorscale": [
                          [
                            0,
                            "#0d0887"
                          ],
                          [
                            0.1111111111111111,
                            "#46039f"
                          ],
                          [
                            0.2222222222222222,
                            "#7201a8"
                          ],
                          [
                            0.3333333333333333,
                            "#9c179e"
                          ],
                          [
                            0.4444444444444444,
                            "#bd3786"
                          ],
                          [
                            0.5555555555555556,
                            "#d8576b"
                          ],
                          [
                            0.6666666666666666,
                            "#ed7953"
                          ],
                          [
                            0.7777777777777778,
                            "#fb9f3a"
                          ],
                          [
                            0.8888888888888888,
                            "#fdca26"
                          ],
                          [
                            1,
                            "#f0f921"
                          ]
                        ],
                        "type": "histogram2dcontour"
                      }
                    ],
                    "mesh3d": [
                      {
                        "colorbar": {
                          "outlinewidth": 0,
                          "ticks": ""
                        },
                        "type": "mesh3d"
                      }
                    ],
                    "parcoords": [
                      {
                        "line": {
                          "colorbar": {
                            "outlinewidth": 0,
                            "ticks": ""
                          }
                        },
                        "type": "parcoords"
                      }
                    ],
                    "pie": [
                      {
                        "automargin": true,
                        "type": "pie"
                      }
                    ],
                    "scatter": [
                      {
                        "marker": {
                          "line": {
                            "color": "#283442"
                          }
                        },
                        "type": "scatter"
                      }
                    ],
                    "scatter3d": [
                      {
                        "line": {
                          "colorbar": {
                            "outlinewidth": 0,
                            "ticks": ""
                          }
                        },
                        "marker": {
                          "colorbar": {
                            "outlinewidth": 0,
                            "ticks": ""
                          }
                        },
                        "type": "scatter3d"
                      }
                    ],
                    "scattercarpet": [
                      {
                        "marker": {
                          "colorbar": {
                            "outlinewidth": 0,
                            "ticks": ""
                          }
                        },
                        "type": "scattercarpet"
                      }
                    ],
                    "scattergeo": [
                      {
                        "marker": {
                          "colorbar": {
                            "outlinewidth": 0,
                            "ticks": ""
                          }
                        },
                        "type": "scattergeo"
                      }
                    ],
                    "scattergl": [
                      {
                        "marker": {
                          "line": {
                            "color": "#283442"
                          }
                        },
                        "type": "scattergl"
                      }
                    ],
                    "scattermapbox": [
                      {
                        "marker": {
                          "colorbar": {
                            "outlinewidth": 0,
                            "ticks": ""
                          }
                        },
                        "type": "scattermapbox"
                      }
                    ],
                    "scatterpolar": [
                      {
                        "marker": {
                          "colorbar": {
                            "outlinewidth": 0,
                            "ticks": ""
                          }
                        },
                        "type": "scatterpolar"
                      }
                    ],
                    "scatterpolargl": [
                      {
                        "marker": {
                          "colorbar": {
                            "outlinewidth": 0,
                            "ticks": ""
                          }
                        },
                        "type": "scatterpolargl"
                      }
                    ],
                    "scatterternary": [
                      {
                        "marker": {
                          "colorbar": {
                            "outlinewidth": 0,
                            "ticks": ""
                          }
                        },
                        "type": "scatterternary"
                      }
                    ],
                    "surface": [
                      {
                        "colorbar": {
                          "outlinewidth": 0,
                          "ticks": ""
                        },
                        "colorscale": [
                          [
                            0,
                            "#0d0887"
                          ],
                          [
                            0.1111111111111111,
                            "#46039f"
                          ],
                          [
                            0.2222222222222222,
                            "#7201a8"
                          ],
                          [
                            0.3333333333333333,
                            "#9c179e"
                          ],
                          [
                            0.4444444444444444,
                            "#bd3786"
                          ],
                          [
                            0.5555555555555556,
                            "#d8576b"
                          ],
                          [
                            0.6666666666666666,
                            "#ed7953"
                          ],
                          [
                            0.7777777777777778,
                            "#fb9f3a"
                          ],
                          [
                            0.8888888888888888,
                            "#fdca26"
                          ],
                          [
                            1,
                            "#f0f921"
                          ]
                        ],
                        "type": "surface"
                      }
                    ],
                    "table": [
                      {
                        "cells": {
                          "fill": {
                            "color": "#506784"
                          },
                          "line": {
                            "color": "rgb(17,17,17)"
                          }
                        },
                        "header": {
                          "fill": {
                            "color": "#2a3f5f"
                          },
                          "line": {
                            "color": "rgb(17,17,17)"
                          }
                        },
                        "type": "table"
                      }
                    ]
                  },
                  "layout": {
                    "annotationdefaults": {
                      "arrowcolor": "#f2f5fa",
                      "arrowhead": 0,
                      "arrowwidth": 1
                    },
                    "autotypenumbers": "strict",
                    "coloraxis": {
                      "colorbar": {
                        "outlinewidth": 0,
                        "ticks": ""
                      }
                    },
                    "colorscale": {
                      "diverging": [
                        [
                          0,
                          "#8e0152"
                        ],
                        [
                          0.1,
                          "#c51b7d"
                        ],
                        [
                          0.2,
                          "#de77ae"
                        ],
                        [
                          0.3,
                          "#f1b6da"
                        ],
                        [
                          0.4,
                          "#fde0ef"
                        ],
                        [
                          0.5,
                          "#f7f7f7"
                        ],
                        [
                          0.6,
                          "#e6f5d0"
                        ],
                        [
                          0.7,
                          "#b8e186"
                        ],
                        [
                          0.8,
                          "#7fbc41"
                        ],
                        [
                          0.9,
                          "#4d9221"
                        ],
                        [
                          1,
                          "#276419"
                        ]
                      ],
                      "sequential": [
                        [
                          0,
                          "#0d0887"
                        ],
                        [
                          0.1111111111111111,
                          "#46039f"
                        ],
                        [
                          0.2222222222222222,
                          "#7201a8"
                        ],
                        [
                          0.3333333333333333,
                          "#9c179e"
                        ],
                        [
                          0.4444444444444444,
                          "#bd3786"
                        ],
                        [
                          0.5555555555555556,
                          "#d8576b"
                        ],
                        [
                          0.6666666666666666,
                          "#ed7953"
                        ],
                        [
                          0.7777777777777778,
                          "#fb9f3a"
                        ],
                        [
                          0.8888888888888888,
                          "#fdca26"
                        ],
                        [
                          1,
                          "#f0f921"
                        ]
                      ],
                      "sequentialminus": [
                        [
                          0,
                          "#0d0887"
                        ],
                        [
                          0.1111111111111111,
                          "#46039f"
                        ],
                        [
                          0.2222222222222222,
                          "#7201a8"
                        ],
                        [
                          0.3333333333333333,
                          "#9c179e"
                        ],
                        [
                          0.4444444444444444,
                          "#bd3786"
                        ],
                        [
                          0.5555555555555556,
                          "#d8576b"
                        ],
                        [
                          0.6666666666666666,
                          "#ed7953"
                        ],
                        [
                          0.7777777777777778,
                          "#fb9f3a"
                        ],
                        [
                          0.8888888888888888,
                          "#fdca26"
                        ],
                        [
                          1,
                          "#f0f921"
                        ]
                      ]
                    },
                    "colorway": [
                      "#636efa",
                      "#EF553B",
                      "#00cc96",
                      "#ab63fa",
                      "#FFA15A",
                      "#19d3f3",
                      "#FF6692",
                      "#B6E880",
                      "#FF97FF",
                      "#FECB52"
                    ],
                    "font": {
                      "color": "#f2f5fa"
                    },
                    "geo": {
                      "bgcolor": "rgb(17,17,17)",
                      "lakecolor": "rgb(17,17,17)",
                      "landcolor": "rgb(17,17,17)",
                      "showlakes": true,
                      "showland": true,
                      "subunitcolor": "#506784"
                    },
                    "hoverlabel": {
                      "align": "left"
                    },
                    "hovermode": "closest",
                    "mapbox": {
                      "style": "dark"
                    },
                    "paper_bgcolor": "rgb(17,17,17)",
                    "plot_bgcolor": "rgb(17,17,17)",
                    "polar": {
                      "angularaxis": {
                        "gridcolor": "#506784",
                        "linecolor": "#506784",
                        "ticks": ""
                      },
                      "bgcolor": "rgb(17,17,17)",
                      "radialaxis": {
                        "gridcolor": "#506784",
                        "linecolor": "#506784",
                        "ticks": ""
                      }
                    },
                    "scene": {
                      "xaxis": {
                        "backgroundcolor": "rgb(17,17,17)",
                        "gridcolor": "#506784",
                        "gridwidth": 2,
                        "linecolor": "#506784",
                        "showbackground": true,
                        "ticks": "",
                        "zerolinecolor": "#C8D4E3"
                      },
                      "yaxis": {
                        "backgroundcolor": "rgb(17,17,17)",
                        "gridcolor": "#506784",
                        "gridwidth": 2,
                        "linecolor": "#506784",
                        "showbackground": true,
                        "ticks": "",
                        "zerolinecolor": "#C8D4E3"
                      },
                      "zaxis": {
                        "backgroundcolor": "rgb(17,17,17)",
                        "gridcolor": "#506784",
                        "gridwidth": 2,
                        "linecolor": "#506784",
                        "showbackground": true,
                        "ticks": "",
                        "zerolinecolor": "#C8D4E3"
                      }
                    },
                    "shapedefaults": {
                      "line": {
                        "color": "#f2f5fa"
                      }
                    },
                    "sliderdefaults": {
                      "bgcolor": "#C8D4E3",
                      "bordercolor": "rgb(17,17,17)",
                      "borderwidth": 1,
                      "tickwidth": 0
                    },
                    "ternary": {
                      "aaxis": {
                        "gridcolor": "#506784",
                        "linecolor": "#506784",
                        "ticks": ""
                      },
                      "baxis": {
                        "gridcolor": "#506784",
                        "linecolor": "#506784",
                        "ticks": ""
                      },
                      "bgcolor": "rgb(17,17,17)",
                      "caxis": {
                        "gridcolor": "#506784",
                        "linecolor": "#506784",
                        "ticks": ""
                      }
                    },
                    "title": {
                      "x": 0.05
                    },
                    "updatemenudefaults": {
                      "bgcolor": "#506784",
                      "borderwidth": 0
                    },
                    "xaxis": {
                      "automargin": true,
                      "gridcolor": "#283442",
                      "linecolor": "#506784",
                      "ticks": "",
                      "title": {
                        "standoff": 15
                      },
                      "zerolinecolor": "#283442",
                      "zerolinewidth": 2
                    },
                    "yaxis": {
                      "automargin": true,
                      "gridcolor": "#283442",
                      "linecolor": "#506784",
                      "ticks": "",
                      "title": {
                        "standoff": 15
                      },
                      "zerolinecolor": "#283442",
                      "zerolinewidth": 2
                    }
                  }
                },
                "title": {
                  "text": "Distribución de precios online por cluster y tienda departamental"
                },
                "width": 900,
                "xaxis": {
                  "anchor": "y",
                  "domain": [
                    0,
                    1
                  ],
                  "title": {
                    "text": "Número de Clusters"
                  }
                },
                "yaxis": {
                  "anchor": "x",
                  "domain": [
                    0,
                    1
                  ],
                  "title": {
                    "text": "Precio Online"
                  }
                }
              }
            }
          },
          "metadata": {},
          "output_type": "display_data"
        }
      ],
      "source": [
        "fig2 = px.box(df_filtro_2, x = \"Número de Clusters\", y=\"Precio Online\",color=\"Tienda\",\n",
        "              title=\"Distribución de precios online por cluster y tienda departamental\",\n",
        "             height=400, width=900, points=\"all\",template=\"plotly_dark\") \n",
        "fig2.show()"
      ]
    }
  ],
  "metadata": {
    "colab": {
      "name": "Dashboard Proyecto MEM.ipynb",
      "provenance": []
    },
    "kernelspec": {
      "display_name": "Python 3.8.8 ('Cluster_env': venv)",
      "language": "python",
      "name": "python3"
    },
    "language_info": {
      "codemirror_mode": {
        "name": "ipython",
        "version": 3
      },
      "file_extension": ".py",
      "mimetype": "text/x-python",
      "name": "python",
      "nbconvert_exporter": "python",
      "pygments_lexer": "ipython3",
      "version": "3.8.8"
    },
    "vscode": {
      "interpreter": {
        "hash": "3b35688c9f0b11d6eaf5e6350fe77d997b52effe42c6682e91d13176385f03ba"
      }
    }
  },
  "nbformat": 4,
  "nbformat_minor": 0
}
